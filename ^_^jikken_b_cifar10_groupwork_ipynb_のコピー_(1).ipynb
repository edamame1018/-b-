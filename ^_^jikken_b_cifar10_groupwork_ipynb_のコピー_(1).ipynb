{
  "cells": [
    {
      "cell_type": "markdown",
      "metadata": {
        "id": "view-in-github",
        "colab_type": "text"
      },
      "source": [
        "<a href=\"https://colab.research.google.com/github/edamame1018/-competition-/blob/main/%5E_%5Ejikken_b_cifar10_groupwork_ipynb_%E3%81%AE%E3%82%B3%E3%83%94%E3%83%BC_(1).ipynb\" target=\"_parent\"><img src=\"https://colab.research.google.com/assets/colab-badge.svg\" alt=\"Open In Colab\"/></a>"
      ]
    },
    {
      "cell_type": "markdown",
      "id": "encouraging-breeding",
      "metadata": {
        "id": "encouraging-breeding"
      },
      "source": [
        "# CNNによる一般画像認識（グループワーク作業用）"
      ]
    },
    {
      "cell_type": "markdown",
      "id": "LQzwzLLUDrfw",
      "metadata": {
        "id": "LQzwzLLUDrfw"
      },
      "source": [
        "## このノートブックの目的\n",
        "このノートブックは，グループワークの作業用です．自己学習用ノートブックは一つ一つの要素を学習するために作られていますが，このノートブックは，グループワークの作業を行うためのものです．\n",
        "\n"
      ]
    },
    {
      "cell_type": "markdown",
      "id": "QBQfUNGwLvvA",
      "metadata": {
        "id": "QBQfUNGwLvvA"
      },
      "source": [
        "## Google Colabの設定\n",
        "\n",
        "Google Colabのメニューで，「ランタイム」→「ランタイムのタイプを変更」を選び，「**ハードウエアアクセラレータ**」を「**T4 GPU**」にして保存してください．"
      ]
    },
    {
      "cell_type": "markdown",
      "source": [
        "![タイトルなし.jpg](data:image/jpeg;base64,/9j/4AAQSkZJRgABAQAAAQABAAD/2wBDAAMCAgICAgMCAgIDAwMDBAYEBAQEBAgGBgUGCQgKCgkICQkKDA8MCgsOCwkJDRENDg8QEBEQCgwSExIQEw8QEBD/2wBDAQMDAwQDBAgEBAgQCwkLEBAQEBAQEBAQEBAQEBAQEBAQEBAQEBAQEBAQEBAQEBAQEBAQEBAQEBAQEBAQEBAQEBD/wAARCAErAZADASIAAhEBAxEB/8QAHwAAAQUBAQEBAQEAAAAAAAAAAAECAwQFBgcICQoL/8QAtRAAAgEDAwIEAwUFBAQAAAF9AQIDAAQRBRIhMUEGE1FhByJxFDKBkaEII0KxwRVS0fAkM2JyggkKFhcYGRolJicoKSo0NTY3ODk6Q0RFRkdISUpTVFVWV1hZWmNkZWZnaGlqc3R1dnd4eXqDhIWGh4iJipKTlJWWl5iZmqKjpKWmp6ipqrKztLW2t7i5usLDxMXGx8jJytLT1NXW19jZ2uHi4+Tl5ufo6erx8vP09fb3+Pn6/8QAHwEAAwEBAQEBAQEBAQAAAAAAAAECAwQFBgcICQoL/8QAtREAAgECBAQDBAcFBAQAAQJ3AAECAxEEBSExBhJBUQdhcRMiMoEIFEKRobHBCSMzUvAVYnLRChYkNOEl8RcYGRomJygpKjU2Nzg5OkNERUZHSElKU1RVVldYWVpjZGVmZ2hpanN0dXZ3eHl6goOEhYaHiImKkpOUlZaXmJmaoqOkpaanqKmqsrO0tba3uLm6wsPExcbHyMnK0tPU1dbX2Nna4uPk5ebn6Onq8vP09fb3+Pn6/9oADAMBAAIRAxEAPwD7Kt/2KvAVrBHbWnirXYIIlCRxRR2yIijoqqIsAD0HFSf8MY+Cf+hx8Q/lb/8AxuvoMdB/jQO/+NeA+F8obu6C+9/5nuriXNYqyrP7l/keF6J+yT4O0O9N7D4q12VzG0YEghwMkc8IOeMfia3f+Gd/DmP+Rh1b8ov/AIivV+//ANejt+PrWM+DsjqPmlh036y/zM58QZnN3lVf4f5HlH/DO/hz/oYdW/KL/wCIo/4Z38Of9DDq35Rf/EV6x/nrSD/PNR/qXkP/AEDL75f5k/27mP8Az9f4f5HlA/Z38OZP/FQ6t+UX/wARR/wzv4c/6GHVvyi/+Ir1cdT/AI0Ht/jR/qXkP/QMvvl/mH9u5j/z9f4f5HlB/Z38Of8AQw6t+UX/AMRR/wAM7+HM/wDIw6t+UX/xFernof8AGjv/APXo/wBS8h/6Bl98v8w/t3Mf+fr/AA/yPKP+Gd/Dn/Qw6t+UX/xFH/DO/hz/AKGHVvyi/wDiK9XHf/Gjv/8AXo/1LyH/AKBl98v8w/t3Mf8An6/w/wAjyg/s7+HP+hh1b8ov/iKP+Gd/Dn/Qw6t+UX/xFernqP8AGl/z1o/1LyH/AKBl98v8w/t3Mf8An6/w/wAjyf8A4Z38Of8AQw6t+UX/AMRR/wAM7+HM/wDIw6t+UX/xFerjoP8AGjv/APXo/wBS8h/6Bl98v8w/t3Mf+fr/AA/yPKP+Gd/Dn/Qw6t+UX/xFB/Z38Of9DDq35Rf/ABFernt/jQeh/wAaP9S8h/6Bl98v8w/t3Mf+fr/D/I8o/wCGd/Dn/Qw6t+UX/wARR/wzv4c/6GHVvyi/+Ir1c/55oH+eaP8AUvIf+gZffL/MP7dzH/n6/wAP8jyj/hnfw5/0MOrflF/8RQf2d/Dg/wCZh1b8ov8A4ivV+/8A9ehun/16P9S8h/6Bl98v8w/t3Mf+fr/D/I8o/wCGd/Dn/Qw6t+UX/wARQP2d/Dn/AEMOrflF/wDEV6x/nrSDoP8AGj/UvIf+gZffL/MP7dzH/n6/w/yPKP8Ahnfw5/0MOrflF/8AEUf8M7+HMD/iodW/KL/4ivVx3/xo7D/Gj/UvIf8AoGX3y/zD+3cx/wCfr/D/ACPKD+zv4c/6GHVvyi/+Io/4Z38Of9DDq35Rf/EV6ueh/wAaX/PWj/UvIf8AoGX3y/zD+3cx/wCfr/D/ACPJx+zv4c/6GHVvyi/+Io/4Z38OZ/5GHVvyi/8AiK9XH+eaO/8A9ej/AFLyH/oGX3y/zD+3cx/5+v8AD/I8o/4Z38Of9DDq35Rf/EUf8M7+HP8AoYdW/KL/AOIr1c/55oHf/Gj/AFLyH/oGX3y/zD+3cx/5+v8AD/I8o/4Z38Of9DDq35Rf/EUf8M7+HP8AoYdW/KL/AOIr1cdB/jQO/wDjR/qXkP8A0DL75f5h/buY/wDP1/h/keUf8M7+HM/8jDq35Rf/ABFB/Z38Of8AQw6t+UX/AMRXq/8AF+HrQeh/xo/1LyH/AKBl98v8w/t3Mf8An6/w/wAjyj/hnfw5/wBDDq35Rf8AxFH/AAzv4c/6GHVvyi/+Ir1j/PWkHX8+9H+peQ/9Ay++X+Yf27mP/P1/h/keUf8ADO/hz/oYdW/KL/4ij/hnfw5/0MOrflF/8RXq/f8A+vQe3+NH+peQ/wDQMvvl/mH9u5j/AM/X+H+R5R/wzv4c/wChh1b8ov8A4iqup/s0eGtU0+awfxPrMSTgKzIIt2Mgkfc74x9Ca9hPb/GgdB/jTXBmRRd1hl98v8wWfZindVX+H+R8+f8ADGPgo/8AM4+Ifyt//jdH/DGXgkf8zj4h/K3/APjdfQY7/wCNB6j/ABrf/VbJ/wDnwvvf+Zt/rNm3/P5/cv8AI+fP+GMfBP8A0OPiH8rf/wCN0f8ADGPgn/ocfEP5W/8A8br6E/z1o/z1o/1Wyf8A58L73/mH+s2bf8/39y/yPnv/AIYy8E4z/wAJj4h/K3/+N0f8MY+Cf+hx8Q/lb/8AxuvoPsfx70d//r0f6rZP/wA+F97/AMw/1mzb/n+/w/yPnz/hjHwT/wBDj4h/K3/+N05P2NfBsTiSLxr4jR1OQy+QCD9fLr6BPb/Gl/z1prhfKE7qgvvf+YPibNWrOs/uX+QA8D/CjPX/AApAeB/jQD14/WvfPCOO8afEW98H6lDp9v8ADXxl4iWaDzjc6LZwSwxncRsYyTIQ3GcYIwRzUHhL4nX3irWV0if4WeONBRo3k+26vY28VuCuPlLRzu2454+XHB5rC+LnhX4GpfJ4v+LXjSfw4ZoRbpPP48v9EtmWPLHCRXUURIDEswXOMZPAxwXw28H+EvE/xZ8P+M/g5qPi9vBPhmC9uLzWrzxNrF3Ya/eTRGCC3tEu7h4ru2jjkmne5RDH5gtRFI5E4jAPXj8YvANv48Pw11jVZtF1+aXytOg1azlsotXOxXb7BPKqxXhUN8yQszpg7lAwT2oP+cV5t42+OHwP0K/fwx4h8W6Tq+uWU8co8OaZC2s6us0bh0ddPtVlucowVt4j+Q7SSODVXwnZ/F/xvfaz4y8U3l94AtbvTJ9K8O+HY3tbu6sDIQTqd8w8yB7vciCOBGkiiQPueVpmWIAPFn7RHhDwh8Rpvh5c6D4t1Z7HTVvdTvvD/hjUdbi0+eRl+z2ky2EEzRyyRiSXDhdqLGTkSpnpvh98UvB/xQg1WfwlLq+7Q74adqNvqug3+k3NtcmCOcI8F7DFIMxTwuDtwVkU55rwjxAnhn4Yzz+F/wBnn4meItY+JdoWbUvDtgYNe/tfUHfe11rySFBZs+9s3BuLIlEjiRmWGGAeoeCvht8Q/C/w4vLSHxhodl8QfE2pSa74h1r+y5b6z+2zsvmpbwtNE3lxQJHbQM7EiOCJpFc7gwB2/jbxx4X+Hnh6fxP4v1ZLCwhZIlOxpJZ5nO2OCGJAZJppGIRIo1Z3YhVUkgVa8M6rqGu+H9O1nVPD95oV3e20c82mXrxvPZuwyYpGiZoyy9DtZhnoTXz3rvw2t/CP7SHwZ1nWvGfiTxdrt5L4iVtQ169R/LVdNPy29rCkdpbcEgtDCjsOHZ66/wDaf+LuheAPBD+D4vH+keGvFnjUpo2jz3WoRW8tjHO4in1MB2GEtYmeYE4VpEjiB3yICAei/D3x5o3xL8KW/jTw7Ddppd9cXcVpJcxBDcxQ3EkK3KAMcwzCLzYmzlopI2IUkqIfHHxL8JfD3+z4fEN5cvqGsSPDpml6fZTXt/fugBfybaBWkdUBBd9uyMEM7KvNeFeMPjd8PfhroPhHVvg/quv3/hz4fxR6ZqWg6P4c1O+sJtA8uOJ5POitnSKS0SKOaOVnCFI5omK+d5keh4k8a3nhj4l+PPEGjeHdS8Q+L/FGg6XZ/Di4tNPnutOurN4n2x/ao1aGFFvZJZrmRmGIGtnbcFiAAO/8BftDeBfH0miwJYeIvD8viWITaJ/bukS2kOpqUaQLb3HzQPKY0kkEAk87ZG77Nqlho/Ff4x6D8JhoMOo6TrOs33iDUBaW+naLptxqF6tug3XN39mtkkmeGFCC7IjfNJEnBkWvKfEN14Il8E+Cv2Wfhj4gi8W+IvDGp+F7S9Omstx/YdvpF9aTy3eouhKWcmyyfy45CHlmwiqwEjJq/EPQ/hd4G8Q33iHxh8cvEek/EHxHcGbSLjTp4bjXBYRu/l6bpulpbzfabdBIxeMW0zSOBLIWeONowDvvCHx18AeNvFMXgrSYvFllrNxY3GpQW+ueDNZ0YTW0DwpM8b31rEj7GuIAQrEjzF45rvLq6trK3lvb25it7e3jaWWWVgiRooJZmY8AAAkk9K8W+CHhP4tatfah8W/jK1jbeKLjTToPh20NgIX07S1laUzXcEdzNGLu4k8lpkimMe22twuxt4HA/tPfCjW5Pgj4g8TfFT4o6x4svLWTT2j02FF0rQYXa/t1OLGElp1weFvJroA8rg0Ae16F8YrTxR4O1Px94Z8GeI9X0S3u0h0iWyt4mk163JjU3lnG8ilrfc77ZH2iRIjLHvjeNnxtT/aDl0bTbvWNV+CHxOtrKwt5Lq5mfTLQLFFGpZ2P+ldAoJr0vXNd0Tw1pdxrviPWLHStNtAHuLy+uUgghUkAF5HIVRkgcnqRXiHj/wAfWf7Rvhu++EnwVlm1vQvE0b6X4k8Z2gI0iw0mQbbtbO7YeXe3csRlhjFuZEhdjJMybFSUA7Dwz8ZU/wCFead4/wDH2l3mmWuszQf2cLLSry5kljnt1nQNBHG8yFCZIS7KFcw+YAiyogzfhz+1J8M/iPa6dPpy6/bPrV9NbaZ5nh/UGiu7f7S8VtdrOIPKEU8axzozMAElXcQQcdT8V9Bv9X8BahomnX2padpP2OcanHoUO7VLiySFt1pYEECGWTAQSDLqpIj2SMk0Xyt8OpPh5dalY6z4z/aE0my+HWueGGvbzRtL+KdxHpumXMckX2W2a4nvftkrLby3CSunkW0iwRhrdCqggH0Z8Yfj7b/By88nUPhp4o1+2XRrzXZLvSb/AEWNUtbQFrs+Te39vcP5KeWzskTIPOiG4s20cx4O/aZ8V6prtv4I8Yfs++L9H8RnVE0q5jXWPDpt4pZYnuogu7VBLMws0M7rFG7ARy7Q2yuV/aT1vwLoFnDaeDNZ8A6T4hvdK0+Sxutc8QWEUV1bQyM1lFbWctxG2oSoRK9tbTSwWTSy+ZJIWXjl/gx4m0fWPiD4k0D4peJvBSaT4nnttbmtfE2j6p4c8QajrKvbPay2dnq2q3NxHbW5UKjJHCizKgtwQC9AHovxh/a7svg1qniPT9f0jwa0mgWsl8thL4/sLbVryBYjInlWEi+aZJApEcfVjgA81ufCj9pK2+K3jCPwpo0fgO8C20t3dPofxBsNYuLeBMKJTbQLvKGR40LcAGRc9cV8/ftoeHb6Lxn4m0Tw945uLjUfiXpBs30LTbXVbye1VbZbUy3Vvp+sRH7Lsd5XuJNMuYkVWSQyFoYH9T/Zz8D6bN8RR8S7H9o3wr8RUstDvdES10a71O6aE3Fzayu7yX+s6iYyps9pRFiJLneWKKAAfTWev+FJk8f4UA9eP1pM8Dj9aAHE8H/Cj/PSkJ4PH60Z/wA5oAUH/OKM8/8A1qQH2/WjPPT9aAFJ/wA4oz1/wpCfb9aAevH60AKDwP8ACjPX/CkB4HH60A9eP1oAM8/h6UpPB/wpP4unb1oJ4PH60AL/AJ6UgJz+fajP+c0gPPT170AOzz/9agnp/hSZ56frQT04/WgBSen+FAPA/wAKQnpx+tAPA4/WgBc9f8KQk5/+tQD14/WkJ5HH60AO/wA9KP8APSkz/nNGf85oAMnB/wAKXPP/ANam54PHr3pc89P1oAUnp/hR/npSE9OP1oz/AJzQAAjHWjI55oHQf40Dv/jQBDcWVjdywTXVpDNJbMZIXkjDNE3TcpI+U47ipsjHU9aO/wD9ejt+PrQAyKC3gMhghjjMrmSQooG9yACxx1OAOfangj1pf89aQf55oAbGkcZYRqq7m3HaAMk9T9acSOOaB1P+NB7f40ARyQW8kkc8kKNJDny3ZAWTIwcHtkVJkZ60Hof8aO//ANegAO1gVbkHggigbRgA4AHAAoHf/Gjv/wDXoAZHDBApSCNI1ZmchFABZjljx3JJJPck07ZHvMu0byNpbHOPTNKev/16X/PWgBARgc1HcQW91G0F1Ek0TY3JIgZTjkZB9xUg6D/Gjv8A/XoAjuILe6iMF1Ck0TEbkkQMpxyMg+4BqQkYPNB7f40Hof8AGgAJHrWbceGfDV5e/wBp3fh/TZ7zIP2iS0jaXI6fMRmtI/55oH+eaAIltbRLk3iW8SztGIjKEAcoCSFLYzgEkgdOTS3NvbXUYjuYY5kV1kCyIGAZSGVsHuCAQexAqTv/APXobp/9egDO0jw34b0Ce/utC0HTdNm1W5a8v5LS0jha7nPWWUqAZHPdmyfeq174J8Fan4hsPF+peEdFu9d0ss1jqk+nxSXdqWQoximK70JRmU7SMqxHQ1t/560g6D/GgAyOeaMjjk0Dv/jR2H+NAASMHmlyPWkPQ/40v+etACAj1oyM9aB/nmjv/wDXoACR60ZHPNB/zzQO/wDjQAAjA5oyOeaB0H+NA7/40AGRnr2oJGDzR/F+HrQeh/xoAXI9aQEZ6nvS/wCetIOv596ADIz1oJHHNHf/AOvQe3+NAASOOaARgc0Ht/jQOg/xoAMjnmgkZ6mgd/8AGg9f/r0ALketGR60f560f560AJkYPJoyM9aOx/HvR3/+vQAEjjmlyPWkPb/Gl/z1oAQdOpo9eTQOnUfnQO/I/OgDwf4s6H+0beeMr6/8BeLde0nw5HDF5QtNf0K2gXEYMjlLzQ7uVPm3ZzOw4yAoOAz4W+JPi38VPgH4Q+IvgXxfcW+uM97dLD4st7W5g8Q2wmnjhFxNZW1v5McqrHJDcW8S7UaN3in+ZH9G8dfBz4f/ABLv4Lzx1pt/rEEMSwtpc+s3o0q4RXLgXGnrMLS45JyZYnJGFOQAKt+Mfhl4P8d6bZaN4ht9Q/s6wysdlYaxeafbSIVC+XNFbSxpPHgACOUMg7AUAcReftFJJP4q0rwd8PNe8aap4QitLG+/4R4rcWD+IJ5PLOkJdPsG+ElHnmZFit43DSlGyg8i+FXxL+O6fGnw/wDCDxN4v1/Uta099Q1rx/Y3vhmCOwstOaOY28un3cRZpYJrxkjtkZjOIIZPNRGTbX1Pp3hDwzonhdfBfh3RrXQ9Eitns4LLR1+wR20TAgiDyNhhPzEgxlSDyCDzVHwF8NvA3wy0ufSfAvhu00qG7nN1eSoWkuL24IAae5nkLS3EpAAMkrM5wMnigDwrx38YfGnxW8f+Evgf4P0Lxh8PtC8arfXk/i/UbVtO1O5sdP8AJe5t9PtJCtzaPJ50cZubmONkUuYo3YrKnX/GX4jeKNK+K/gfwR4MTVLsadp+s+OfE1hpCxSX17pdjbGC3sYo5cKz3N5dw7BuTP2aQb1wTXpmqeBfC2t+MdB8e6nppm13wxBe2ulXQuZUFvFeCIXCmNWCPuEEXLqxXb8uMnPL6x+z78Ndc8Y6n49vh4qTW9Zghtb2e08Z6zapLBCXMUIhhuliWNGklZUVQoaWRgNzsSAeTfGP9p2bVfCFnqnwa8W2+naLefDzVviVdeJ/s6TXCabZrEIrW1gmVoxdSzTBXMyOIhE6GJpHUxu8M/Fn40/CrXk+G/j9dU+KuvXPgSy8URQWNhbQapBqsl1DZvYzG3SK2W1knmLR3DpGIY7e5MryKm9fTvDn7M3wR8K6fpWl6Z4IgltdB1a61rSo766nuxYXNxKk0vk+a7bIzPHFP5Q+QTxRzBfNRXG74P8Ag/8AD7wHY6zZ+FtIubWfxCB/a2py6pd3GqXxCFEabUJZWunZFYhGMpKZOwrQB86fC34l/HhPjV4e+EHibxbr9/r1nNf63480+98NW6afZaW0c5gl0+8iLNLby3jRxWysxn8mGXzY0ZCtdH4/+MXjT4q+PPCPwN8G6H4x+H2h+ODfXFx4w1C0bTtSuLGwWKS5t9PtJCtzaySebHH9puI42RS5ijdiskfuvgL4a+Bfhlps+leBvDlrpcd3Obm9mUtLc305ABnubiQtLcSkAAySuzkAAnip9W8B+Fdc8Y+H/HuqaaZtd8Lw31vpV0LmVBbx3axrcAxqwjk3CGPl1Yrt+XGTkA8s+PNr4g+HnhHxV8Vrn9pH4h6JYadbS3VpothaeHTE9wRtgsrc3GlSzO8spSNFZ3dnkAGSQK7b4JeGvGfhz4d6OfiR4l1XWPFupWVpe6+95OkkcOpNbxi5jt1RVSKHzQ5VFG0ZOOMCrMvwe+HV146X4k6n4fOq+IYH82zutUvbi+TTn2qhayhnkeKzYqMEwJGTls53Nns/xH50AA6Dk0d+poHQcj86Tv1H50AKe3JoPQ8mg9uR+dB6HkfnQAH6mgfU0H6j86B9R+dAB36mg9Opo79R+dB6dR+dAC/iaQdByaPxH50DoOR+dAB68mj05NA78j86TsOR+dACnoeTS/iaQ9DyPzo/EfnQAD6mjv1NA+o/Ojv1H50AB+po9eTQfqPzoHfkfnQADoOTR68mgdByPzoHfkfnQAd+p6UHoeTR36jp60HoeR+dAC/iaQdep70fiPzpB16jv3oAXv1NB7cmjv1H50HtyPzoAD25NA6Dk0HtyPzoHQcj86AD15NB69TQO/I/OkPXqPzoAd+Jo/E0n4j86PxH50AHY8mjv1NJ2PI796Xv1H50AB7cml/E0h7cj86PxH50AKOg60Dv1pB0HP60Dvz+tAC9+9J279aO/X9aO3Xv6+9AC8+9A/Gj/PWs/XNf0Lwto154h8Ta1YaRpWnxtPd31/dJb29vGOrySOQqKPUkCgC+Op60p7daxPCXjXwb4902TW/A3i7RfEenRztbPd6TqEV5CsygFoy8TMoYBhlc5GR61Zu/EWhWN9Zabdatax3WoXp062hMo3y3QtnuTCAP4/Iikkwf4VzQBpHoetHfvSHof8aO/wD9egBR360d+9Yfhrxz4J8ZyajF4P8AGOh66+k3LWeoLpuoxXRs51JBilEbHy3BVgVbB4PHFbffr+tAAeo60vPvSHqOf1pf89aAAdB1pO/egdBz+tH8XX9aAFPbrQeh60h7c/rQeh5/WgBT+NA/GkP1/Wgf55oAXv3pG6d6O/8A9ehunX9aAF596B0HWj/PWkHQc/rQAo79aTsOtA78/rR2HP60AKeh60c+9Ieh5/Wl/wA9aAAfjR370g+v60d+v60AKfxoHfrSH6/rQO/P60AKOg60Dv1pB0HP60Dvz+tAB/F36Up6HrSfxde3rQeh5/WgBefekHXv3pf89aQdevr3oAXv3oPbrSd+v60Htz+tACnt1oHQdaQ9uf1oHQc/rQAo79aQ9R1oHfn9aD1HP60ALz70c+9H+etH+etACdj170vfvSfwnn170d+v60AKe3Wjn3pD25/Wl/z1oABnA60DPPWkHQf40Dv/AI0ALznvSc479aO//wBejt+PrQAvPvXCfHLw94j8V/CjxD4f8JQGbWLyGNbNcpxIJkYN8zoDt2lsb1zjAIJzXd/560g/zzQB87/FPwn408IPD4t0f4hwyfELxhrNnocUNqP7Nt7u3kt7i1RYrTfI032MXUmpOztJKVs5BvjiULHX/wCFE6vJ45m0ttK8WpoLfEGLW5dUXxZcrNNp3/CJTWIlS4W7+1pILvEb7Skh3Rn5o1yv0gOp/wAaD2/xoA+bvCnhT48pJ4Sk8TQ+Lm8SwweGWk1X/hI4/wCybK0hgthrNre2iz+Xc3UjJqCrN9nny13bFJUEW+DrfgL4I+IPgyPSx4suvEs73ngrRBrA1nxHNqm3Xo1kW7CGWaXyycruMWInOCNxGa9kPQ/40d//AK9AHjfwS8LeKdJ8Xa3req+Cbzwxpkuh6TpNlpt2+nNHpotXuiLGw+w4T7DEsw2NKiynfzwAiey8570g7/40d/8A69AAc570vPvSHqP8aX/PWgAGcDrSc570DoP8aO//ANegBTnjrQc4PWkPb/Gg9D/jQApz71zXxD8Ff8J/4UvPDS+JNd0CeYb7fUtG1GazubaUZ2sGiZS65PKMSrDqOhHSH/PNA/zzQBw/we+G+ofDLwlDouteN/EHivV5sTahqWr6ncXRkmxyIUmkfyYh0CKegyxZsmu4bOO9Hf8A+vQ3T/69AC8+9AzgdaP89aQdB/jQAozz1pOcDrQO/wDjR2H+NACnOD1o596Q9D/jS/560AAz70c570g/zzR3/wDr0AKc+9Azz1pD/nmgd/8AGgBRnA60DPPWkHQf40Dv/jQAc7u/SlOcHrSfxfh60Hof8aAF596QZz370v8AnrSDr+fegBec96DnjrSd/wD69B7f40AKc8daBnA60h7f40DoP8aAFGeetIc570Dv/jQeo/xoAXn3o596P89aP89aAE5wevel5z3pOx/HvR3/APr0AKc8daOfekPb/Gl/z1oAQZxRzzQCMDgUA9eBQAc5o5x360Z56CkyMdB1oAjkuo4nKMsxI/uwOw/MDFN+3Q/3bj/wGk/+JqfPsKAfYUAV/t0PJ23H/gNJ/wDE0fbof7tx/wCA0n/xNWBjJ4FBPTgUAVzfQ9Ntx/4DSf8AxNH26H+7cf8AgNJ/8TVgng8CjPPQUAV/t0P924/8BpP/AImj7dD123H/AIDSf/E1YB68CjPPQUAVzfQ/3bj/AMBpP/iaX7dD/duP/AaT/wCJqYkZ6Clz7CgCuL6HH3bj/wABpP8A4mj7dDnO24/8BpP/AImrAPA4FJkZ6CgCH7dD/duP/AaT/wCJpDfQ4+7cf+A0n/xNWCenAoJ4PAoArm+h/u3H/gNJ/wDE0ovof7tx/wCA0n/xNTk+woB9hQBX+3Q/3bj/AMBpP/iaDfQ4+7cf+A0n/wATVjPPQUNjHQUAIjb1DruwRkZXB/I8ilGcCjPsKAeBwKADnmjnjrQD14FJkYHAoAU5waXmkJ4PAoz7CgAGaOc0A+wozz0FAAc0c80E+woB68CgAGcCjnmgHgcCgHrwKADnP4UHODRkZ6DpQTweBQAvNIM5796M+wpARnoO9AC85oOeKM89BQT04FAAc8UDOBQT04FAPA4FABzzQc570A9eBSEjPQUAO5o5pM+woz7CgA5wetHOaTIweB3pc89BQAHPFLzSE9OBRn2FAADwOaAevNAxgdKOOelAHD+O/i94d8Aa4nh7UtN1e9vX8Ma14rVLGGNwbTTDarNH8zr+9c3kQjH3SVfcy8buj8JeJdP8Z+FNG8YaQJhY67p9tqdqJQocQzxrIm4AkA7WGcEjPc1wGgfDLX9V+Nfiv4sfEEacYDpK+EPDGm20ryrHpDOs91cTlsDz7mfy1ZFXakdpD8zlmI5z4Y/s831l8NdG+G/xN1zX2i8CS3Gi+G73w3421fSGvNDQqLJrtLGa3UzpCqRMG8wAxFlYeYVAB7x+decfDD47eEfi34Y8IeLfCOma9LYeM7Jb+1keyDJZoY5HK3MsbPFG6mLYyh2Id4wfvA1q+CPhR4W+H99cajoWq+MbqW5i8l11vxprGsxBcg5SO+upkRsj7ygNjIzgkV5l+zF+zfoXw2+F3w3ufE/g+20P4g+HdAtbDV7rSbxrd7uRIthivGtXVL9E/hWbzUVvmTB5oAH/AG1vhIpGup4f+JEngkaJNrcvjFPh5rx0mKOMqdpk+x7ipiLy+cAYgkbZcEgHvvEX7Q3wE8H30Wl+MfjZ4F8PX8tvFdrZav4htLG58mRd0bmKaRXAYHIyBXn3i74PeLvE3gZ/2Z/BHhTTPBHwpSCPRb/VZ9Xe81G60faDPbWVvh9hlUtAbi4n3xguwik+U1L8eoPij4h8QeD9M8GfBnW9R07wZ4v03xA+oQatpcEN7aw28gkihjluUkDhpgoEiop2Md2NpYA77xf8bPBvhPwzYeNY49S8QeHNQspdSXWdBt1vrCG0jVXNxLcI3lpEUbcJC23arHOAaq/Dr4+eDPiZ4tv/AAToemeJLTVdN0u21m4TUdJkt41tLh3SB/NOUzIY5CgzlljZgCBmsf4s6X8VfjB8JZfh/onhGDwpJ46s7vR/ENzrOoRSzaFp8uYpnijtjIlzcSQs/lKJVRCwZ2+Xy37rwL8NvBXw3t7+28H6P9kOqXX2y+nmuZbm4uZdoRTJNMzSMqRqkaKW2xxoiIFVQoAOF8RftQeCvCdze2viHwl44sXsbW81GXztCdc2NoVFxdqCdzW8e+PdKBtXzI8kF1Bu+JP2kfh74a8H+B/Gk1j4n1GD4hSW66Jp2l6FcXmqSwywmdrg2MSm48qKEGSQqjFQQMEsoPPan8BG+MnxO1Hx58ctAsX0PTbJtA8P+G4dRlmiubRb+O6ku9Q2BElE72tmRZt5sSpCPMLs5SPoPHng/wAVab40fxt8I/BGgXvjLXtOOlXXiXxLq9y1rotnGyMscNqu9mEjt5jQQG3SVoAZZVZYzQBDd/tR/CSL4c6v8UrTUNXn0XQPEFr4Z1NLnSZ9MurO/mubaDZLDfrA6CM3cTuSBhA5G4rtre0X48/B7xXdX2meBfiP4f8AF2p2GlzaxJp3h7UYdRuntYn8tmSOFmLHzMRgf3yB1ryTxx+yVp9t+z/B4M8L2GneK/HOkaxB4mXXdbihivdS1BtYtdS1IrPsP2drs2xjwPkA8pWJVMjsfh54StNb8ReObjxn8Bdd05fHEIOsXfirU9N1WG+gRfLj04RRXE2y3VZJWEO3ygZJTyXOQDpPD3xltfEGtWeiR/Df4h2DXj+WLnUPDc1vbRfKTmSRuFHGMnuQK3fBPxD8NfEE69/wjVxcS/8ACNa5deHdQ86Bott7b7fNVdwG9RvXDDg9q+ffDv7LHh/xP8RfB3jiX9m74ZfCfRfB2pDXYbfSdPsX13Ur5IytvHPLaQrDbQRO5lKxzTmV44uYwp3v8K/CL9pW31j4jeC9N1jQ/AfhHxZ441TX5PFFleG816eyuvJIisYDGILOTajIbiZpWQklYeFegD6l5461h+OvGnh74c+DNb8eeLL77Jo+gWE2o3s2ASsUSFmCj+JjjCqOSSAOTXI6j+z94C1MWSz638RIFsLK30+FbL4keIbNPKhjEaFkgvUV5CqjdIwLucszMxJrF8Y/Afw5aeEY7bRNI8V+MZNNv11Kz0TXPH+qTQXN42yOOWa5vJp5ES3/ANegXPlyIJY0MyoaANn4dftBeAfiVrkHhHTrHxfofiSXR/7cfRvEvhPUtHuYrYPHHId11AkUhSSZEbypHGTwWHNelA+9eJfs7fs+6j8KLnWfGfjfxJPrnirXYorGNZNUvNSg0PSopJJINMtrq9ZrmdEeaVmmkKmRivyRqqovsWr2tzfaRe2Vlc/Z7i4t5YoZgf8AVuykK3HoSDTiruzE9EeNeLP2jp7SOfVvCem+GIfDdveyadF4j8V+ITpVlqV1GWEyWKxwTy3CJsfMpVU/dyFSyqXrs/h58VovGV/ceGdd0NtA8R21pHqK2f2uO7tr6xc4S8srlMLcQElQTtVkZlDqu5C3C+CdTttQ/Z58P6X4dku9L8R+G7fT/CF//Z+lC/1LQ7tZILW8URDJiIUM4lYFQhScrIgCtpJpugJ8aPAvgjwFFHFZ/DTw/exakkDs6WFrcRQQ2dk7nJ3yeUJQjHdttgx+8pP0lfC4TknRVLllDn967+yrpv7PvNpabuWnLopeZTq1rxm5XTtpp13t101fouvT2bPvSA8Dml49qQYwOlfNHqAD15ozwOf5Ucc9KOOOlAATweaXPvSHGD0pePagBAfejPPWgY9qOM9qAAn3oB680HHtRxz0oAAeBzQD15oGMDpRxz0oAM89e1BPB5o4z26UHGD0oAXPvSA89fX0pePakGM9u9ABnnrQT05o4z2oOOOlAAT05oB4HNBxx0oGMDpQAA9eaCeev8qOOelBxntQAufejPvRx7Uce1ACZ4PPr6UZ560cYPSjjPagAJ6c0ufekOOOlLx7UAIOg60Dv1oGMDpQMc9KADv3o7d+tHGe1HGOo60ALj60g/Gl49qQD6UAA6nrQe3WgYyelBxx0oAD0PWjv3oOMHpRxntQADv1o796BjnpRxntQAHqOtLj60hxnqKXj2oAQdB1o796UDgdPypOM9RQAHt1oPQ9aDjjpQcYPSgAP40D8aDj2oGPagDh/GXwT+GPjzVhr3iLwyRqpjET6jp97caddzRjG2OWe1kjkkQdldio7AVveE/BfhTwFoy6B4N8P2Wj6esjSmC0iCB5Gxukc9XdsDLsSxxyTW1xntQcY7V0TxeIqU1RnNuC2TbsvlsZqjTjLnUVfvbUXH1pB0HWl49qQYwOlc5oA79aOw60DHPSjHA6flQAHoetLj60hxg9KXj2oAQfjR370DHtRxntQAH8aB360HHtQMc9KAAdB1oHfrQMYHSgY56UAH8XfpQeh60cZ7dKDjB6UALj60g69+9Lx7UgH079qADv3oPbrRxntQccdKAA9utA6DrQccdKBjA6UAA79aD1HWgY56UHGeooAXH1ox9aOPajj2oATsevejv3o4weR3o4z2oAD260uPrSHHHSl49qAAdB1oHfrSDGByKBjnkUAL370nbv1o4z1FHGOo60Acf8Y/iLbfCH4T+L/ijeWRvY/Cui3mrC1Emz7Q0MTOsW7B272AXdg4znHFeUaF+yF4Y8aaPbeI/2kr/WPHPjy+UXWoXQ1+/tbHTJnUFrbTbeCaNLaCM/KrqolfG92LHj2nx/4J0L4leBvEPw88TxyPpPibTLnSb0RMFkEM8TRuUYghXAYlTg4IB7V4x4c+Kfx8+FWj2ngT4p/Avxh8RNT03bYWni7wa2nTWuuxIqhLq5gubqGWyuGBHmoQ0XmBzHIy4AALnwk1DxL8L/AI26z+zhr3i7WfFOiXPh5fGPhDUNYl+0ahaWi3Itr3Tri6J33KxSyW8kMkg8zZcMju/lhj70e3WvF/g94E8fat8Q9d+P/wAYdFstC8R6xpVt4f0Xw9bXgvDoWkRSNM8c06YjluZ533ymMFFEMKKz7Sx9nOOORQB5trfxB+IE/inxBpPgHwVp+tWfhBbUalDPqP2a91CeaMTNb2YZfJV0geN1aaRUkkcRs0Khp15DSv2idVufGa6FK3g+6S58Sax4eGk2eqN/bFklk10Fu5ocENGwtQzjEexJlYM+Ar9/4q+EPh7xXrF5qtxq+s2EOsQQ2uu6fY3KxW2tQwkmJLkFC4ADOjGF42kjby5TIiqq7nhfwZofhKyv9P02NpI9R1C+1O4M+12aW7uZLiVc4Hyb5WABzhcDJoA5rwl8T7/xHqXw/sZ9IggHjPwbd+KJ2WVmNtLC2mgQqCPmU/2g+WOD+7Xjk49D7964TwL8IPD3gO/tb6y1nWtT/snTToeixaldLKmk6YWjb7JBtRWZf3MAMkxlmYQx7pGxXdcZ6igAPUda4v4w+MdY8E+BbjUfDcNtLrmoXlloukLdZ8gX17cx20LyY5KI8odhxkKQCCc12hxkciuY+JfghPiJ4MvvC66rJpV3K0N1p+oxRh3sr23lSa2nCnhtkscbFcjcARkZzXTg3SjiKbr/AAXV/S+plWU3Tkqe9nb1Pi/4gfFP4PeB/iHdeFfFPhfxh4zvtGn+zaz4zl8V3drqP2oczPaQRFUjWMkqsaNEuVIVdu1n+qPg54i1xdX8T/DHxHr02v3HhN7K40/WJkUT32lXkTPbNOVwrTo0U8TOFUOI0fALtXh3i34Nab4q8Zf8JV8Q/wBm7xneeLJir39v4a1awbw5rFwgC+eZJ5kmhjk2ruVljbA+ZXJZn+gvhV4K1/Qptf8AGXjh7E+KfF13HdXsNk7Pb2FvDGI7ayidgDIsaBiz7V3SSyMAAQB9dnlfBTwMIxbc+VXvJS9+8dY2b5Y2572UY6xVrrTx8BTrxrtva/ZrSz30V3e293vr3789utea2ni34lTfGG88BTx+GBo9np0OsmdUuPtTW01xcRJHgnYJF8gMW6HcRtGMn0k445Fc9e+AvDepeItT8Sanai9k1jRU0G9tLlVktZrNXmfY0bDDbvPkDZyCuBiviD3Tn/hZ8VJfidqXiYwaMLTSNNubU6PdGXc+o2U0CyJcsuMIHJLooJJiaJm2uzRpwNt+0rrH/CNt4pvNN8Hxrq/ga88daJoi+I0/tiO1SEzWwubZlDOssYJeWAMsMitEPOUeefTvBHwi+H3w41vXde8FeHLHSJ/ERtftkdpbxxRgQR7I1RUUYGCSRzlmJ71zv/DOvgx9Mm8P3GueIp9Dj0u+0bSdKe8j+zaLa3cJhlS1xGHOIyUj85pREnyRhE+WgDnvDv7Qeq6h4g/4RxpfBviIC60SI6r4b1Rp7ZF1CWeNopFw2yVPs+9f3jB1fJEeBv8ATfB/i658Uap4v06exjgXw1rv9kRMjljMn2O1uN7AgbTm5ZcDIwoOecVL4o8C6N4p8OxeHZ5rmwFrPb3lld2LLHcWd1A6yQzxkqULK6glXVo3GUdHRmUyeD/Bum+C9NubOzvLy+ub+7k1DUL++kWS5vbpwoaWQqFQHaiKFRVRVRVVVVQAAb/PvQOg60ce1IMYHIoA4zxhdaprPibS/AGlapPpsd5az6lqV3bPsuBbRNGgiibHyM7yDLjlVRsYJBEF18JdEs7d7vwZeahoGsoN0F7HfTTK0gHAnjkdlmQnG4MMkZwQcEX/ABhoetnVNN8ZeFEgn1XSUmt5LKaQRpfWkuwyQ78HY4aNHRjxkEHAYkUbvxb441mBtL8NfD/VNKv5P3ZvtYa2W1tMjmTEcrtMR2VRhj1ZRzQBu+CfEbeLvCWm+IZbcQTXcGZ4VOVjmUlZFB7gOrAHuAK3efesvwz4fs/Cvh6w8O2Ls8On26wCR+XkIHzO3+0xyx9yatanYRarpt1pk00sUd3A8DyQttkVWUglW7HB4NAGBoPi/UNf0+/nstLtRdRFLixhlu2RLmylyYLhnCMUDqH+XaxBQj3qhdePtUGi6VqthpFq8l3oMmv3KS3DKqRxpExiQhTlm804Y8DZyDnjoNP8J6BpF8b/AEbTrfTi8D28sVpEkMUoLAhnVQMsuCFPYO/rVK48BaNcabp2lC5vYotOsDpYaKUB57NlRXhkJB4byo8su1xj5WXJBAIbfxje3Ou21qunwf2Zd6jJpcMvmnz/ADUtmnMhXbt2ny3TAOeFbPJCs1nxrc6XfXZEelQ2GnXkFjM99qC20lxNJGkrLDuGzKxyKQGb523L8gAY6UfhDS4daGtLNcfJO13Ha7x5Edy0XktMoxu3GMlcbtvzMQu4lqZqng3TdVurmeS9vYIr/YL+2glCxXmwAL5mQWB2gKShUsoAbIAAAMBPiNeLfPbsmkyg31/YraxXR+1xC387Erpg/KRCCemA4IJ6Hf0/xLPe6loti1oiLqukS6m7ByTGyNbgIOOR+/PP+yPWr2m6Fp2mWtxawx70u57i4l8wAlmmkaRxnH3cucD0qpofhOw0O4S5jvb27e3t/sVr9qlD/ZrbIPlJgDI+VMs2522LuY4oA2/4u/SlPQ9aTjd1HSg4weRQBz/j3X7/AMO+GprzSI4n1K5nt9PsRN/qxc3EyQxs+OSqtIGI4yARkZrIi+EPhiaJJ9cudY1XViMyapNqdxHcGT+8nluqxDPRUCqB2rf8X+HE8V+HrrRPtr2U0hjmtrqNQzW9xG6yRSgHrtdFOOMgEZGa5+Hxt41soVsdY+F2rXOqqpUyaZPbPYTsON6yySq0ak84dQwHr1IBY8Calq1vqmueB9b1CXUbjQHt5La+lVRLcWU6sYjLjAMitHKhYAbgitjLGuxPbrXL+CvD2qadLqniLxI1sda16dJrmO3YtFawxpsht0Y4LBF3EtgbndzgDArpzjjkUAcx/wAJbeG9XSPsEf8AaB1o6aU8w7BAI/tHnZxn/UYHp5hC5xzVePxjrRtr+3uNHs4NSttYh0iKNLtpYcyQwyiRn2KeFlJKheSu3PO6tz/hHdMHiT/hKgr/AG42f2HO/wCTy9+7O3+9njPXHFQXPhPTbqPUP39xFLqF9FqRmjdd8NxHHEiPHkEcCFOGDA/MCCCRQBz0nxD1UWFxdw6Pal9Ktr271NWuGwVtriSBlhO3kt5MrAtjGEBHzFl2/EviO60q+tdNsksUkmtLq/mur+fyreCCAxBixAJyWmT0AAdiflCtBL8PdDltorX7VfIgjmhuiswzfRzSebMs3HIeQsxK7SNzBSqsQdPWNBg1a4tb5L66sL6zEiQ3dqUEipJt8xCHVkZW2oSCp5VSMEAgA5HUvifc20DXkH9gxpFo0Gq+VNqQb7UztMGigljBV8eTgMAcl1+UdK228X3IszdfYEBGtxaVsZyCEeRELnj7w3Hjpkdav6P4T0fQ7gXNikm5bSGzHmv5mEjeRw2TzuLTOSc88VG3g/TW1Q6ibq78proX5svMH2c3QAAmxjdngHbu2bgG27vmoA3Ox696Xv3pOMHkd6OM9RQAp7daOfekOOORS8e1AAM4HWgZ560gAwP8KABz/hQAvOe9Jzjv1owM/wD1qTAx+PpQA7n3oGfekwP8igAf5FAAM5PWlOeOtIAMn/Cggcf4UAKc4PWjnPekIGD/AIUYGf8A61ACjPPWjnPekAHP+FGBn/61AAc570vPvTSBn/61Lgf5FACjOB1pOc96ABgf4UmBn/61ADjnjrQc4PWkIHH+FBAwf8KAFOfegZ96Qgf5FAA/yKAF5z3pGzjvRgZ/+tQQMf8A1qAF596BnA60mB/kUADA/wAKAFGeetJzgdaABz/hSYGB/hQA45wetHPvSEDB/wAKMD/IoAUZ96Oc96QAf5FGBn/61ACnPvQM89aQgf5FAA5/woAUZwOtAzz1pABgf4UADn/CgA53d+lKc4PWkwM/h6UEDB/woAXn3pBnPfvRgf5FIAM/n2oAdznvQc8daTAz/wDWoIHH+FACnPHWgZwOtIQOP8KABgf4UAKM89aQ5z3oAHP+FIQM/wD1qAHc+9HPvSYH+RRgf5FABzg9e9LznvTcDB/HtS4Gf/rUAKc8daOfekIHH+FGB/kUAAzijnmgdBx+lA78fpQAc5o5x360d+n6Unbp39KAKHiPXLTwx4f1LxHqG822mWst3KFxuZUUsQM9zjA9zXJWPgfxP4itI9X8Z+NdestSuUEn2HR7sWttYZ5ES7RmYrnBeQtuIyAowK6nxToFt4r8Nap4avHaOHVLSW0d1XJQOpXcB3Izn8K5fTfiPc6NaR6V8QPD+s2mtW4EMstjpNze2l84482CSBGAV+ux9rLnBHGSAXPCuq67pviW98BeJtQGpTQ2q6jpuomNY5bm0LlGSZVATzY22gsoAZZEO0HdXYHPFcX4UstX13xTefEDW9Jn0qN7JNN0qxuMC4S33+ZJLMoJCPI4TCZyqxjPLEDtD24/SgDPtNYW81jUdHWB1bTlgZpCRh/MDEYHbG39aqaN4qtdb13VtGtLeULpQizcMRsnLPKjbB1wjwuhJ/iVgOmS1vD+oxeILrWrHV44ob4QLc272pdiIww+SQONuQx5wcHB9qi8PeCNK8MapNf6VNfCJ7G2sI7aa7mmSKOFpCNvmO398AD+HBxjc2QCG28bS3KNfJoF0dNkW4e3uRIhLrCG+d0zlEfYdjc5yu4IWAqvD8QJE+yR6pob201/HZz26x3Kyq0VxcRQZY4BVkaZSQRhhnaWIba3/hW1qbqBm1JjbaebprBPssfnQefHKhQy9WjUTPtUAEfLktjm7F4B0Kz8PjQ9LtodOkC2rG7tbaOORpbZ1eKRhjDYdQcHI5I7mgDVsNXXUNR1TT1hdG0ueOBmJBEheJJMj04fH4Vo81k6Hosmkm9ubq9N5ealcC5uZfKEabgiRqqICdqhUXgljnJJ5rV/D9KAAZwK8h+PPj3xxYav4Q+DvwqvbbTfGPxEmvVh1u7thcQ6FplnEr3l+IT8s8ymW3iiifCGW4RnyiMrevDoOP0rxv49eEfGkXibwL8bvhzok2v638Pp76C80GO4SGTVtGv440vIoDIQn2hHgtp4w7KrGAoWG/NAGLefszeO/D8MviH4b/tO/FJfF0WZoZPFGrx6tpF7JnPlXVgYliSJhlSbUQugOVORg+h/A/4mT/F34YaR43vtDk0TVJmubDV9Ldw5sdStLiS1vIAw+8qXEEoVuNyhWwM4rgLz9rfR9U0wWXw4+EHxR8SeM7iPbb+HLvwbqOj/AGe4ZCVW9vbyGO1tog2A8nmPgHKLIcKe4+Avw31b4U/CzSvCXiTV4dW195r3VtcvoEIiuNTvrqW7u2jBAPl+dPIEyAdgXIzmgDvrt7mO1mktIVmnVGMUbvsV3A4Utg7QTgZwcehryCP44eNI9N8Q3t/8NNPik0LxDYeFRFF4iMgn1C7uLGKM7jbDbCBfoxfBb9248voT7Gfp+leb6x8EdC1/RfE3h/V703lj4p8V6f4ovILi1jliP2WWykNqyNlXjkFgqtuHSVuOBQAvhT4xPr3iw+BdW8Kz6Xrdpf3mmX6LeR3EEU0FpZ3atHIuGkR4b+AgsiMCGBXgEyv8XIpvhoPH1jojG4u9U/sPT7Ge42LLfPqX9nwCSVVYpE0xRncI5SMs21iu0yar8I9KtIdDk+Gbaf4JvPDs9zLZLY6TC1i6XK7biOW2XYGDfLIGRkcSRxksyeZHJR174Utp3wq0/wAHeE5p7++8PalYa9avfSIsuo3dtfx30qyOqrHG1w6yoWVAkZmJVAqhaALGpfHDwdYeNbHwXFqlnPJ5t9Hq148jwW9gLS1M8zeYyGKTZlFkUSAxeYu/BwDbn+N3w0tdOTUbjxDOgku5LFbY6Zd/bDPHbm5ZPsvledn7OPOHycxfvBlfmrltX/Z1tPEkepaJrPi/Uj4U1J9em/sVLWFJYX1mKdb0G5GS2HuZ3j4+UzSBjIvl+XnwfAfxN4afw1/wg+s+HtKvLLVbu+vtRsPDVrZRbH06S2iLWkO0TPuZXZi4+ckgLHiGgDv1+Mnwzlubi2tPF9rem2sLXU3ks45LmJre6KC0KSRqySNcGRBAikvMciNXKthlz8afhhZQ6bNd+MLaJNTLiPdDKDBsn+zyG5G3NqEuD5DGfywsv7tsP8tcrcfs1eF5fAd78Pv7ZvJ9Pkj0JbQ31tDdCN9JSBbdpo2Xy51c20fmqVUMCwGw4Zbmj/BCfw0bOXwl4si8PNNYppusxaVoNpb291bpdT3SC2hClLVlku7lQ2JN0c8m/fLsnQA0vFvx3+HnhDQvFWt3V7qF+3hCwutQvLKx0+V7i4itm8uc2wZVScRyYjkkVjHCxxK8YBI3H+JXgmLWU0C415Le9ZMkXEEkUccggNwYHldRGlwLcGcwMwlEQMhTYN1eaXP7Lthe33jC7vPGd058WaDr2gPMumwC7SHU5Y5fNmuDl7mSDy/Li3/IsKxIFBV3kvXn7NPhfWfF2veKfEDaVenxVbyDWMaFbrdmeXThp832a8bdPbwNCM+UGZw+cS7C0bAE9p+0Roesa7PF4bsl1Hw/YtoAutT3ywygatcXNvC6wSRLlFkjtH37trwXLSqcRqJfXOc141f/AAc8W3M7nW/F8/ia512fw/aalfT2cFottYaTdzXany4zmSWcvscjAEkzyKI0Cwr7L36fpQAHNAzzzQfp+lA6nj9KAPmXwTovjX9rbSZPizrnxW8Y+DfAOpXMyeD/AA/4Q1I6XPcafDLLEuo394qC4eW52iVIY3SKKLygfMcu1bnh26+IfwG+KfhX4aeKfHOs+OvAnj17rT9C1bXPJfVdG1aC2e6FncXCLH9qgmgguWjkZTKrxbGZwykc/wDDPxjcfsl6H/wpL4meDvF83hLQJroeEfFmjaDd63az6S0xe3tLtbKKSa3uoVlEPzxhJFiDq5JYDb0m+8U/tE/F3wj4zg8GeIPDHw2+HFzdatZXHiGwfT73xHrM1tNaRPDZSqJ4bSC3uJ382YRtLJNGFj2xszAH0Hzn8K4X4qeP/E3w9stO1PSfCFlrNne6lp2kSPNqxtHhuL6+gs4Dt8mTdGJLhWdgdyqpwrniu679O3pXO+PPB0HjrRLXRri+ltEtda0jWRJGgYs1hqEF4seD2drcIT1AYkc0AcVqHxs13RNS1Jda+H6ppXh+80rTdau7bV0llt7q9jgb9zC0aefFG1zGGIdZWAby4nbbG23pvxYtNRTwm40W4jPivxBqWgRgzIfs72cd9I0jEfeVvsDAAf8APRfQ061+DXgRfH+s/EnVvDmkatrep3dpdW13eaZBJcaebe3SJFhmZS6jKFxgjDO2Kz/DnwabQvEGnXlz4vvL7RPD+q6lrWh6W9rGjW11e/aPNMs4+aZI1u7iOFQE2pJ+8MzqrgA39Y+JnhjS4r5LWa41XU7O4urFdIsIt97cXsFmbtraNHKgSNAFZS7Kh8yP5vnUk8BeN73xdJrumav4efRtW8Naimm38C3K3UBd7WC6RoplC7h5VzGGDKjKwbgoUkfOvvhXGfG2v/ELQfENzpes6vob6XaFbeOWCxu3CiS/8tv9bK629ghVzt22UYAG582/hf4J1rwB4eHh3VNesNVjikMkMttpr2sjO5LzSzs88rTTSyM0jyEgs7sTknNAHYnPFAzgUHtx+lA6Dj9KADnmg5z3oHfj9KQ9en6UAO5o5pPw/Sj8P0oAOcHrRzmk7Hj17Uvfp+lAAc8UvNIe3H6Ufh+lAADwOaAevNA6D/Cgd/8ACgAzz1ozx17+1VDqcAdlEUrbWZCQnGQcHv6g0n9pw/8APCb/AL4H+NAF3PvSA+9U/wC1If8AnhN/3wP8aP7ThH/LCb/vgf40AXAeTzQT05qn/acOT+4m/wC+B/jQdTh/54Tf98D/ABoAuE8HmjPPWqZ1OH/nhN/3wP8AGj+04f8AnhN/3wP8aALgPXmjPPWqf9pw/wDPCb/vgf40f2nD/wA8Jv8Avgf40AXCeev8qXPvVI6nD/zwm/74H+NH9qQ/88Jv++B/jQBcB4HNGeev8qp/2nDj/UTf98D/ABo/tOHOfIm/74H+NAFwnpzQTweap/2nDx+4m/74H+NB1OH/AJ4Tf98D/GgC4T70A+9U/wC04f8AnhN/3wP8aP7Th/54Tf8AfA/xoAuZ560E8dap/wBpw9fIm/74H+NB1OHH+om/74H+NAF3PvSA8Dmqf9qQ/wDPCb/vgf40f2nDj/UTf98D/GgC4D15ozwOf5VT/tOH/nhN/wB8D/Gj+04eP3E3/fA/xoAuE8Hmlz71S/tOHH+om/74H+NH9pw/88Jv++B/jQBcB96M89ap/wBpw/8APCb/AL4H+NH9pw9fIm/74H+NAFwn3oB681T/ALTh/wCeE3/fA/xo/tOHn9xN/wB8D/GgC4DwOaAevNU/7Th/54Tf98D/ABo/tOH/AJ4Tf98D/GgC5nnr2oJ4PNU/7ThznyJv++B/jQdTh/54Tf8AfA/xoAu596QHnr6+lU/7Uh/54Tf98D/Gj+04f+eE3/fA/wAaALmeetBPTmqf9pw5/wBRN/3wP8aP7Th/54Tf98D/ABoAuE9OaAeBzVP+04f+eE3/AHwP8aBqcP8Azwm/74H+NAFwHrzQTz1/lVManD/zwm/74H+NB1OH/nhN/wB8D/GgC7n3oz71T/tOE/8ALCb/AL4H+NJ/akP/ADwm/wC+B/jQBczwefX0ozz1qn/acOP9RN/3wP8AGj+1IActFKo4GSnT9aALhPTmlz70h7f4Uv8AnpQADoODQO/BpB0H+FA7/wCFAGKv3pP+u0v/AKMamzzQ20MlzczRwwwo0kkkjBURAMlmJ4AABJJ4Apy/ek/67S/+jGrznxvo+j3yr4F0LWNcm1jUpoIrmKLxHqMhsrEyr9pmnHnkRgwiVU3j55CigHJwAeiwzQ3MMd1bTRzQzKJIpY2DJIpAIZWHBBBBBHBBFPCsxIVSfoK4B/EOgeDvHmvQ6vq8dhYRaHoaWlu8ryNJK0+p/JDEMvNM+1RtRWkcgfeOKuX2s/2r4ba78X2WmeHI7m8LWMOskyN5CgbWmCOggmb52wHby1Kg5bcoAOz2szbQpJ9AKc0UoyTE4A/2TXJ+G7LStR0m8e6k0++sZsBvL8RXGr2rRr824/aPliwc8LkYUEtwAOa8NeFYvFF1H4gt7XTLTQk1qW/sJLa1SG5ubWB1FqqOiri3eSNp9+5mljZEP7pzkA9PIPXHFIa8tuviVpGlXniXx9Jqlre2FpNDpFrYx6kgle0tXf7ZdQQcmaXzpJlEagNItogQksoOl8R9cspY/Cjt4jNr4Y1i6lNzqFlqz2MVzm0eSzj+3QsrQxSyBSHR13lY0ywco4B6AaDXzzpusa74yubGy0tvGmqsuhaklkbHxh9mSGeHVZ7aG5muElhF1DtjQJM0U8jxqrOsjM2/oj4r1S0j1DwlqnjEzeK08b+H7cW0Vy0VxPaltMkuWhh3bxbPGt47Ko8sJ5wPAegD2XBPQdqVUdzhFLH2Ga8r+L//AAkaatokumXDxQqXkt7VdUuoBqV3FE8ixy+VLGsMKAFiyeZPI4TEZjiZZMv4q3GvSfCKdLKLStSvpUedEuIrm5XToditKst28zOJU3lBJty5dFEKqGZQD2jY/TY3p075pTDMBkxOAP8AZNeC+LrHWdNbxAdasTYpd6FrosLcKscaIdG0qERRRJJIsYE6yRiNXYFwdpbcGNDUfB8Gl+Ir2X/hHb21ew1Hwqd72eioIi2ogEsbeNXXJ4Hl4J78YFAH0PgnoO1KqO4+RGbHoM15P8RLXXbfxXollbPqyabfa3pYTytVvS9zund7oKwuQsSxRoHMYicmMOwKokjQ6fxGeys4bHSZYrS322ssw1bUbCXWJ4LeMgztFD8zMUBUtLMwRS8fyzZKAA9EKsDgqQR1GKT0rzPStThisdC8PWaJBZaL4s/sqSaxupriG8SLT5rxXR2ZpGzKY1eMtIRIjpufAJuahqeky/DDWvFXhjWNSNxceF7q/t459blu5YN1qZFJUzSKHU7RuUnBzhiDyAeg4OOnTrSdq8p8SeJLOPxl4f0+w8XeIYLDTdblgunRbNrWFE02clWxGZ/KHmQ7pZgYgHDb87Gr1cjBIIwcnj0oATtS4OM+9YVzpnhme+d7zXr6KV5f3iJ4kvIQp7gRrOFT/dCge1YPhGW0u/hj4L8V6/4muLCePQ9OuJdUl1AJ5pe3ieTzmlJjlD85MgYjcWUq+HHSqClDmTe6W3Vp26+X/AZk6jUrNfj2t/md2AT0GahN3aC6WwN3ALpojOsHmL5pjBClwmc7QxA3YxkgVwni/V9U17wvJeW2nHTrRfEOgLps97E4eYDVLUtPJASjJHuICqxVmCljtDLXVW2g3NvqQ8Ra3qInuYrcwAJbi2tY0BJD7SXfeAzjc0hAEkgAUO2SWHVOHNUdndq3mkn6ddVurAqvNK0V21+//I1u1HauRh1aSz8Zabo48anUbe+sb25khuDZ/K8clskYQwxIck3B4JOcevNT6hrvxAt764g034d2d5axyFYbhvEMcJlTsxQxEpn0ycUfVZ3STWqvq0utvtW7B7aPZ/df8rnUqjuMqjH6DNDKycOpU+4xXAePWvovDn/CUalpXhv7bDZBINKvrFr2ae+YEpaQzrKm4yOVRQsROSTg5wN3TNPuvClhcn7BZXYkkVo7bRNK+ysz4IJbzLh0OcL8zMiqByTkYHh0qanzat2t5q19duu+wKq3Lltp/XQ6Cl6ZBrm/B2p614hGo6xqgS1t/tk+nW+lqEk8j7PPJE8kkuMySSFckDCKAqjcd0jV5dUg8OtJ4b8MXFxreqSyr5Ony3ZmTTkOAWmlw0kUI+ZwJGZ2OUiGNqKnhpKbp/aX3eeu2nfbfXa57Vcql0f9bef3+R1gBPQH0oIKkhgQfQ1w3iZba1up9b8UXF5cXksUtjofh/S9SmikukLBtm2N082WUohd2HlwouNwVZpZL2haZp3gr4f6VoHivxBb27QWkVrd3zag1oJ7sruldJi6OC7iRxhgxBJPO6qeHSgpJ3bdrW++2uttFta+zdriVV8zVtP639TqvWj1rz3w74i8Kp8RdQ07TfHEVzajR7H7PDN4ikvI5rmW4uvM2CWZxvVIIs7eQJOeCK6D+z/C/X/hJr7jn/kZ7v8A+P0VcN7KXLK+ye3dX7hCrzq6t950XrSgE5wM8VzHiHWNZ0C9/ti5v7M6MkkTx2iJm6vt0UivawqAS8vmeRJHtxu3vGQAFasrxXH4hj+G2iw61eW7a6NR8Nrdz+WHiN5/aVn5jBU2Bk8zOApXIxgjrRTwrm4XkrSaX3/5dfVBKrZS02Tf9ep3YpcHOMc1zOtSeK5fD+qWi2VnDfQwh7a+jvJ47ZgMkyFYSLhWQLuMCkhwyIJjudk5X4VnWpLdbU6rCLdIAtvPqV7c302pRSwiQTNEbkwxOrkl/LaUMu5QYckCoYTmpSquS0+f9fd67OylWtNQtueobWGcg8cH2NIpDOUUgsOqjkjPTivnuHUp73S5dbtTq8dtZaNEmnDRbieWdIVgAkjsS1/GGZmhXClJcuFDGTAUbXxIl+w33izWNP1K6ggubiTTboi9l8l0g0qeaXhm2qiSSRLlcbWjdePmB7P7J99U+fX06q2m/Z/h8zH657vNy6evr/kezyTwQ3EVpNcRRzz58qJ3CvJgc7VPLY9qZZ3tlqMQn069t7uI7cPBKsinciuvKkjlHRh6qykcEGvnfxPJpZVdXtrq2m0qxuNdeJYJx5bwR37kIj7jGigDau6KUZ+VArCtL4BWHh7wzD4q0/WLBtOt4rG2e5bUb23uIprJZLm1jLBYlwPLtYySWKymYsqKpQVpUydU8NKvzttaWt/et3v22vqRHGuVVU7aPrfyv2PfirI2GUg+hFNHWuC+GxbRLnUNJv8ASotHTXbybW9Hs1txbhLVlVDAUGAs6LEkkiYGPP7lXI70da8nEUfYTcL38/6+47Kc/aR5gpkv+rP4fzp9Ml/1bf571iaG6eo4PWj8DSHr+PpS/wCelAAOg4NA78GkGMDp+VAxz0/KgDFU4aQgn/XS/wDoxqhsdP0/Srf7FpdhbWVuGLiG2hWKPcep2qAMn1xV46bcB32XMW1ndxmI5G5icfe96P7Ouuv2mD/v03/xVAGe2maYdTGtHTbQ6isJtlvPIXzxCTuMYkxu2Z525xnnFWw7oSUdlz6HFS/2ddf8/UH/AH6b/wCKo/s66P8Ay8w/9+m/+KoAzbjR9IupLmS50ixme7QRXDSW0bGZAchXJHzgHnDZGattyTnnPXPOan/s66JP+lQf9+m/+KoOnXX/AD8wf9+m/wDiqAKsEMNoMWkMcAIAIiQJ0GB0x6U5o42jMLRoY2XaUKgqV9COmParB066/wCfmH/v03/xVH9nXWf+PmD/AL9N/wDFUAV9qgjCgYUKMDoPT6UFE8wS7F3hdgfA3BTyRnrjPOOlWP7Ouv8An5h/79N/8VR/Z11/z8wf9+m/+KoArTQw3ETQXEMcsT43RyIGVscjIPB55qH+ztOFrJYjTrQW0oxJB5CeW/ruTGD+Iq+dOuv+fmD/AL9N/wDFUf2ddf8AP1D/AN+m/wDiqAM6XStLmvv7Um0yzkvfLWL7S8CNNsV96rvI3YDgMBnAYBhyM0lzpGkXk8V1eaTZTzwyJNHLLbI7pImQjqxGQyhm2kcjccYya0v7OuiP+PqD/v03/wAVR/Z110+0wf8Afpv/AIqgCmbOzN4uomzg+1rCYBceUvmiItuKb8btu4A7c4yAcZqLU9J0nWbdbTWdKsr+BXEixXdukyBwCAwVwQDgkZ64J9TWj/Z11x/pMH/fpv8A4qj+zrr/AJ+oP+/Tf/FUAUYrCwt7a3s7extore02/Z4khVUh2/d2KBhMdsYx2pyWdnFM9zFZ28c0md8iRKrvk5OWAycn1q4dOuv+fqD/AL9N/wDFUf2ddf8APzD/AN+m/wDiqAKyxRJL9oSJFlKhDIFAcqOi564HYdBTuwqf+zrrp9pg/wC/Tf8AxVB066A/4+YP+/Tf/FUAZ0mlaVM7SzaVZSO5JZntkZmPqSRk099P0+S5hvpNPtXubdSkM7QqZIlODhWxlRx0BFXv7Ouv+fmD/v03/wAVR/Z11j/j5g/79N/8VVc0u4rIq3Fvb3lvJaXcEU8E6tHLFKgdJFIwVZTwQR1B4NZ1j4U8K6ZMbnTPC+j2czI0Zkt9Phjco33lJVQSD3HQ962/7Ouv+fmH/v03/wAVR/Z11gf6TB/36b/4qhTlFcqegOKbu0ZyaTpMZDR6VYoysHUrbICGHQjA4I9atdqn/s66x/x8wf8Afpv/AIqj+zrr/n5h/wC/Tf8AxVJtvcEktio9rayTxXcltC88AZYpWjBeNWxuCt1UNgZA64GelSdvxqf+zrr/AJ+YP+/Tf/FUf2dddPtMH/fpv/iqLtjKiW9vHG8UdvEiSMzuqoAGZySxI6EsSSSepJz1ptnZWWnWq2WnWdvaW8f3IYIljjXjHCqAB+VXf7Ouv+fmH/v03/xVH9nXX/PzB/36b/4qi72FZFOOztI7ma9jtIEuJ1VZZljUSSKv3QzAZYDsCeKmVmXJViDjqDipv7Ousf8AHzB/36b/AOKo/s66/wCfmH/v03/xVJu+47WIWZpEaORmdGBVlY5BB6gg8EVS/sbRsH/iTaf/AOAkf/xNaf8AZ110+1Qf9+m/+Ko/s66Gf9Jh/wC/Tf8AxVNScdhNJ7lL7FZ/aVvfscH2lIvJWbyl8xY852BsZC+2cU+aCC5Ty7mCOZA6SBZEDAOrBlbB7hgCD1BAI5FWv7Ouv+fqD/v03/xVH9nXX/PzB/36b/4qi73CyIQcHIqo+laVK0rS6XZO0yusrNboTIGBDBjjkEEg565Oc1o/2ddZ/wCPmH/v03/xVH9nXX/P1B/36b/4qhNrYGk9zFvPC3hfUrh7rUvDOkXc0n35biwhkduMcsyknj1qZNC0JHEi6HpwYQG2BFpGCIS28x/d+4W+bb03c4zzWp/Z11/z9Qf9+m/+KoGnXXX7TD/36b/4qq9rO1uZ/eLkjvYzm0rSpBOsml2bi5wZw1uhEuGZhvyPmwzM3OeWJ6k0v9maabqS+OnWhuZmjeSYwJ5jtHkRsWxklcnaScrk4xmtD+zrr/n6g/79N/8AFUf2ddf8/MH/AH6b/wCKpc8u4+Vdis8MMrRmaGOQxOJI96g7HAIDLnoQCRkc8n1pw6irA066Bz9ph/79N/8AFUn9nXX/AD9Qf9+m/wDiqkZBTJf9W34fzq1/Z11jP2mD/v03/wAVSHTLl/la6hwcZxEen/fVAGoe3Bo/A0hxkdOvpRx7flQAoHA/xox1/wAaQAYH+FAA5/woAXHP/wBekwcfj60YGf8A61JgY/H0oAd/nrQB/nNJgf5FAA/yKAADk/40pHT/ABpABk/4UEDj/CgBSOD/AI0Y5/8Ar0hAwf8ACjAz/wDWoAXHX/GjHP8A9ekAHP8AhRgZ/wDrUABBz/8AXpf89aaQM/8A1qXA/wAigBQOB/jSYOf/AK9AAwP8KTAz/wDWoAcR0/xoI4P+NIQOP8KCBg/4UAKR/nNAH+c0hA/yKAB/kUALjn/69IRx/wDXowM//WoIGP8A61AC/wCetAHA/wAaTA/yKABgf4UALjr/AI0mDx/jQAOf8KTAwP8ACgBxHB/xo/z1pCBg/wCFGB/kUAKB/nNGOf8A69IAP8ijAz/9agBSP85ox1/xpCB/kUADn/CgBQOB/jRjr/jSADA/woAHP+FABjn8PWlI4P8AjSYGfw9KCBg/4UAL/nrSAHP596MD/IpABn8+1ADsc/8A16COn+NJgZ/+tQQOP8KAFI6f40AcD/GkIHH+FAAwP8KAFx1/xpCDn/69AA5/wpCBn/61ADv89aP89aTA/wAijA/yKADBwf8AGlxz/wDXpuBg/j2pcDP/ANagBSOn+NH+etIQOP8ACjA/yKAAA4oweaB0HH6UDvx+lABg5owcfjR36fpSdunf0oAdg0gBo/D9KB9P0oAADk0EHigdTx+lB7cfpQAEHBowc0HoeP0o79P0oAMHmjBzQO/H6Ud+n6UABBzS4NNPXp+lL+H6UAABwKMHNA6Dj9KTv0/SgBSDxQQcGg9uP0oPQ8fpQAEGgA0H6fpQPp+lABg5oIOKO/T9KD06fpQAuDSAHAo/D9KB0HH6UAGDzRg8UDvx+lJ2HH6UAKQcGlwaQ9Dx+lH4fpQAAGjBzQPp+lHfp+lAAQaMHmg/T9KB34/SgAAOBRg80DoOP0oHfj9KADBz+FBBwaO/Tt6UHoeP0oAXBpADn86Pw/SkHXp69qAFwc0EHijv0/Sg9uP0oACDxQAcCg9uP0oHQcfpQAYPNBBzQO/H6Uh69P0oAdg0YNJ+H6Ufh+lABg4NGDmk7Hj17Uvfp+lAAQeKXBpD24/Sj8P0oAB0HP60Dvz+tKCcD/CgE8/4UAJ36/rR269/X3pcnP8A9akycfj6UAL/AJ60g+v60v8AnpQCf8igBB1PP60Htz+tAJyf8KUk8f4UAIeh5/Wjv1/WlJOD/hRk5/8ArUAIO/P60d+v60oJ5/woyc//AFqAEPUc/rS/560hJyP8KX/PSgBB0HP60fxdf1pQTgf4UmTn/wCtQAHtz+tB6Hn9aUk8f4UEnB/woAQ/X9aB9f1pST/kUAn/ACKAE79f1obp1/Wlyc//AFqRicf/AFqAF/z1pB0HP60v+elAJwP8KAEHfn9aOw5/WlBPP+FJk4H+FAAeh5/Wl/z1oJOD/hR/npQAg+v60d+v60oJ/wAijJz/APWoAQ/X9aB35/WlJP8AkUAnn/CgBB0HP60Dvz+tKCcD/CgE8/4UAJ/F17etB6Hn9aMnd+HpQeh+lAHCT/FeJvFll4W0rwd4gv3vtKvNTjY2b2Uh+zzW0TxhLsQg/wDH0jbtwAxjnPGnrXxN8B+G/E1l4Q1/xRp+n6tqFpLeQW1xcojFEeNccn77GUbV6ttfbnacYd18HtObxloXiC11PWTaabpuoafOtx4h1KWdhcPaupSRpi2AbX5gTzkHkgEbeu+DZNQu/Cz6bfS28OhXEy3Ba5mM01m9lNAUEuS5fzHgk3MScxZznBoAll8cWU2gr4n8Pabf67YJdzWt0LGI/aLfyJZIp28h9ru0UkTq0agyHaQiO2FOtd65pNhZx39/epaxSKroJsxyNuZVVQjANuLyIoXG7c6rjJArPOk3/hrQNP8AD3gHTNMht7KNLSJLyeVUtoFQhSAqs0pyFBBZSckl88Gr4Z8EHSdYufFviDVW1vxJewi1e+aAQxW1sDu+zWsILeTEX+Zss8jkLvdwkYQA57wl8dPD3iXwt4M1+60XW7C88ZQ6cbexbTrkBJ7qAzGNJZY41nEaLK7sgJEcTyFQoJGpB8VNGufGEPgyDTb83L6rd6Q8z7BGs0FnFdswwxJQpMqg4B3A5GME0PBXgPxN4LsPDekCPw1qSeF9KTQrPUpbaSO+NiqxApu+YRl/IgLhTtZolOPlULz0/wAHvH1p/wAIzqvh/wAV6LH4ih1TVNV13VLuxkkjM17A6M1tbqw3CL91FEkkgxFGpdpGU7wD2UdTz+tB6jn9aoeH9I/sDRLHRBqeoaj9hgSA3moTma5uCoAMkr4G52OScADJ4AGAL5JyP8KAF/z1rg/F/wAUIvDniWPw7YwaZObeGOfVbi+1E2kGnJMJTbvK4jcBX+zTjJAw3lD/AJaCu8/z0rz/AMc/DA+ML7UnQ6bDbanpptpi9tunafDqHV/+WZZCiNIMyBFwpQhXXswSw7qf7R8Nv628r/O3Qxr+05f3W5GPitejw/qGrxeEzqksGojTbBdI1KO4g1CR4IpI2imkEe5C8pjYoj7TFITkKcbfhnx/ZeJ9ZudDj0HWdOurS1S7lTUYY4GWN3ZY22by+GKSYO3b+7cZyMVh6b8KIdNsdC09Rp5i0W8FxHNHbmG5WNrV4JF85MMz/MqiX5XMYAcs2531fA/gg+G77WtXvCyXerag10Io9RubmNE8mGFdzSkeY5EAO4rlQwQEhQT01/qXJL2a16b9/N9rv5+hlT9vzLm26/1Y689uf1pf89aCTx/hR/npXlHWIOg/xoHf/GsTwJqN5q/gfw9q2ozma7vdKtLieQgDfI8KszYGAMkk8cVuetACd/8A69Hb8fWl70dvxoAP89aQf55p1IKAEHU/40Ht/jSjqaPSgBD0P+NHf/69KelHegBB3/xo7/8A16X1o70AIeo/xpf89aDS0ANHQf40d/8A69KOlHegBD2/xoPQ/wCNL6UHpQAh/wA80D/PNKaBQAnf/wCvQ3T/AOvS96D0oAP89aQdB/jTqQdKAEHf/GjsP8aX1o9KAEPQ/wCNL/nrQelLQA0f55o7/wD16UUd6AEP+eaB3/xpTR60AIOg/wAaB3/xpR0o9aAE/i/D1oPQ/wCNL3/Cg9KAD/PWkHX8+9OpBQAnf/69B7f40vej0oAQ9v8AGgdB/jS+lA6UAIO/+NB6j/Gl9aDQAf560f560tFADex/HvR3/wDr0vY0d6AEPb/Gl/z1o9KqazcTWmj311bvslhtpZEbAOGCkg4PHWgD/9k=)"
      ],
      "metadata": {
        "id": "W0YB-DX4PxLV"
      },
      "id": "W0YB-DX4PxLV"
    },
    {
      "cell_type": "code",
      "execution_count": null,
      "id": "Ftkhjk71edKp",
      "metadata": {
        "id": "Ftkhjk71edKp",
        "outputId": "649367d4-faa6-46c9-9738-fb0a6d0938f8",
        "colab": {
          "base_uri": "https://localhost:8080/"
        }
      },
      "outputs": [
        {
          "output_type": "stream",
          "name": "stdout",
          "text": [
            "Mounted at /content/drive\n",
            "/content/drive/MyDrive\n",
            "/content/drive/MyDrive/jikken_b/cifar10\n"
          ]
        }
      ],
      "source": [
        "# Googleドライブをマウント\n",
        "from google.colab import drive\n",
        "drive.mount('/content/drive')\n",
        "%cd /content/drive/MyDrive/\n",
        "\n",
        "# ファイルを保存するディレクトリ(フォルダ)\n",
        "# ここではマイドライブにjikken_b/cifar10を作成\n",
        "!mkdir -p jikken_b/cifar10\n",
        "%cd jikken_b/cifar10\n",
        "\n",
        "# Google Colab 以外で使用する場合はこのセル全体をコメントアウト(あるいは削除)してください．"
      ]
    },
    {
      "cell_type": "code",
      "execution_count": null,
      "id": "sd9Z1tSCWynZ",
      "metadata": {
        "id": "sd9Z1tSCWynZ",
        "outputId": "c3ad48b9-62d2-4732-8b66-a247368bfaf8",
        "colab": {
          "base_uri": "https://localhost:8080/"
        }
      },
      "outputs": [
        {
          "output_type": "stream",
          "name": "stdout",
          "text": [
            "\n",
            "[重要] 学習済みモデルなどのファイルは /content/drive/MyDrive/jikken_b/cifar10 に保存されます．\n"
          ]
        }
      ],
      "source": [
        "import os\n",
        "current_dir=os.getcwd()\n",
        "print('\\n[重要] 学習済みモデルなどのファイルは', current_dir, 'に保存されます．')"
      ]
    },
    {
      "cell_type": "markdown",
      "id": "DgC2Zm1RgvaU",
      "metadata": {
        "id": "DgC2Zm1RgvaU"
      },
      "source": [
        "## 班番号と重点学習クラスの番号の入力 ##\n",
        "\n",
        "**班番号**と**重点学習クラスの番号**を選択してください．右側のプルダウンメニュー(ドロップダウンリスト)から選ぶと左側の変数に反映されます．右側にメニューが表示されない場合は，変数`GROUP_NO`と変数`CLASS_NO`の右辺に直接記述するようにしてください．重点学習クラスの番号がまだ相談できていない場合は適当に選んでもらってもかまいませんが，班で決定後に修正することを忘れないようにしてください．\n"
      ]
    },
    {
      "cell_type": "code",
      "execution_count": null,
      "id": "k8RouCzwguo8",
      "metadata": {
        "id": "k8RouCzwguo8"
      },
      "outputs": [],
      "source": [
        "# 要修正：班番号('文字列'で2桁)\n",
        "GROUP_NO = '14' #@param [\"01\", \"02\", \"03\", \"04\", \"05\", \"06\", \"07\", \"08\", \"09\", \"10\", \"11\", \"12\", \"13\", \"14\", \"15\", \"16\", \"17\", \"18\", \"19\", \"20\", \"99\"]\n",
        "# 要修正：重点学習クラス番号('文字列'で1桁)\n",
        "CLASS_NO = '9' #@param [\"0\", \"1\", \"2\", \"3\", \"4\", \"5\", \"6\", \"7\", \"8\", \"9\"]"
      ]
    },
    {
      "cell_type": "markdown",
      "id": "lwzVwFAfs9PQ",
      "metadata": {
        "id": "lwzVwFAfs9PQ"
      },
      "source": [
        "選択後に必ず**上記のセルを実行**してください．\n",
        "\n",
        "\n"
      ]
    },
    {
      "cell_type": "code",
      "execution_count": null,
      "id": "byfVq9QkssFn",
      "metadata": {
        "id": "byfVq9QkssFn",
        "outputId": "657e359a-0366-4dbf-9d16-fa8277099884",
        "colab": {
          "base_uri": "https://localhost:8080/"
        }
      },
      "outputs": [
        {
          "output_type": "stream",
          "name": "stdout",
          "text": [
            "班番号:14\n",
            "重点学習クラス：9(truck)\n",
            "学習済みCNNモデル名：cnn-14-9.keras\n"
          ]
        }
      ],
      "source": [
        "# 名前リストの定義．分類番号cの分類名をclassNames[c]とする．\n",
        "classNames = ['plane', 'car', 'bird', 'cat', 'deer', 'dog', 'frog', 'horse', 'ship', 'truck']\n",
        "print('班番号:'+ GROUP_NO)\n",
        "print('重点学習クラス：' + CLASS_NO + '(' + classNames[int(CLASS_NO)] + ')')\n",
        "# 学習済みCNNモデルのファイル名は以下のようになる．\n",
        "LEARNED_CNN_MODEL = 'cnn-' + GROUP_NO + '-' + CLASS_NO + '.keras'\n",
        "print('学習済みCNNモデル名：' + LEARNED_CNN_MODEL)"
      ]
    },
    {
      "cell_type": "markdown",
      "id": "ricIVs1lkXE2",
      "metadata": {
        "id": "ricIVs1lkXE2"
      },
      "source": [
        "実行結果に示される班番号と重点学習クラスの番号が間違っていないかよく確認してください．"
      ]
    },
    {
      "cell_type": "markdown",
      "id": "rUxN2669eQuX",
      "metadata": {
        "id": "rUxN2669eQuX"
      },
      "source": [
        "## 必要モジュール読み込みとデータセットの読み込み"
      ]
    },
    {
      "cell_type": "code",
      "execution_count": null,
      "id": "BIXN2zmieQuX",
      "metadata": {
        "id": "BIXN2zmieQuX",
        "outputId": "41ccc9be-1e5a-429f-f645-f5057655cb3c",
        "colab": {
          "base_uri": "https://localhost:8080/"
        }
      },
      "outputs": [
        {
          "output_type": "stream",
          "name": "stdout",
          "text": [
            "Downloading data from https://www.cs.toronto.edu/~kriz/cifar-10-python.tar.gz\n",
            "170498071/170498071 [==============================] - 3s 0us/step\n"
          ]
        }
      ],
      "source": [
        "import matplotlib.pyplot as plt\n",
        "import numpy as np\n",
        "import tensorflow as tf\n",
        "\n",
        "# CIFAR-10データセットの取得\n",
        "from keras.datasets import cifar10\n",
        "\n",
        "# クラスラベルの1-hotエンコーディング\n",
        "from keras.utils import to_categorical\n",
        "\n",
        "# cifar10.load_data()で，データセットを読み込んで変数に代入する．\n",
        "# x_train_org: 訓練用画像のデータ (4次元配列になる．最初のインデックスがデータの指定，残りの3次元が色を含めた画像データ)\n",
        "# y_train_org: 訓練用画像のデータ (2次元配列になる．最初のインデックスがデータの指定，残り1次元は画像の分類番号0-9)\n",
        "# x_test_org: 評価用画像のデータ (4次元配列になる．最初のインデックスがデータの指定，残りの3次元が色を含めた画像データ)\n",
        "# y_test_org: 評価用画像のデータ (2次元配列になる．最初のインデックスがデータの指定，残り1次元は画像の分類番号0-9)\n",
        "\n",
        "(x_train_org, y_train_org), (x_test_org, y_test_org) = cifar10.load_data()\n",
        "\n",
        "# 本実験では元のデータセットを並べ替えてから利用します．\n",
        "train_indices=[[0 for j in range(5000)] for i in range(10)]\n",
        "test_indices=[[0 for j in range(1000)] for i in range(10)]\n",
        "for i in range(10):\n",
        "    train_indices[i]=[index for index in range(50000) if y_train_org[index] == i]\n",
        "    test_indices[i]=[index for index in range(10000) if y_test_org[index] == i]\n",
        "x_train_sorted=x_train_org.copy()\n",
        "y_train_sorted=y_train_org.copy()\n",
        "x_test_sorted=x_test_org.copy()\n",
        "y_test_sorted=y_test_org.copy()\n",
        "for i in range(5000):\n",
        "    for j in range(10):\n",
        "        x_train_sorted[i*10+j]=x_train_org[train_indices[j][i]]\n",
        "        y_train_sorted[i*10+j]=j\n",
        "for i in range(1000):\n",
        "    for j in range(10):\n",
        "        x_test_sorted[i*10+j]=x_test_org[test_indices[j][i]]\n",
        "        y_test_sorted[i*10+j]=j\n",
        "x_train_org=x_train_sorted\n",
        "y_train_org=y_train_sorted\n",
        "x_test_org=x_test_sorted\n",
        "y_test_org=y_test_sorted\n",
        "\n",
        "# オリジナルデータ正規化と1-hot-ベクトル化\n",
        "x_train_org_norm = x_train_org/255.0\n",
        "y_train_org_onehot = to_categorical(y_train_org, 10)\n",
        "x_test_org_norm = x_test_org/255.0\n",
        "y_test_org_onehot = to_categorical(y_test_org, 10)"
      ]
    },
    {
      "cell_type": "markdown",
      "id": "70NlexwmDrfy",
      "metadata": {
        "id": "70NlexwmDrfy"
      },
      "source": [
        "## i番目の訓練用画像の表示関数"
      ]
    },
    {
      "cell_type": "code",
      "execution_count": null,
      "id": "nvLrneE7eQug",
      "metadata": {
        "id": "nvLrneE7eQug"
      },
      "outputs": [],
      "source": [
        "# x_train_orgとy_train_orgのi番目のデータの分類名と画像を表示する関数\n",
        "#def printDataOrg(i):\n",
        "    #print(classNames[y_train_org[i,0]])\n",
        "    #plt.figure(figsize=(2,2))\n",
        "    #plt.imshow(x_train_org[i])\n",
        "    #plt.tick_params(left=False, labelleft=False)\n",
        "    #plt.tick_params(bottom=False, labelbottom=False)\n",
        "    #plt.show()"
      ]
    },
    {
      "cell_type": "code",
      "execution_count": null,
      "id": "Pxa5ia3BeQuh",
      "metadata": {
        "id": "Pxa5ia3BeQuh"
      },
      "outputs": [],
      "source": [
        "# 0番データの表示\n",
        "#printDataOrg(0)"
      ]
    },
    {
      "cell_type": "markdown",
      "id": "narrative-guess",
      "metadata": {
        "id": "narrative-guess"
      },
      "source": [
        "## 訓練用画像をM*N枚まとめて表示するコード"
      ]
    },
    {
      "cell_type": "code",
      "execution_count": null,
      "id": "asian-ordinance",
      "metadata": {
        "id": "asian-ordinance"
      },
      "outputs": [],
      "source": [
        "# M*N枚の画像を表示する\n",
        "#M=10 #行数\n",
        "#N= 5 #列数\n",
        "# 表示先の画像を準備\n",
        "#plt.figure(figsize=(N*2,M*2))\n",
        "# indexを変数としてループしながら画像を表示\n",
        "#for index in range(M*N):\n",
        "    # index番の画像の正解分類番号\n",
        "    #classIdx=y_train_org[index][0]\n",
        "    # index番の画像の表示位置指定\n",
        "    #cifar_img=plt.subplot(M,N,index+1)\n",
        "    # index番画像の表示\n",
        "    #plt.imshow(x_train_org[index])\n",
        "    # 横，下ラベルの非表示\n",
        "    #plt.tick_params(left=False, labelleft=False)\n",
        "    #plt.tick_params(bottom=False, labelbottom=False)\n",
        "    # 上にindexと，正解分類番号と，正解分類名を表示\n",
        "    #plt.title(\"{} : {}({})\".format(index,classIdx ,classNames[classIdx]))\n",
        "\n",
        "# 表示命令\n",
        "#plt.show()"
      ]
    },
    {
      "cell_type": "markdown",
      "id": "EErikEKPDrf0",
      "metadata": {
        "id": "EErikEKPDrf0"
      },
      "source": [
        "## 重点学習クラスの画像をM*N枚分表示するコード"
      ]
    },
    {
      "cell_type": "code",
      "execution_count": null,
      "id": "capable-yellow",
      "metadata": {
        "id": "capable-yellow",
        "scrolled": true
      },
      "outputs": [],
      "source": [
        "# M*N枚の画像を表示する\n",
        "#M=10 #行数\n",
        "#N= 5 #列数\n",
        "#plt.figure(figsize=(N*2,M*2))\n",
        "# 表示した画像の数をカウントする\n",
        "#count = 0\n",
        "#for index in range(50000):\n",
        "    #classIdx=y_train_org[index][0]\n",
        "    # classIdxが重点学習クラスの場合にのみ表示処理をする\n",
        "    #if(classIdx == int(CLASS_NO)):\n",
        "        #cifar_img=plt.subplot(M,N,count+1)\n",
        "        #plt.imshow(x_train_org[index])\n",
        "        #plt.tick_params(left=False, labelleft=False)\n",
        "        #plt.tick_params(bottom=False, labelbottom=False)\n",
        "        #plt.title(\"{} : {}({})\".format(index,classIdx ,classNames[classIdx]))\n",
        "        # 表示した画像の数をカウントする\n",
        "        #count += 1\n",
        "    # 表示画像数がM*Nに達したらループを脱出\n",
        "    #if(count >= M*N):\n",
        "        #break\n",
        "#plt.show()"
      ]
    },
    {
      "cell_type": "markdown",
      "id": "grand-timber",
      "metadata": {
        "id": "grand-timber"
      },
      "source": [
        "## 実験で利用するCIFAR-10データセットの範囲"
      ]
    },
    {
      "cell_type": "markdown",
      "id": "wound-colony",
      "metadata": {
        "id": "wound-colony"
      },
      "source": [
        "CIFAR-10には，訓練用画像50000枚，評価用画像10000枚が入っています．\n",
        "オリジナルデータの変数名は以下の通り．\n",
        "\n",
        "※ この実験ではあらかじめデータを並べ替えたものを使用しています．\n",
        "\n",
        "訓練用画像：`x_train_org`\n",
        "\n",
        "訓練用画像の正解値：`y_train_org`\n",
        "\n",
        "評価用画像：`x_test_org`\n",
        "\n",
        "評価用画像の正解値：`y_train_org`\n",
        "\n",
        "\n"
      ]
    },
    {
      "cell_type": "markdown",
      "id": "kl7nxSAdDrf1",
      "metadata": {
        "id": "kl7nxSAdDrf1"
      },
      "source": [
        "コンテストで提出する認識モデルの学習は，「訓練用画像」のオリジナルデータから，「最初の10000枚:0-9999」＋「10000-49999から1000枚まで（グループごと）」を選んで学習させます．\n"
      ]
    },
    {
      "cell_type": "markdown",
      "id": "YN23ENDGDrf1",
      "metadata": {
        "id": "YN23ENDGDrf1"
      },
      "source": [
        "## CNNモデル学習における，追加学習データ選定の１例\n",
        "\n",
        "以下のコードは，10000-49999から，正解クラスの番号が重点学習クラスの場合のデータを全て集めて，その番号をtrainDataIndex.txtに出力します．この例では4000枚の画像が抽出されています．"
      ]
    },
    {
      "cell_type": "code",
      "execution_count": null,
      "id": "OpC8Krn1Drf1",
      "metadata": {
        "id": "OpC8Krn1Drf1"
      },
      "outputs": [],
      "source": [
        "# ファイル出力用モジュール\n",
        "import pickle\n",
        "\n",
        "#分類番号0のデータを集めるリスト\n",
        "myTrainDataIndexList = []\n",
        "\n",
        "# indexを10000-49999の範囲にしてループ\n",
        "for index in range(10000,50000):\n",
        "    # index番データの正解分類番号\n",
        "    classIdx=y_train_org[index][0]\n",
        "    # 正解分類番号が重点学習クラスならリストに追加\n",
        "    if(classIdx==int(CLASS_NO)):\n",
        "        myTrainDataIndexList.append(index)\n",
        "\n",
        "# リストサイズ出力\n",
        "#print (len(myTrainDataIndexList))\n",
        "# リスト出力\n",
        "#print (myTrainDataIndexList)\n",
        "# リストをtrainDataIndex.txtに出力\n",
        "np.savetxt('trainDataIndex.txt', myTrainDataIndexList, fmt='%d')"
      ]
    },
    {
      "cell_type": "markdown",
      "id": "ASA1lmKhDrf1",
      "metadata": {
        "id": "ASA1lmKhDrf1"
      },
      "source": [
        "## ファイルに記述した追加データを含めての学習データ作成\n",
        "以下のコードは，\n",
        "`'trainDataIndex.txt'`に出力されたデータを，ファイルの先頭から最大1000枚分を追加データとし，最初の10000枚と合わせます．グループ独自の訓練用画像データとして`my_x_train`, `my_y_train`とし，さらに正規化と1-hotベクトル化で`my_x_train_norm`, `my_y_train_onehot`とし，学習の準備をします．"
      ]
    },
    {
      "cell_type": "code",
      "execution_count": null,
      "id": "JmD45tLYDrf1",
      "metadata": {
        "id": "JmD45tLYDrf1"
      },
      "outputs": [],
      "source": [
        "my_x_train=my_y_train = my_x_train_norm = my_y_train_onehot = np.zeros((1,1))\n",
        "\n",
        "#ファイルから1000枚のデータを追加する関数の定義\n",
        "def make_my_train(fileName):\n",
        "    global my_x_train, my_y_train, my_x_train_norm, my_y_train_onehot\n",
        "    # ファイル読み込み\n",
        "    addDataIdxList = np.loadtxt(fileName, dtype=int).tolist()\n",
        "    # 最大1000枚追加\n",
        "    addNum = min((len(addDataIdxList)), 1000)  # 追加画像枚数\n",
        "\n",
        "    #print('num of added data : ' + str(addNum))\n",
        "\n",
        "    addDataIdxList0 = addDataIdxList[:addNum]\n",
        "    # print(addDataIdxList0)\n",
        "\n",
        "    my_x_train=np.zeros((10000+addNum, 32, 32, 3), dtype=int)\n",
        "    my_y_train=np.zeros((10000+addNum, 1), dtype=int)\n",
        "    # 10000枚 x_train, y_trainから追加\n",
        "    for idx in range(0,10000):\n",
        "        # print ('my_x_train[{}] <- x_train_org[{}]'.format(idx,idx))\n",
        "        my_x_train[idx,:,:,:] = x_train_org[idx,:,:,:]\n",
        "        my_y_train[idx,:] = y_train_org[idx,:]\n",
        "    # ファイル指定分を追加\n",
        "    for idx0, idx1 in zip(range(10000,10000+addNum), addDataIdxList0):\n",
        "        # print ('my_x_train[{}] <- x_train_org[{}]'.format(idx0,idx1))\n",
        "        my_x_train[idx0,:,:,:] = x_train_org[idx1,:,:,:]\n",
        "        my_y_train[idx0,:] = y_train_org[idx1,:]\n",
        "\n",
        "    #正規化と1-hot-ベクトル化\n",
        "    my_x_train_norm = my_x_train/255.0\n",
        "    my_y_train_onehot = to_categorical(my_y_train, 10)"
      ]
    },
    {
      "cell_type": "code",
      "execution_count": null,
      "id": "80Ur70BQDrf2",
      "metadata": {
        "id": "80Ur70BQDrf2"
      },
      "outputs": [],
      "source": [
        "#上記の関数を利用したデータ追加処理\n",
        "make_my_train('trainDataIndex.txt')"
      ]
    },
    {
      "cell_type": "markdown",
      "id": "ZbHX__e6Drf2",
      "metadata": {
        "id": "ZbHX__e6Drf2"
      },
      "source": [
        "## 認識用CNNモデルの定義\n",
        "\n",
        "認識用CNNモデルです．グループワークにおいて，モデルを修正するには，ここのパラメータを直接に変更・修正することが簡単な方法です．\n",
        "\n"
      ]
    },
    {
      "cell_type": "code",
      "execution_count": null,
      "id": "HNL2wKHKDrf3",
      "metadata": {
        "id": "HNL2wKHKDrf3"
      },
      "outputs": [],
      "source": [
        "# CNNの構築\n",
        "from keras.layers import Activation, Conv2D, Dense, Dropout, Flatten, Input, MaxPooling2D\n",
        "from keras.models import Sequential, load_model\n",
        "\n",
        "### 学習の再現性を保つため乱数のseedを固定\n",
        "### (毎回異なる乱数にすると何が原因で精度が変化したかがわかりにくくなるため)\n",
        "###tf.keras.utils.set_random_seed(1)\n",
        "###tf.config.experimental.enable_op_determinism()\n",
        "\n",
        "# 入力層をInputオブジェクトを使って定義\n",
        "input_layer = Input(shape=(32, 32, 3))\n",
        "\n",
        "# CNNモデルの作成．このモデルにaddされた演算が，順番に実行される\n",
        "model = Sequential()\n",
        "\n",
        "# 最初の層として入力層を追加\n",
        "model.add(input_layer)\n",
        "\n",
        "model.add(Conv2D(32, (3, 3), padding='same')) # 1層目の畳み込み．出力チャネル数32\n",
        "model.add(Activation('relu')) # 1層目の活性化関数\n",
        "model.add(Conv2D(32, (3, 3))) # 2層目の畳み込み，出力チャネル数32\n",
        "model.add(Activation('relu')) # 2層目の活性化関数\n",
        "model.add(MaxPooling2D(pool_size=(2, 2))) # maxpoolingで縦横半分のサイズに\n",
        "model.add(Dropout(0.25)) #ドロップアウト\n",
        "\n",
        "model.add(Conv2D(64, (4, 4), padding='same')) # 3層目の畳み込み．出力チャネル数64\n",
        "model.add(Activation('relu')) # 3層目の活性化関数\n",
        "model.add(Conv2D(64, (4, 4))) # 4層目の畳み込み．出力チャネル数64\n",
        "model.add(Activation('relu')) # 4層目の活性化関数\n",
        "model.add(MaxPooling2D(pool_size=(2, 2))) # maxpoolingで縦横半分のサイズに\n",
        "model.add(Dropout(0.20)) #ドロップアウト\n",
        "\n",
        "model.add(Conv2D(128, (5, 5), padding='same')) # 5層目の畳み込み．出力チャネル数128\n",
        "model.add(Activation('relu')) # 5層目の活性化関数\n",
        "model.add(Conv2D(128, (5, 5))) # 6層目の畳み込み．出力チャネル数128\n",
        "model.add(Activation('relu')) # 6層目の活性化関数\n",
        "model.add(MaxPooling2D(pool_size=(2, 2))) # maxpoolingで縦横半分のサイズに\n",
        "model.add(Dropout(0.15)) #ドロップアウト\n",
        "\n",
        "#model.add(Conv2D(256, (6, 6), padding='same')) # 7層目の畳み込み．出力チャネル数128\n",
        "#model.add(Activation('relu')) # 5層目の活性化関数\n",
        "#model.add(MaxPooling2D(pool_size=(3, 3))) # maxpoolingで縦横半分のサイズに\n",
        "#model.add(Dropout(0.25)) #ドロップアウト\n",
        "\n",
        "\n",
        "\n",
        "model.add(Flatten())  # 画像を通常のベクトルに\n",
        "model.add(Dense(512))  # 全結合NN 出力ノード数512\n",
        "model.add(Activation('relu')) #活性化関数\n",
        "model.add(Dropout(0.5)) #ドロップアウト\n",
        "model.add(Dense(10)) # 全結合NN (出力ノード数10: 最終層の出力ノード数は10にする必要がある)\n",
        "model.add(Activation('softmax')) #活性化関数"
      ]
    },
    {
      "cell_type": "markdown",
      "id": "8fq37OAQDrf3",
      "metadata": {
        "id": "8fq37OAQDrf3"
      },
      "source": [
        "## CNNモデルの表示"
      ]
    },
    {
      "cell_type": "code",
      "execution_count": null,
      "id": "MF7zyNmMDrf3",
      "metadata": {
        "id": "MF7zyNmMDrf3"
      },
      "outputs": [],
      "source": [
        "#model.summary()"
      ]
    },
    {
      "cell_type": "markdown",
      "id": "KGQzTO8SDrf3",
      "metadata": {
        "id": "KGQzTO8SDrf3"
      },
      "source": [
        "## CNNモデルのコンパイル"
      ]
    },
    {
      "cell_type": "code",
      "execution_count": null,
      "id": "VA-iLx73Drf3",
      "metadata": {
        "id": "VA-iLx73Drf3"
      },
      "outputs": [],
      "source": [
        "model.compile(loss='categorical_crossentropy',optimizer='SGD',metrics=['accuracy'])\n",
        "\n",
        "# 学習前のモデルを保存\n",
        "model.save('./CIFAR-10-notrained.keras')"
      ]
    },
    {
      "cell_type": "markdown",
      "id": "HogSjpouDrf3",
      "metadata": {
        "id": "HogSjpouDrf3"
      },
      "source": [
        "## データ水増し方法の定義"
      ]
    },
    {
      "cell_type": "code",
      "execution_count": null,
      "id": "C6LnOUSGDrf4",
      "metadata": {
        "id": "C6LnOUSGDrf4"
      },
      "outputs": [],
      "source": [
        "# データの水増し用の変換オブジェクト(ImageDataGeneratorクラス)の\n",
        "# インスタンスを作成し，\n",
        "# datagenという変数名で利用する\n",
        "import tensorflow as tf\n",
        "from keras.preprocessing.image import ImageDataGenerator\n",
        "\n",
        "datagen = ImageDataGenerator(\n",
        "    rotation_range=10,\n",
        "    width_shift_range=0.1,\n",
        "    zoom_range=[0.8,1.2],\n",
        "    horizontal_flip=True,\n",
        "    channel_shift_range=0.2\n",
        ")"
      ]
    },
    {
      "cell_type": "markdown",
      "id": "K3Nt887-Drf4",
      "metadata": {
        "id": "K3Nt887-Drf4"
      },
      "source": [
        "## 水増しデータの表示"
      ]
    },
    {
      "cell_type": "code",
      "execution_count": null,
      "id": "9a7I3ORPDrf4",
      "metadata": {
        "id": "9a7I3ORPDrf4",
        "outputId": "5beaaa61-50e0-422c-fdad-bfd72a06966b",
        "colab": {
          "base_uri": "https://localhost:8080/",
          "height": 188
        }
      },
      "outputs": [
        {
          "output_type": "display_data",
          "data": {
            "text/plain": [
              "<Figure size 1000x200 with 5 Axes>"
            ],
            "image/png": "[encoded data removed]"
          },
          "metadata": {}
        }
      ],
      "source": [
        "# datagenで，my_x_train_norm[0]から，M*N枚のデータを作成する\n",
        "# my_x_train_norm[0]が様々に変形される\n",
        "M=1\n",
        "N=5\n",
        "plt.figure(figsize=(N*2,M*2))\n",
        "for index in range(M*N):\n",
        "    cifar_img=plt.subplot(M,N,index+1)\n",
        "    plt.imshow(datagen.flow(np.array([my_x_train_norm[0]]), batch_size=1)[0][0])\n",
        "    plt.tick_params(left=False, labelleft=False)\n",
        "    plt.tick_params(bottom=False, labelbottom=False)\n",
        "    plt.title(\"{}\".format(index))\n",
        "\n",
        "plt.show()"
      ]
    },
    {
      "cell_type": "markdown",
      "id": "Hn1ooodbDrf4",
      "metadata": {
        "id": "Hn1ooodbDrf4"
      },
      "source": [
        "## 水増しデータによるCNNモデルの学習"
      ]
    },
    {
      "cell_type": "code",
      "execution_count": null,
      "id": "-a_01zjFDrf4",
      "metadata": {
        "id": "-a_01zjFDrf4",
        "outputId": "f89b6438-3cf7-450e-e1ba-ad778e1e6ea8",
        "colab": {
          "base_uri": "https://localhost:8080/"
        }
      },
      "outputs": [
        {
          "output_type": "stream",
          "name": "stdout",
          "text": [
            "Epoch 1/200\n",
            "344/344 [==============================] - 12s 18ms/step - loss: 2.2794 - accuracy: 0.1768 - val_loss: 2.3094 - val_accuracy: 0.1000\n",
            "Epoch 2/200\n",
            "344/344 [==============================] - 4s 10ms/step - loss: 2.2470 - accuracy: 0.1830 - val_loss: 2.2602 - val_accuracy: 0.1085\n",
            "Epoch 3/200\n",
            "344/344 [==============================] - 3s 10ms/step - loss: 2.1522 - accuracy: 0.2289 - val_loss: 2.1145 - val_accuracy: 0.2468\n",
            "Epoch 4/200\n",
            "344/344 [==============================] - 4s 12ms/step - loss: 2.0700 - accuracy: 0.2627 - val_loss: 2.0550 - val_accuracy: 0.2368\n",
            "Epoch 5/200\n",
            "344/344 [==============================] - 4s 11ms/step - loss: 2.0079 - accuracy: 0.2766 - val_loss: 2.0042 - val_accuracy: 0.2481\n",
            "Epoch 6/200\n",
            "344/344 [==============================] - 4s 10ms/step - loss: 1.9617 - accuracy: 0.2853 - val_loss: 1.9308 - val_accuracy: 0.2864\n",
            "Epoch 7/200\n",
            "344/344 [==============================] - 5s 15ms/step - loss: 1.9090 - accuracy: 0.3057 - val_loss: 1.9382 - val_accuracy: 0.3000\n",
            "Epoch 8/200\n",
            "344/344 [==============================] - 6s 18ms/step - loss: 1.8495 - accuracy: 0.3263 - val_loss: 1.8192 - val_accuracy: 0.3401\n",
            "Epoch 9/200\n",
            "344/344 [==============================] - 5s 13ms/step - loss: 1.7815 - accuracy: 0.3523 - val_loss: 1.7871 - val_accuracy: 0.3441\n",
            "Epoch 10/200\n",
            "344/344 [==============================] - 4s 10ms/step - loss: 1.7294 - accuracy: 0.3665 - val_loss: 1.7142 - val_accuracy: 0.3644\n",
            "Epoch 11/200\n",
            "344/344 [==============================] - 4s 10ms/step - loss: 1.6789 - accuracy: 0.3884 - val_loss: 1.6590 - val_accuracy: 0.3792\n",
            "Epoch 12/200\n",
            "344/344 [==============================] - 3s 9ms/step - loss: 1.6458 - accuracy: 0.3962 - val_loss: 1.6675 - val_accuracy: 0.3916\n",
            "Epoch 13/200\n",
            "344/344 [==============================] - 3s 9ms/step - loss: 1.5958 - accuracy: 0.4184 - val_loss: 1.6277 - val_accuracy: 0.4098\n",
            "Epoch 14/200\n",
            "344/344 [==============================] - 4s 11ms/step - loss: 1.5618 - accuracy: 0.4283 - val_loss: 1.5997 - val_accuracy: 0.4127\n",
            "Epoch 15/200\n",
            "344/344 [==============================] - 5s 15ms/step - loss: 1.5311 - accuracy: 0.4479 - val_loss: 1.5344 - val_accuracy: 0.4377\n",
            "Epoch 16/200\n",
            "344/344 [==============================] - 4s 10ms/step - loss: 1.4906 - accuracy: 0.4549 - val_loss: 1.4657 - val_accuracy: 0.4582\n",
            "Epoch 17/200\n",
            "344/344 [==============================] - 4s 10ms/step - loss: 1.4605 - accuracy: 0.4692 - val_loss: 1.4490 - val_accuracy: 0.4724\n",
            "Epoch 18/200\n",
            "344/344 [==============================] - 4s 11ms/step - loss: 1.4348 - accuracy: 0.4775 - val_loss: 1.4221 - val_accuracy: 0.4814\n",
            "Epoch 19/200\n",
            "344/344 [==============================] - 4s 11ms/step - loss: 1.3970 - accuracy: 0.4943 - val_loss: 1.4307 - val_accuracy: 0.4768\n",
            "Epoch 20/200\n",
            "344/344 [==============================] - 4s 10ms/step - loss: 1.3672 - accuracy: 0.5078 - val_loss: 1.3732 - val_accuracy: 0.5056\n",
            "Epoch 21/200\n",
            "344/344 [==============================] - 3s 9ms/step - loss: 1.3429 - accuracy: 0.5153 - val_loss: 1.3654 - val_accuracy: 0.4996\n",
            "Epoch 22/200\n",
            "344/344 [==============================] - 4s 11ms/step - loss: 1.3181 - accuracy: 0.5255 - val_loss: 1.3518 - val_accuracy: 0.5117\n",
            "Epoch 23/200\n",
            "344/344 [==============================] - 4s 11ms/step - loss: 1.2864 - accuracy: 0.5301 - val_loss: 1.3140 - val_accuracy: 0.5272\n",
            "Epoch 24/200\n",
            "344/344 [==============================] - 4s 10ms/step - loss: 1.2479 - accuracy: 0.5488 - val_loss: 1.2966 - val_accuracy: 0.5323\n",
            "Epoch 25/200\n",
            "344/344 [==============================] - 3s 9ms/step - loss: 1.2312 - accuracy: 0.5585 - val_loss: 1.2731 - val_accuracy: 0.5420\n",
            "Epoch 26/200\n",
            "344/344 [==============================] - 4s 11ms/step - loss: 1.2037 - accuracy: 0.5697 - val_loss: 1.2784 - val_accuracy: 0.5457\n",
            "Epoch 27/200\n",
            "344/344 [==============================] - 3s 9ms/step - loss: 1.1698 - accuracy: 0.5814 - val_loss: 1.2607 - val_accuracy: 0.5436\n",
            "Epoch 28/200\n",
            "344/344 [==============================] - 4s 10ms/step - loss: 1.1551 - accuracy: 0.5844 - val_loss: 1.2207 - val_accuracy: 0.5588\n",
            "Epoch 29/200\n",
            "344/344 [==============================] - 3s 9ms/step - loss: 1.1176 - accuracy: 0.5989 - val_loss: 1.2385 - val_accuracy: 0.5582\n",
            "Epoch 30/200\n",
            "344/344 [==============================] - 5s 14ms/step - loss: 1.0847 - accuracy: 0.6137 - val_loss: 1.2214 - val_accuracy: 0.5674\n",
            "Epoch 31/200\n",
            "344/344 [==============================] - 4s 10ms/step - loss: 1.0633 - accuracy: 0.6242 - val_loss: 1.2262 - val_accuracy: 0.5619\n",
            "Epoch 32/200\n",
            "344/344 [==============================] - 3s 9ms/step - loss: 1.0330 - accuracy: 0.6321 - val_loss: 1.2379 - val_accuracy: 0.5617\n",
            "Epoch 33/200\n",
            "344/344 [==============================] - 3s 9ms/step - loss: 1.0013 - accuracy: 0.6452 - val_loss: 1.2365 - val_accuracy: 0.5700\n",
            "Epoch 34/200\n",
            "344/344 [==============================] - 4s 11ms/step - loss: 0.9775 - accuracy: 0.6495 - val_loss: 1.1888 - val_accuracy: 0.5816\n",
            "Epoch 35/200\n",
            "344/344 [==============================] - 3s 9ms/step - loss: 0.9408 - accuracy: 0.6628 - val_loss: 1.1720 - val_accuracy: 0.5960\n",
            "Epoch 36/200\n",
            "344/344 [==============================] - 3s 9ms/step - loss: 0.9166 - accuracy: 0.6720 - val_loss: 1.1683 - val_accuracy: 0.5971\n",
            "Epoch 37/200\n",
            "344/344 [==============================] - 3s 9ms/step - loss: 0.8918 - accuracy: 0.6785 - val_loss: 1.2480 - val_accuracy: 0.5659\n",
            "Epoch 38/200\n",
            "344/344 [==============================] - 4s 10ms/step - loss: 0.8558 - accuracy: 0.6958 - val_loss: 1.2002 - val_accuracy: 0.5880\n",
            "Epoch 39/200\n",
            "344/344 [==============================] - 3s 9ms/step - loss: 0.8268 - accuracy: 0.7043 - val_loss: 1.1671 - val_accuracy: 0.5976\n",
            "Epoch 40/200\n",
            "344/344 [==============================] - 4s 10ms/step - loss: 0.7937 - accuracy: 0.7168 - val_loss: 1.3016 - val_accuracy: 0.5556\n",
            "Epoch 41/200\n",
            "344/344 [==============================] - 4s 10ms/step - loss: 0.7665 - accuracy: 0.7255 - val_loss: 1.2571 - val_accuracy: 0.5710\n",
            "Epoch 42/200\n",
            "344/344 [==============================] - 4s 11ms/step - loss: 0.7329 - accuracy: 0.7353 - val_loss: 1.1650 - val_accuracy: 0.6017\n",
            "Epoch 43/200\n",
            "344/344 [==============================] - 3s 9ms/step - loss: 0.7039 - accuracy: 0.7481 - val_loss: 1.3208 - val_accuracy: 0.5911\n",
            "Epoch 44/200\n",
            "344/344 [==============================] - 3s 9ms/step - loss: 0.6803 - accuracy: 0.7598 - val_loss: 1.2302 - val_accuracy: 0.6022\n",
            "Epoch 45/200\n",
            "344/344 [==============================] - 3s 9ms/step - loss: 0.6497 - accuracy: 0.7669 - val_loss: 1.2420 - val_accuracy: 0.5986\n",
            "Epoch 46/200\n",
            "344/344 [==============================] - 4s 11ms/step - loss: 0.6054 - accuracy: 0.7835 - val_loss: 1.3414 - val_accuracy: 0.5865\n",
            "Epoch 47/200\n",
            "344/344 [==============================] - 4s 11ms/step - loss: 0.5844 - accuracy: 0.7877 - val_loss: 1.2652 - val_accuracy: 0.6059\n",
            "Epoch 48/200\n",
            "344/344 [==============================] - 3s 10ms/step - loss: 0.5550 - accuracy: 0.8071 - val_loss: 1.2974 - val_accuracy: 0.6025\n",
            "Epoch 49/200\n",
            "344/344 [==============================] - 4s 10ms/step - loss: 0.5184 - accuracy: 0.8184 - val_loss: 1.3747 - val_accuracy: 0.5824\n",
            "Epoch 50/200\n",
            "344/344 [==============================] - 5s 16ms/step - loss: 0.5021 - accuracy: 0.8231 - val_loss: 1.3024 - val_accuracy: 0.6009\n",
            "Epoch 51/200\n",
            "344/344 [==============================] - 4s 11ms/step - loss: 0.4667 - accuracy: 0.8353 - val_loss: 1.3248 - val_accuracy: 0.5981\n",
            "Epoch 52/200\n",
            "344/344 [==============================] - 4s 10ms/step - loss: 0.4486 - accuracy: 0.8408 - val_loss: 1.2812 - val_accuracy: 0.6202\n",
            "Epoch 53/200\n",
            "344/344 [==============================] - 4s 10ms/step - loss: 0.4301 - accuracy: 0.8518 - val_loss: 1.3672 - val_accuracy: 0.6199\n",
            "Epoch 54/200\n",
            "344/344 [==============================] - 3s 10ms/step - loss: 0.3994 - accuracy: 0.8568 - val_loss: 1.4518 - val_accuracy: 0.6021\n",
            "Epoch 55/200\n",
            "344/344 [==============================] - 4s 10ms/step - loss: 0.3838 - accuracy: 0.8628 - val_loss: 1.4208 - val_accuracy: 0.6086\n",
            "Epoch 56/200\n",
            "344/344 [==============================] - 4s 11ms/step - loss: 0.3581 - accuracy: 0.8730 - val_loss: 1.4776 - val_accuracy: 0.6148\n",
            "Epoch 57/200\n",
            "344/344 [==============================] - 4s 11ms/step - loss: 0.3612 - accuracy: 0.8744 - val_loss: 1.4199 - val_accuracy: 0.6176\n",
            "Epoch 58/200\n",
            "344/344 [==============================] - 4s 11ms/step - loss: 0.3233 - accuracy: 0.8866 - val_loss: 1.4797 - val_accuracy: 0.6116\n",
            "Epoch 59/200\n",
            "344/344 [==============================] - 3s 9ms/step - loss: 0.3006 - accuracy: 0.8975 - val_loss: 1.4907 - val_accuracy: 0.6170\n",
            "Epoch 60/200\n",
            "344/344 [==============================] - 4s 11ms/step - loss: 0.2855 - accuracy: 0.9047 - val_loss: 1.6203 - val_accuracy: 0.6158\n",
            "Epoch 61/200\n",
            "344/344 [==============================] - 4s 11ms/step - loss: 0.2689 - accuracy: 0.9093 - val_loss: 1.5650 - val_accuracy: 0.6151\n",
            "Epoch 62/200\n",
            "344/344 [==============================] - 3s 9ms/step - loss: 0.2701 - accuracy: 0.9063 - val_loss: 1.5699 - val_accuracy: 0.6141\n",
            "Epoch 63/200\n",
            "344/344 [==============================] - 4s 10ms/step - loss: 0.2480 - accuracy: 0.9122 - val_loss: 1.6241 - val_accuracy: 0.6196\n",
            "Epoch 64/200\n",
            "344/344 [==============================] - 3s 10ms/step - loss: 0.2448 - accuracy: 0.9130 - val_loss: 1.7010 - val_accuracy: 0.6111\n",
            "Epoch 65/200\n",
            "344/344 [==============================] - 4s 11ms/step - loss: 0.2353 - accuracy: 0.9176 - val_loss: 1.7099 - val_accuracy: 0.6081\n",
            "Epoch 66/200\n",
            "344/344 [==============================] - 3s 9ms/step - loss: 0.2198 - accuracy: 0.9235 - val_loss: 1.7179 - val_accuracy: 0.6187\n",
            "Epoch 67/200\n",
            "344/344 [==============================] - 3s 9ms/step - loss: 0.1990 - accuracy: 0.9322 - val_loss: 1.6877 - val_accuracy: 0.6158\n",
            "Epoch 68/200\n",
            "344/344 [==============================] - 3s 9ms/step - loss: 0.2043 - accuracy: 0.9311 - val_loss: 1.7410 - val_accuracy: 0.6130\n",
            "Epoch 69/200\n",
            "344/344 [==============================] - 4s 10ms/step - loss: 0.1941 - accuracy: 0.9329 - val_loss: 1.7503 - val_accuracy: 0.6140\n",
            "Epoch 70/200\n",
            "344/344 [==============================] - 4s 11ms/step - loss: 0.1897 - accuracy: 0.9340 - val_loss: 1.8703 - val_accuracy: 0.6012\n",
            "Epoch 71/200\n",
            "344/344 [==============================] - 3s 9ms/step - loss: 0.1717 - accuracy: 0.9404 - val_loss: 1.8420 - val_accuracy: 0.6114\n",
            "Epoch 72/200\n",
            "344/344 [==============================] - 3s 9ms/step - loss: 0.1774 - accuracy: 0.9415 - val_loss: 1.7301 - val_accuracy: 0.6183\n",
            "Epoch 73/200\n",
            "344/344 [==============================] - 4s 10ms/step - loss: 0.1681 - accuracy: 0.9431 - val_loss: 1.8224 - val_accuracy: 0.6078\n",
            "Epoch 74/200\n",
            "344/344 [==============================] - 3s 9ms/step - loss: 0.1652 - accuracy: 0.9426 - val_loss: 1.8377 - val_accuracy: 0.6044\n",
            "Epoch 75/200\n",
            "344/344 [==============================] - 4s 10ms/step - loss: 0.1463 - accuracy: 0.9503 - val_loss: 1.9291 - val_accuracy: 0.6127\n",
            "Epoch 76/200\n",
            "344/344 [==============================] - 4s 10ms/step - loss: 0.1429 - accuracy: 0.9517 - val_loss: 2.0671 - val_accuracy: 0.6044\n",
            "Epoch 77/200\n",
            "344/344 [==============================] - 4s 11ms/step - loss: 0.1393 - accuracy: 0.9522 - val_loss: 1.9773 - val_accuracy: 0.6226\n",
            "Epoch 78/200\n",
            "344/344 [==============================] - 4s 11ms/step - loss: 0.1309 - accuracy: 0.9549 - val_loss: 1.8906 - val_accuracy: 0.6084\n",
            "Epoch 79/200\n",
            "344/344 [==============================] - 3s 9ms/step - loss: 0.1423 - accuracy: 0.9518 - val_loss: 1.8289 - val_accuracy: 0.6201\n",
            "Epoch 80/200\n",
            "344/344 [==============================] - 3s 9ms/step - loss: 0.1268 - accuracy: 0.9564 - val_loss: 1.9037 - val_accuracy: 0.6216\n",
            "Epoch 81/200\n",
            "344/344 [==============================] - 4s 10ms/step - loss: 0.1189 - accuracy: 0.9611 - val_loss: 2.0234 - val_accuracy: 0.6124\n",
            "Epoch 82/200\n",
            "344/344 [==============================] - 3s 10ms/step - loss: 0.1197 - accuracy: 0.9582 - val_loss: 2.1066 - val_accuracy: 0.6065\n",
            "Epoch 83/200\n",
            "344/344 [==============================] - 4s 10ms/step - loss: 0.1109 - accuracy: 0.9631 - val_loss: 2.0315 - val_accuracy: 0.6213\n",
            "Epoch 84/200\n",
            "344/344 [==============================] - 3s 9ms/step - loss: 0.1043 - accuracy: 0.9664 - val_loss: 2.0534 - val_accuracy: 0.6160\n",
            "Epoch 85/200\n",
            "344/344 [==============================] - 4s 11ms/step - loss: 0.1115 - accuracy: 0.9622 - val_loss: 2.0388 - val_accuracy: 0.6032\n",
            "Epoch 86/200\n",
            "344/344 [==============================] - 3s 9ms/step - loss: 0.1179 - accuracy: 0.9621 - val_loss: 1.9763 - val_accuracy: 0.6179\n",
            "Epoch 87/200\n",
            "344/344 [==============================] - 4s 10ms/step - loss: 0.1095 - accuracy: 0.9635 - val_loss: 2.3947 - val_accuracy: 0.5862\n",
            "Epoch 88/200\n",
            "344/344 [==============================] - 3s 9ms/step - loss: 0.1003 - accuracy: 0.9665 - val_loss: 1.9401 - val_accuracy: 0.6205\n",
            "Epoch 89/200\n",
            "344/344 [==============================] - 4s 11ms/step - loss: 0.0973 - accuracy: 0.9680 - val_loss: 2.1865 - val_accuracy: 0.6042\n",
            "Epoch 90/200\n",
            "344/344 [==============================] - 4s 11ms/step - loss: 0.0989 - accuracy: 0.9671 - val_loss: 2.0812 - val_accuracy: 0.6246\n",
            "Epoch 91/200\n",
            "344/344 [==============================] - 3s 9ms/step - loss: 0.0953 - accuracy: 0.9708 - val_loss: 2.0927 - val_accuracy: 0.6245\n",
            "Epoch 92/200\n",
            "344/344 [==============================] - 3s 9ms/step - loss: 0.0919 - accuracy: 0.9695 - val_loss: 2.1115 - val_accuracy: 0.6225\n",
            "Epoch 93/200\n",
            "344/344 [==============================] - 4s 11ms/step - loss: 0.0860 - accuracy: 0.9702 - val_loss: 2.0272 - val_accuracy: 0.6189\n",
            "Epoch 94/200\n",
            "344/344 [==============================] - 4s 11ms/step - loss: 0.0967 - accuracy: 0.9675 - val_loss: 1.9547 - val_accuracy: 0.6229\n",
            "Epoch 95/200\n",
            "344/344 [==============================] - 4s 10ms/step - loss: 0.0891 - accuracy: 0.9721 - val_loss: 2.0574 - val_accuracy: 0.6234\n",
            "Epoch 96/200\n",
            "344/344 [==============================] - 4s 10ms/step - loss: 0.0917 - accuracy: 0.9693 - val_loss: 2.1008 - val_accuracy: 0.6262\n",
            "Epoch 97/200\n",
            "344/344 [==============================] - 4s 11ms/step - loss: 0.0840 - accuracy: 0.9723 - val_loss: 2.1724 - val_accuracy: 0.6166\n",
            "Epoch 98/200\n",
            "344/344 [==============================] - 4s 11ms/step - loss: 0.0892 - accuracy: 0.9700 - val_loss: 1.9819 - val_accuracy: 0.6167\n",
            "Epoch 99/200\n",
            "344/344 [==============================] - 3s 9ms/step - loss: 0.0770 - accuracy: 0.9759 - val_loss: 2.3233 - val_accuracy: 0.6096\n",
            "Epoch 100/200\n",
            "344/344 [==============================] - 4s 10ms/step - loss: 0.0735 - accuracy: 0.9756 - val_loss: 2.1341 - val_accuracy: 0.6237\n",
            "Epoch 101/200\n",
            "344/344 [==============================] - 4s 12ms/step - loss: 0.0778 - accuracy: 0.9735 - val_loss: 2.1434 - val_accuracy: 0.6245\n",
            "Epoch 102/200\n",
            "344/344 [==============================] - 3s 9ms/step - loss: 0.0679 - accuracy: 0.9772 - val_loss: 2.2649 - val_accuracy: 0.6168\n",
            "Epoch 103/200\n",
            "344/344 [==============================] - 4s 11ms/step - loss: 0.0798 - accuracy: 0.9733 - val_loss: 2.1998 - val_accuracy: 0.6234\n",
            "Epoch 104/200\n",
            "344/344 [==============================] - 3s 10ms/step - loss: 0.0639 - accuracy: 0.9796 - val_loss: 2.1714 - val_accuracy: 0.6249\n",
            "Epoch 105/200\n",
            "344/344 [==============================] - 4s 12ms/step - loss: 0.0608 - accuracy: 0.9797 - val_loss: 2.1645 - val_accuracy: 0.6196\n",
            "Epoch 106/200\n",
            "344/344 [==============================] - 4s 11ms/step - loss: 0.0677 - accuracy: 0.9775 - val_loss: 2.2683 - val_accuracy: 0.6268\n",
            "Epoch 107/200\n",
            "344/344 [==============================] - 3s 9ms/step - loss: 0.0676 - accuracy: 0.9775 - val_loss: 2.2619 - val_accuracy: 0.6183\n",
            "Epoch 108/200\n",
            "344/344 [==============================] - 4s 10ms/step - loss: 0.0646 - accuracy: 0.9785 - val_loss: 2.3424 - val_accuracy: 0.6116\n",
            "Epoch 109/200\n",
            "344/344 [==============================] - 4s 11ms/step - loss: 0.0678 - accuracy: 0.9759 - val_loss: 2.2271 - val_accuracy: 0.6259\n",
            "Epoch 110/200\n",
            "344/344 [==============================] - 4s 10ms/step - loss: 0.0744 - accuracy: 0.9753 - val_loss: 2.1549 - val_accuracy: 0.6194\n",
            "Epoch 111/200\n",
            "344/344 [==============================] - 3s 9ms/step - loss: 0.0591 - accuracy: 0.9791 - val_loss: 2.2606 - val_accuracy: 0.6188\n",
            "Epoch 112/200\n",
            "344/344 [==============================] - 4s 11ms/step - loss: 0.0682 - accuracy: 0.9785 - val_loss: 2.1174 - val_accuracy: 0.6280\n",
            "Epoch 113/200\n",
            "344/344 [==============================] - 4s 11ms/step - loss: 0.0561 - accuracy: 0.9815 - val_loss: 2.2039 - val_accuracy: 0.6270\n",
            "Epoch 114/200\n",
            "344/344 [==============================] - 4s 11ms/step - loss: 0.0540 - accuracy: 0.9812 - val_loss: 2.3450 - val_accuracy: 0.6270\n",
            "Epoch 115/200\n",
            "344/344 [==============================] - 3s 9ms/step - loss: 0.0574 - accuracy: 0.9817 - val_loss: 2.2424 - val_accuracy: 0.6195\n",
            "Epoch 116/200\n",
            "344/344 [==============================] - 4s 11ms/step - loss: 0.0570 - accuracy: 0.9806 - val_loss: 2.3114 - val_accuracy: 0.6199\n",
            "Epoch 117/200\n",
            "344/344 [==============================] - 4s 11ms/step - loss: 0.0578 - accuracy: 0.9813 - val_loss: 2.2128 - val_accuracy: 0.6275\n",
            "Epoch 118/200\n",
            "344/344 [==============================] - 3s 9ms/step - loss: 0.0566 - accuracy: 0.9815 - val_loss: 2.2656 - val_accuracy: 0.6315\n",
            "Epoch 119/200\n",
            "344/344 [==============================] - 4s 11ms/step - loss: 0.0550 - accuracy: 0.9825 - val_loss: 2.2866 - val_accuracy: 0.6304\n",
            "Epoch 120/200\n",
            "344/344 [==============================] - 4s 12ms/step - loss: 0.0527 - accuracy: 0.9837 - val_loss: 2.3624 - val_accuracy: 0.6241\n",
            "Epoch 121/200\n",
            "344/344 [==============================] - 3s 9ms/step - loss: 0.0419 - accuracy: 0.9859 - val_loss: 2.3558 - val_accuracy: 0.6264\n",
            "Epoch 122/200\n",
            "344/344 [==============================] - 4s 10ms/step - loss: 0.0469 - accuracy: 0.9845 - val_loss: 2.3844 - val_accuracy: 0.6293\n",
            "Epoch 123/200\n",
            "344/344 [==============================] - 3s 9ms/step - loss: 0.0429 - accuracy: 0.9853 - val_loss: 2.3932 - val_accuracy: 0.6317\n",
            "Epoch 124/200\n",
            "344/344 [==============================] - 4s 11ms/step - loss: 0.0512 - accuracy: 0.9835 - val_loss: 2.5113 - val_accuracy: 0.6119\n",
            "Epoch 125/200\n",
            "344/344 [==============================] - 3s 10ms/step - loss: 0.0498 - accuracy: 0.9848 - val_loss: 2.2729 - val_accuracy: 0.6325\n",
            "Epoch 126/200\n",
            "344/344 [==============================] - 3s 9ms/step - loss: 0.0474 - accuracy: 0.9843 - val_loss: 2.4515 - val_accuracy: 0.6334\n",
            "Epoch 127/200\n",
            "344/344 [==============================] - 3s 9ms/step - loss: 0.0561 - accuracy: 0.9811 - val_loss: 2.3713 - val_accuracy: 0.6295\n",
            "Epoch 128/200\n",
            "344/344 [==============================] - 4s 11ms/step - loss: 0.0485 - accuracy: 0.9833 - val_loss: 2.3155 - val_accuracy: 0.6275\n",
            "Epoch 129/200\n",
            "344/344 [==============================] - 3s 10ms/step - loss: 0.0447 - accuracy: 0.9861 - val_loss: 2.3846 - val_accuracy: 0.6296\n",
            "Epoch 130/200\n",
            "344/344 [==============================] - 4s 10ms/step - loss: 0.0471 - accuracy: 0.9855 - val_loss: 2.4391 - val_accuracy: 0.6148\n",
            "Epoch 131/200\n",
            "344/344 [==============================] - 3s 9ms/step - loss: 0.0426 - accuracy: 0.9855 - val_loss: 2.4428 - val_accuracy: 0.6312\n",
            "Epoch 132/200\n",
            "344/344 [==============================] - 3s 10ms/step - loss: 0.0447 - accuracy: 0.9862 - val_loss: 2.4355 - val_accuracy: 0.6295\n",
            "Epoch 133/200\n",
            "344/344 [==============================] - 4s 11ms/step - loss: 0.0419 - accuracy: 0.9874 - val_loss: 2.4424 - val_accuracy: 0.6286\n",
            "Epoch 134/200\n",
            "344/344 [==============================] - 4s 10ms/step - loss: 0.0406 - accuracy: 0.9882 - val_loss: 2.4842 - val_accuracy: 0.6212\n",
            "Epoch 135/200\n",
            "344/344 [==============================] - 3s 9ms/step - loss: 0.0448 - accuracy: 0.9857 - val_loss: 2.5231 - val_accuracy: 0.6262\n",
            "Epoch 136/200\n",
            "344/344 [==============================] - 4s 11ms/step - loss: 0.0461 - accuracy: 0.9875 - val_loss: 2.3260 - val_accuracy: 0.6327\n",
            "Epoch 137/200\n",
            "344/344 [==============================] - 4s 11ms/step - loss: 0.0483 - accuracy: 0.9854 - val_loss: 2.3382 - val_accuracy: 0.6228\n",
            "Epoch 138/200\n",
            "344/344 [==============================] - 4s 10ms/step - loss: 0.0441 - accuracy: 0.9847 - val_loss: 2.3967 - val_accuracy: 0.6284\n",
            "Epoch 139/200\n",
            "344/344 [==============================] - 3s 9ms/step - loss: 0.0526 - accuracy: 0.9841 - val_loss: 2.3217 - val_accuracy: 0.6216\n",
            "Epoch 140/200\n",
            "344/344 [==============================] - 4s 11ms/step - loss: 0.0447 - accuracy: 0.9859 - val_loss: 2.3153 - val_accuracy: 0.6249\n",
            "Epoch 141/200\n",
            "344/344 [==============================] - 3s 10ms/step - loss: 0.0472 - accuracy: 0.9853 - val_loss: 2.3878 - val_accuracy: 0.6217\n",
            "Epoch 142/200\n",
            "344/344 [==============================] - 3s 9ms/step - loss: 0.0401 - accuracy: 0.9875 - val_loss: 2.4417 - val_accuracy: 0.6256\n",
            "Epoch 143/200\n",
            "344/344 [==============================] - 4s 10ms/step - loss: 0.0325 - accuracy: 0.9888 - val_loss: 2.4648 - val_accuracy: 0.6306\n",
            "Epoch 144/200\n",
            "344/344 [==============================] - 4s 11ms/step - loss: 0.0358 - accuracy: 0.9875 - val_loss: 2.6010 - val_accuracy: 0.6146\n",
            "Epoch 145/200\n",
            "344/344 [==============================] - 3s 10ms/step - loss: 0.0459 - accuracy: 0.9851 - val_loss: 2.4350 - val_accuracy: 0.6291\n",
            "Epoch 146/200\n",
            "344/344 [==============================] - 3s 10ms/step - loss: 0.0367 - accuracy: 0.9875 - val_loss: 2.4300 - val_accuracy: 0.6262\n",
            "Epoch 147/200\n",
            "344/344 [==============================] - 4s 10ms/step - loss: 0.0460 - accuracy: 0.9857 - val_loss: 2.3608 - val_accuracy: 0.6254\n",
            "Epoch 148/200\n",
            "344/344 [==============================] - 4s 11ms/step - loss: 0.0378 - accuracy: 0.9879 - val_loss: 2.4436 - val_accuracy: 0.6280\n",
            "Epoch 149/200\n",
            "344/344 [==============================] - 3s 9ms/step - loss: 0.0391 - accuracy: 0.9885 - val_loss: 2.4035 - val_accuracy: 0.6278\n",
            "Epoch 150/200\n",
            "344/344 [==============================] - 4s 10ms/step - loss: 0.0367 - accuracy: 0.9893 - val_loss: 2.3701 - val_accuracy: 0.6260\n",
            "Epoch 151/200\n",
            "344/344 [==============================] - 4s 11ms/step - loss: 0.0343 - accuracy: 0.9885 - val_loss: 2.3135 - val_accuracy: 0.6300\n",
            "Epoch 152/200\n",
            "344/344 [==============================] - 4s 12ms/step - loss: 0.0332 - accuracy: 0.9895 - val_loss: 2.3514 - val_accuracy: 0.6318\n",
            "Epoch 153/200\n",
            "344/344 [==============================] - 3s 9ms/step - loss: 0.0364 - accuracy: 0.9886 - val_loss: 2.3803 - val_accuracy: 0.6245\n",
            "Epoch 154/200\n",
            "344/344 [==============================] - 3s 9ms/step - loss: 0.0302 - accuracy: 0.9914 - val_loss: 2.4172 - val_accuracy: 0.6287\n",
            "Epoch 155/200\n",
            "344/344 [==============================] - 4s 10ms/step - loss: 0.0354 - accuracy: 0.9884 - val_loss: 2.4884 - val_accuracy: 0.6252\n",
            "Epoch 156/200\n",
            "344/344 [==============================] - 4s 11ms/step - loss: 0.0372 - accuracy: 0.9873 - val_loss: 2.4425 - val_accuracy: 0.6264\n",
            "Epoch 157/200\n",
            "344/344 [==============================] - 3s 9ms/step - loss: 0.0318 - accuracy: 0.9895 - val_loss: 2.4799 - val_accuracy: 0.6285\n",
            "Epoch 158/200\n",
            "344/344 [==============================] - 4s 11ms/step - loss: 0.0398 - accuracy: 0.9883 - val_loss: 2.4222 - val_accuracy: 0.6287\n",
            "Epoch 159/200\n",
            "344/344 [==============================] - 4s 11ms/step - loss: 0.0292 - accuracy: 0.9898 - val_loss: 2.3822 - val_accuracy: 0.6265\n",
            "Epoch 160/200\n",
            "344/344 [==============================] - 4s 11ms/step - loss: 0.0299 - accuracy: 0.9907 - val_loss: 2.5058 - val_accuracy: 0.6318\n",
            "Epoch 161/200\n",
            "344/344 [==============================] - 4s 10ms/step - loss: 0.0326 - accuracy: 0.9897 - val_loss: 2.5251 - val_accuracy: 0.6208\n",
            "Epoch 162/200\n",
            "344/344 [==============================] - 4s 11ms/step - loss: 0.0337 - accuracy: 0.9895 - val_loss: 2.5208 - val_accuracy: 0.6311\n",
            "Epoch 163/200\n",
            "344/344 [==============================] - 4s 10ms/step - loss: 0.0324 - accuracy: 0.9896 - val_loss: 2.5718 - val_accuracy: 0.6282\n",
            "Epoch 164/200\n",
            "344/344 [==============================] - 4s 10ms/step - loss: 0.0265 - accuracy: 0.9911 - val_loss: 2.6233 - val_accuracy: 0.6253\n",
            "Epoch 165/200\n",
            "344/344 [==============================] - 4s 10ms/step - loss: 0.0276 - accuracy: 0.9911 - val_loss: 2.5256 - val_accuracy: 0.6359\n",
            "Epoch 166/200\n",
            "344/344 [==============================] - 3s 9ms/step - loss: 0.0329 - accuracy: 0.9895 - val_loss: 2.4947 - val_accuracy: 0.6310\n",
            "Epoch 167/200\n",
            "344/344 [==============================] - 4s 10ms/step - loss: 0.0257 - accuracy: 0.9915 - val_loss: 2.7207 - val_accuracy: 0.6210\n",
            "Epoch 168/200\n",
            "344/344 [==============================] - 4s 12ms/step - loss: 0.0245 - accuracy: 0.9923 - val_loss: 2.6097 - val_accuracy: 0.6254\n",
            "Epoch 169/200\n",
            "344/344 [==============================] - 3s 9ms/step - loss: 0.0299 - accuracy: 0.9906 - val_loss: 2.6614 - val_accuracy: 0.6320\n",
            "Epoch 170/200\n",
            "344/344 [==============================] - 4s 10ms/step - loss: 0.0219 - accuracy: 0.9927 - val_loss: 2.5490 - val_accuracy: 0.6328\n",
            "Epoch 171/200\n",
            "344/344 [==============================] - 4s 11ms/step - loss: 0.0264 - accuracy: 0.9914 - val_loss: 2.6025 - val_accuracy: 0.6222\n",
            "Epoch 172/200\n",
            "344/344 [==============================] - 4s 10ms/step - loss: 0.0191 - accuracy: 0.9945 - val_loss: 2.7303 - val_accuracy: 0.6248\n",
            "Epoch 173/200\n",
            "344/344 [==============================] - 4s 10ms/step - loss: 0.0307 - accuracy: 0.9888 - val_loss: 2.6793 - val_accuracy: 0.6162\n",
            "Epoch 174/200\n",
            "344/344 [==============================] - 4s 10ms/step - loss: 0.0305 - accuracy: 0.9910 - val_loss: 2.6159 - val_accuracy: 0.6199\n",
            "Epoch 175/200\n",
            "344/344 [==============================] - 4s 11ms/step - loss: 0.0292 - accuracy: 0.9903 - val_loss: 2.5500 - val_accuracy: 0.6217\n",
            "Epoch 176/200\n",
            "344/344 [==============================] - 3s 10ms/step - loss: 0.0286 - accuracy: 0.9904 - val_loss: 2.5587 - val_accuracy: 0.6235\n",
            "Epoch 177/200\n",
            "344/344 [==============================] - 3s 9ms/step - loss: 0.0296 - accuracy: 0.9913 - val_loss: 2.6206 - val_accuracy: 0.6297\n",
            "Epoch 178/200\n",
            "344/344 [==============================] - 3s 9ms/step - loss: 0.0311 - accuracy: 0.9901 - val_loss: 2.4586 - val_accuracy: 0.6243\n",
            "Epoch 179/200\n",
            "344/344 [==============================] - 4s 11ms/step - loss: 0.0309 - accuracy: 0.9899 - val_loss: 2.5828 - val_accuracy: 0.6273\n",
            "Epoch 180/200\n",
            "344/344 [==============================] - 3s 10ms/step - loss: 0.0294 - accuracy: 0.9908 - val_loss: 2.5901 - val_accuracy: 0.6289\n",
            "Epoch 181/200\n",
            "344/344 [==============================] - 3s 9ms/step - loss: 0.0264 - accuracy: 0.9905 - val_loss: 2.6387 - val_accuracy: 0.6230\n",
            "Epoch 182/200\n",
            "344/344 [==============================] - 4s 11ms/step - loss: 0.0305 - accuracy: 0.9910 - val_loss: 2.5759 - val_accuracy: 0.6332\n",
            "Epoch 183/200\n",
            "344/344 [==============================] - 4s 11ms/step - loss: 0.0352 - accuracy: 0.9888 - val_loss: 2.5561 - val_accuracy: 0.6261\n",
            "Epoch 184/200\n",
            "344/344 [==============================] - 3s 10ms/step - loss: 0.0243 - accuracy: 0.9919 - val_loss: 2.5066 - val_accuracy: 0.6315\n",
            "Epoch 185/200\n",
            "344/344 [==============================] - 3s 9ms/step - loss: 0.0224 - accuracy: 0.9934 - val_loss: 2.6653 - val_accuracy: 0.6239\n",
            "Epoch 186/200\n",
            "344/344 [==============================] - 4s 10ms/step - loss: 0.0264 - accuracy: 0.9917 - val_loss: 2.5305 - val_accuracy: 0.6306\n",
            "Epoch 187/200\n",
            "344/344 [==============================] - 4s 11ms/step - loss: 0.0330 - accuracy: 0.9905 - val_loss: 2.5428 - val_accuracy: 0.6216\n",
            "Epoch 188/200\n",
            "344/344 [==============================] - 4s 10ms/step - loss: 0.0292 - accuracy: 0.9904 - val_loss: 2.4936 - val_accuracy: 0.6280\n",
            "Epoch 189/200\n",
            "344/344 [==============================] - 3s 9ms/step - loss: 0.0337 - accuracy: 0.9893 - val_loss: 2.5079 - val_accuracy: 0.6272\n",
            "Epoch 190/200\n",
            "344/344 [==============================] - 4s 10ms/step - loss: 0.0267 - accuracy: 0.9918 - val_loss: 2.6317 - val_accuracy: 0.6250\n",
            "Epoch 191/200\n",
            "344/344 [==============================] - 4s 11ms/step - loss: 0.0299 - accuracy: 0.9913 - val_loss: 2.5491 - val_accuracy: 0.6240\n",
            "Epoch 192/200\n",
            "344/344 [==============================] - 3s 10ms/step - loss: 0.0250 - accuracy: 0.9914 - val_loss: 2.6365 - val_accuracy: 0.6249\n",
            "Epoch 193/200\n",
            "344/344 [==============================] - 3s 9ms/step - loss: 0.0283 - accuracy: 0.9904 - val_loss: 2.5959 - val_accuracy: 0.6266\n",
            "Epoch 194/200\n",
            "344/344 [==============================] - 4s 10ms/step - loss: 0.0205 - accuracy: 0.9926 - val_loss: 2.5597 - val_accuracy: 0.6286\n",
            "Epoch 195/200\n",
            "344/344 [==============================] - 4s 11ms/step - loss: 0.0191 - accuracy: 0.9940 - val_loss: 2.6720 - val_accuracy: 0.6264\n",
            "Epoch 196/200\n",
            "344/344 [==============================] - 3s 10ms/step - loss: 0.0249 - accuracy: 0.9918 - val_loss: 2.8719 - val_accuracy: 0.6223\n",
            "Epoch 197/200\n",
            "344/344 [==============================] - 3s 9ms/step - loss: 0.0280 - accuracy: 0.9911 - val_loss: 2.7177 - val_accuracy: 0.6273\n",
            "Epoch 198/200\n",
            "344/344 [==============================] - 3s 9ms/step - loss: 0.0234 - accuracy: 0.9923 - val_loss: 2.6310 - val_accuracy: 0.6248\n",
            "Epoch 199/200\n",
            "344/344 [==============================] - 4s 11ms/step - loss: 0.0284 - accuracy: 0.9915 - val_loss: 2.7157 - val_accuracy: 0.6270\n",
            "Epoch 200/200\n",
            "344/344 [==============================] - 4s 12ms/step - loss: 0.0245 - accuracy: 0.9918 - val_loss: 2.7306 - val_accuracy: 0.6255\n",
            "Epoch 1/200\n",
            "171/171 [==============================] - 13s 66ms/step - loss: 1.1486 - accuracy: 0.6527 - val_loss: 1.2732 - val_accuracy: 0.6115\n",
            "Epoch 2/200\n",
            "171/171 [==============================] - 11s 63ms/step - loss: 0.9786 - accuracy: 0.6845 - val_loss: 1.1712 - val_accuracy: 0.6330\n",
            "Epoch 3/200\n",
            "171/171 [==============================] - 11s 65ms/step - loss: 0.9394 - accuracy: 0.6949 - val_loss: 1.1209 - val_accuracy: 0.6402\n",
            "Epoch 4/200\n",
            "171/171 [==============================] - 9s 53ms/step - loss: 0.9077 - accuracy: 0.7050 - val_loss: 1.1414 - val_accuracy: 0.6412\n",
            "Epoch 5/200\n",
            "171/171 [==============================] - 11s 63ms/step - loss: 0.8805 - accuracy: 0.7155 - val_loss: 1.1132 - val_accuracy: 0.6399\n",
            "Epoch 6/200\n",
            "171/171 [==============================] - 11s 64ms/step - loss: 0.8669 - accuracy: 0.7201 - val_loss: 1.1120 - val_accuracy: 0.6411\n",
            "Epoch 7/200\n",
            "171/171 [==============================] - 9s 55ms/step - loss: 0.8395 - accuracy: 0.7254 - val_loss: 1.0693 - val_accuracy: 0.6595\n",
            "Epoch 8/200\n",
            "171/171 [==============================] - 11s 63ms/step - loss: 0.8341 - accuracy: 0.7225 - val_loss: 1.0918 - val_accuracy: 0.6552\n",
            "Epoch 9/200\n",
            "171/171 [==============================] - 9s 55ms/step - loss: 0.8391 - accuracy: 0.7224 - val_loss: 1.1036 - val_accuracy: 0.6512\n",
            "Epoch 10/200\n",
            "171/171 [==============================] - 10s 57ms/step - loss: 0.8065 - accuracy: 0.7303 - val_loss: 1.0868 - val_accuracy: 0.6550\n",
            "Epoch 11/200\n",
            "171/171 [==============================] - 11s 62ms/step - loss: 0.8061 - accuracy: 0.7315 - val_loss: 1.1655 - val_accuracy: 0.6409\n",
            "Epoch 12/200\n",
            "171/171 [==============================] - 11s 65ms/step - loss: 0.7964 - accuracy: 0.7345 - val_loss: 1.0804 - val_accuracy: 0.6579\n",
            "Epoch 13/200\n",
            "171/171 [==============================] - 9s 52ms/step - loss: 0.7715 - accuracy: 0.7403 - val_loss: 1.0560 - val_accuracy: 0.6606\n",
            "Epoch 14/200\n",
            "171/171 [==============================] - 11s 62ms/step - loss: 0.7729 - accuracy: 0.7456 - val_loss: 1.0585 - val_accuracy: 0.6609\n",
            "Epoch 15/200\n",
            "171/171 [==============================] - 11s 62ms/step - loss: 0.7512 - accuracy: 0.7510 - val_loss: 1.0542 - val_accuracy: 0.6656\n",
            "Epoch 16/200\n",
            "171/171 [==============================] - 9s 53ms/step - loss: 0.7440 - accuracy: 0.7522 - val_loss: 1.1001 - val_accuracy: 0.6578\n",
            "Epoch 17/200\n",
            "171/171 [==============================] - 10s 60ms/step - loss: 0.7551 - accuracy: 0.7501 - val_loss: 1.0747 - val_accuracy: 0.6602\n",
            "Epoch 18/200\n",
            "171/171 [==============================] - 11s 64ms/step - loss: 0.7294 - accuracy: 0.7605 - val_loss: 1.0576 - val_accuracy: 0.6689\n",
            "Epoch 19/200\n",
            "171/171 [==============================] - 11s 65ms/step - loss: 0.7407 - accuracy: 0.7527 - val_loss: 1.0424 - val_accuracy: 0.6688\n",
            "Epoch 20/200\n",
            "171/171 [==============================] - 9s 54ms/step - loss: 0.7350 - accuracy: 0.7492 - val_loss: 1.0638 - val_accuracy: 0.6673\n",
            "Epoch 21/200\n",
            "171/171 [==============================] - 11s 62ms/step - loss: 0.7251 - accuracy: 0.7635 - val_loss: 1.0322 - val_accuracy: 0.6732\n",
            "Epoch 22/200\n",
            "171/171 [==============================] - 10s 61ms/step - loss: 0.7023 - accuracy: 0.7677 - val_loss: 1.0663 - val_accuracy: 0.6676\n",
            "Epoch 23/200\n",
            "171/171 [==============================] - 9s 54ms/step - loss: 0.7009 - accuracy: 0.7632 - val_loss: 1.0692 - val_accuracy: 0.6675\n",
            "Epoch 24/200\n",
            "171/171 [==============================] - 10s 59ms/step - loss: 0.7067 - accuracy: 0.7639 - val_loss: 1.0352 - val_accuracy: 0.6718\n",
            "Epoch 25/200\n",
            "171/171 [==============================] - 11s 66ms/step - loss: 0.6860 - accuracy: 0.7661 - val_loss: 1.0650 - val_accuracy: 0.6739\n",
            "Epoch 26/200\n",
            "171/171 [==============================] - 10s 56ms/step - loss: 0.6924 - accuracy: 0.7705 - val_loss: 1.0882 - val_accuracy: 0.6625\n",
            "Epoch 27/200\n",
            "171/171 [==============================] - 11s 62ms/step - loss: 0.6640 - accuracy: 0.7799 - val_loss: 1.0378 - val_accuracy: 0.6747\n",
            "Epoch 28/200\n",
            "171/171 [==============================] - 11s 65ms/step - loss: 0.6687 - accuracy: 0.7724 - val_loss: 1.0502 - val_accuracy: 0.6758\n",
            "Epoch 29/200\n",
            "171/171 [==============================] - 11s 65ms/step - loss: 0.6564 - accuracy: 0.7821 - val_loss: 1.0987 - val_accuracy: 0.6671\n",
            "Epoch 30/200\n",
            "171/171 [==============================] - 11s 66ms/step - loss: 0.6623 - accuracy: 0.7795 - val_loss: 1.0243 - val_accuracy: 0.6817\n",
            "Epoch 31/200\n",
            "171/171 [==============================] - 11s 64ms/step - loss: 0.6654 - accuracy: 0.7797 - val_loss: 1.0174 - val_accuracy: 0.6806\n",
            "Epoch 32/200\n",
            "171/171 [==============================] - 9s 54ms/step - loss: 0.6524 - accuracy: 0.7804 - val_loss: 1.0610 - val_accuracy: 0.6727\n",
            "Epoch 33/200\n",
            "171/171 [==============================] - 11s 66ms/step - loss: 0.6552 - accuracy: 0.7829 - val_loss: 1.0117 - val_accuracy: 0.6798\n",
            "Epoch 34/200\n",
            "171/171 [==============================] - 11s 65ms/step - loss: 0.6436 - accuracy: 0.7832 - val_loss: 1.0766 - val_accuracy: 0.6689\n",
            "Epoch 35/200\n",
            "171/171 [==============================] - 10s 55ms/step - loss: 0.6490 - accuracy: 0.7826 - val_loss: 1.0014 - val_accuracy: 0.6878\n",
            "Epoch 36/200\n",
            "171/171 [==============================] - 11s 64ms/step - loss: 0.6252 - accuracy: 0.7858 - val_loss: 1.0473 - val_accuracy: 0.6776\n",
            "Epoch 37/200\n",
            "171/171 [==============================] - 10s 57ms/step - loss: 0.6242 - accuracy: 0.7918 - val_loss: 1.0175 - val_accuracy: 0.6795\n",
            "Epoch 38/200\n",
            "171/171 [==============================] - 10s 55ms/step - loss: 0.6125 - accuracy: 0.7925 - val_loss: 1.0334 - val_accuracy: 0.6793\n",
            "Epoch 39/200\n",
            "171/171 [==============================] - 11s 63ms/step - loss: 0.6217 - accuracy: 0.7910 - val_loss: 1.0408 - val_accuracy: 0.6818\n",
            "Epoch 40/200\n",
            "171/171 [==============================] - 11s 64ms/step - loss: 0.6202 - accuracy: 0.7936 - val_loss: 1.0392 - val_accuracy: 0.6790\n",
            "Epoch 41/200\n",
            "171/171 [==============================] - 10s 56ms/step - loss: 0.6136 - accuracy: 0.7932 - val_loss: 1.0757 - val_accuracy: 0.6741\n",
            "Epoch 42/200\n",
            "171/171 [==============================] - 10s 61ms/step - loss: 0.5970 - accuracy: 0.8002 - val_loss: 1.0136 - val_accuracy: 0.6880\n",
            "Epoch 43/200\n",
            "171/171 [==============================] - 11s 66ms/step - loss: 0.6068 - accuracy: 0.7942 - val_loss: 0.9849 - val_accuracy: 0.6962\n",
            "Epoch 44/200\n",
            "171/171 [==============================] - 9s 52ms/step - loss: 0.6044 - accuracy: 0.7944 - val_loss: 1.0196 - val_accuracy: 0.6835\n",
            "Epoch 45/200\n",
            "171/171 [==============================] - 11s 61ms/step - loss: 0.5897 - accuracy: 0.8025 - val_loss: 1.0264 - val_accuracy: 0.6828\n",
            "Epoch 46/200\n",
            "171/171 [==============================] - 12s 69ms/step - loss: 0.6053 - accuracy: 0.7981 - val_loss: 1.0252 - val_accuracy: 0.6844\n",
            "Epoch 47/200\n",
            "171/171 [==============================] - 11s 65ms/step - loss: 0.5848 - accuracy: 0.8028 - val_loss: 1.0665 - val_accuracy: 0.6826\n",
            "Epoch 48/200\n",
            "171/171 [==============================] - 11s 63ms/step - loss: 0.5782 - accuracy: 0.8087 - val_loss: 1.0396 - val_accuracy: 0.6850\n",
            "Epoch 49/200\n",
            "171/171 [==============================] - 11s 61ms/step - loss: 0.5756 - accuracy: 0.8066 - val_loss: 1.0648 - val_accuracy: 0.6791\n",
            "Epoch 50/200\n",
            "171/171 [==============================] - 9s 51ms/step - loss: 0.5759 - accuracy: 0.8088 - val_loss: 1.0608 - val_accuracy: 0.6832\n",
            "Epoch 51/200\n",
            "171/171 [==============================] - 11s 63ms/step - loss: 0.5742 - accuracy: 0.8090 - val_loss: 1.0739 - val_accuracy: 0.6818\n",
            "Epoch 52/200\n",
            "171/171 [==============================] - 11s 64ms/step - loss: 0.5742 - accuracy: 0.8102 - val_loss: 1.0223 - val_accuracy: 0.6937\n",
            "Epoch 53/200\n",
            "171/171 [==============================] - 11s 65ms/step - loss: 0.5587 - accuracy: 0.8064 - val_loss: 1.0077 - val_accuracy: 0.6936\n",
            "Epoch 54/200\n",
            "171/171 [==============================] - 11s 63ms/step - loss: 0.5546 - accuracy: 0.8113 - val_loss: 1.0835 - val_accuracy: 0.6785\n",
            "Epoch 55/200\n",
            "171/171 [==============================] - 9s 54ms/step - loss: 0.5612 - accuracy: 0.8112 - val_loss: 1.0016 - val_accuracy: 0.6934\n",
            "Epoch 56/200\n",
            "171/171 [==============================] - 11s 64ms/step - loss: 0.5401 - accuracy: 0.8206 - val_loss: 1.0228 - val_accuracy: 0.6946\n",
            "Epoch 57/200\n",
            "171/171 [==============================] - 11s 63ms/step - loss: 0.5490 - accuracy: 0.8137 - val_loss: 0.9951 - val_accuracy: 0.6932\n",
            "Epoch 58/200\n",
            "171/171 [==============================] - 11s 66ms/step - loss: 0.5379 - accuracy: 0.8198 - val_loss: 1.0345 - val_accuracy: 0.6887\n",
            "Epoch 59/200\n",
            "171/171 [==============================] - 11s 65ms/step - loss: 0.5279 - accuracy: 0.8195 - val_loss: 1.0697 - val_accuracy: 0.6865\n",
            "Epoch 60/200\n",
            "171/171 [==============================] - 9s 54ms/step - loss: 0.5324 - accuracy: 0.8163 - val_loss: 1.0892 - val_accuracy: 0.6883\n",
            "Epoch 61/200\n",
            "171/171 [==============================] - 11s 65ms/step - loss: 0.5367 - accuracy: 0.8213 - val_loss: 1.0065 - val_accuracy: 0.6953\n",
            "Epoch 62/200\n",
            "171/171 [==============================] - 11s 66ms/step - loss: 0.5281 - accuracy: 0.8246 - val_loss: 1.0574 - val_accuracy: 0.6923\n",
            "Epoch 63/200\n",
            "171/171 [==============================] - 11s 66ms/step - loss: 0.5294 - accuracy: 0.8232 - val_loss: 1.0021 - val_accuracy: 0.6989\n",
            "Epoch 64/200\n",
            "171/171 [==============================] - 9s 53ms/step - loss: 0.5258 - accuracy: 0.8228 - val_loss: 1.1011 - val_accuracy: 0.6855\n",
            "Epoch 65/200\n",
            "171/171 [==============================] - 10s 60ms/step - loss: 0.5034 - accuracy: 0.8279 - val_loss: 1.0278 - val_accuracy: 0.7037\n",
            "Epoch 66/200\n",
            "171/171 [==============================] - 11s 66ms/step - loss: 0.5266 - accuracy: 0.8227 - val_loss: 1.0671 - val_accuracy: 0.6859\n",
            "Epoch 67/200\n",
            "171/171 [==============================] - 11s 66ms/step - loss: 0.5088 - accuracy: 0.8249 - val_loss: 1.0335 - val_accuracy: 0.6958\n",
            "Epoch 68/200\n",
            "171/171 [==============================] - 10s 56ms/step - loss: 0.5017 - accuracy: 0.8271 - val_loss: 1.0731 - val_accuracy: 0.6926\n",
            "Epoch 69/200\n",
            "171/171 [==============================] - 10s 59ms/step - loss: 0.5088 - accuracy: 0.8256 - val_loss: 1.0631 - val_accuracy: 0.6948\n",
            "Epoch 70/200\n",
            "171/171 [==============================] - 11s 65ms/step - loss: 0.5053 - accuracy: 0.8304 - val_loss: 1.0400 - val_accuracy: 0.6999\n",
            "Epoch 71/200\n",
            "171/171 [==============================] - 11s 66ms/step - loss: 0.5054 - accuracy: 0.8266 - val_loss: 1.0499 - val_accuracy: 0.6975\n",
            "Epoch 72/200\n",
            "171/171 [==============================] - 9s 55ms/step - loss: 0.5034 - accuracy: 0.8284 - val_loss: 1.1184 - val_accuracy: 0.6802\n",
            "Epoch 73/200\n",
            "171/171 [==============================] - 11s 67ms/step - loss: 0.5003 - accuracy: 0.8285 - val_loss: 1.0304 - val_accuracy: 0.6968\n",
            "Epoch 74/200\n",
            "171/171 [==============================] - 11s 65ms/step - loss: 0.4920 - accuracy: 0.8307 - val_loss: 1.0286 - val_accuracy: 0.6986\n",
            "Epoch 75/200\n",
            "171/171 [==============================] - 10s 58ms/step - loss: 0.4868 - accuracy: 0.8327 - val_loss: 1.0400 - val_accuracy: 0.7020\n",
            "Epoch 76/200\n",
            "171/171 [==============================] - 10s 60ms/step - loss: 0.4958 - accuracy: 0.8292 - val_loss: 1.0308 - val_accuracy: 0.6994\n",
            "Epoch 77/200\n",
            "171/171 [==============================] - 11s 64ms/step - loss: 0.4868 - accuracy: 0.8322 - val_loss: 1.0307 - val_accuracy: 0.6963\n",
            "Epoch 78/200\n",
            "171/171 [==============================] - 11s 65ms/step - loss: 0.4925 - accuracy: 0.8352 - val_loss: 1.0545 - val_accuracy: 0.6914\n",
            "Epoch 79/200\n",
            "171/171 [==============================] - 9s 53ms/step - loss: 0.4673 - accuracy: 0.8401 - val_loss: 1.0706 - val_accuracy: 0.6946\n",
            "Epoch 80/200\n",
            "171/171 [==============================] - 10s 55ms/step - loss: 0.4880 - accuracy: 0.8329 - val_loss: 1.1003 - val_accuracy: 0.6871\n",
            "Epoch 81/200\n",
            "171/171 [==============================] - 11s 66ms/step - loss: 0.4752 - accuracy: 0.8405 - val_loss: 1.1051 - val_accuracy: 0.6933\n",
            "Epoch 82/200\n",
            "171/171 [==============================] - 11s 65ms/step - loss: 0.4766 - accuracy: 0.8361 - val_loss: 1.0588 - val_accuracy: 0.6974\n",
            "Epoch 83/200\n",
            "171/171 [==============================] - 11s 61ms/step - loss: 0.4653 - accuracy: 0.8421 - val_loss: 1.0431 - val_accuracy: 0.6986\n",
            "Epoch 84/200\n",
            "171/171 [==============================] - 11s 67ms/step - loss: 0.4737 - accuracy: 0.8384 - val_loss: 1.0150 - val_accuracy: 0.7000\n",
            "Epoch 85/200\n",
            "171/171 [==============================] - 11s 65ms/step - loss: 0.4612 - accuracy: 0.8400 - val_loss: 1.0706 - val_accuracy: 0.6938\n",
            "Epoch 86/200\n",
            "171/171 [==============================] - 10s 56ms/step - loss: 0.4563 - accuracy: 0.8436 - val_loss: 1.0985 - val_accuracy: 0.6922\n",
            "Epoch 87/200\n",
            "171/171 [==============================] - 11s 64ms/step - loss: 0.4574 - accuracy: 0.8418 - val_loss: 1.0988 - val_accuracy: 0.6922\n",
            "Epoch 88/200\n",
            "171/171 [==============================] - 11s 66ms/step - loss: 0.4629 - accuracy: 0.8411 - val_loss: 1.0540 - val_accuracy: 0.7039\n",
            "Epoch 89/200\n",
            "171/171 [==============================] - 11s 64ms/step - loss: 0.4505 - accuracy: 0.8484 - val_loss: 1.0726 - val_accuracy: 0.6993\n",
            "Epoch 90/200\n",
            "171/171 [==============================] - 10s 56ms/step - loss: 0.4502 - accuracy: 0.8499 - val_loss: 1.0647 - val_accuracy: 0.7040\n",
            "Epoch 91/200\n",
            "171/171 [==============================] - 11s 66ms/step - loss: 0.4559 - accuracy: 0.8475 - val_loss: 1.0845 - val_accuracy: 0.6968\n",
            "Epoch 92/200\n",
            "171/171 [==============================] - 11s 66ms/step - loss: 0.4594 - accuracy: 0.8435 - val_loss: 1.0022 - val_accuracy: 0.7067\n",
            "Epoch 93/200\n",
            "171/171 [==============================] - 9s 53ms/step - loss: 0.4529 - accuracy: 0.8461 - val_loss: 1.0393 - val_accuracy: 0.6998\n",
            "Epoch 94/200\n",
            "171/171 [==============================] - 11s 63ms/step - loss: 0.4365 - accuracy: 0.8535 - val_loss: 1.1253 - val_accuracy: 0.6929\n",
            "Epoch 95/200\n",
            "171/171 [==============================] - 11s 65ms/step - loss: 0.4384 - accuracy: 0.8545 - val_loss: 1.1185 - val_accuracy: 0.6948\n",
            "Epoch 96/200\n",
            "171/171 [==============================] - 11s 64ms/step - loss: 0.4326 - accuracy: 0.8506 - val_loss: 1.0639 - val_accuracy: 0.6976\n",
            "Epoch 97/200\n",
            "171/171 [==============================] - 11s 64ms/step - loss: 0.4383 - accuracy: 0.8495 - val_loss: 1.0677 - val_accuracy: 0.7054\n",
            "Epoch 98/200\n",
            "171/171 [==============================] - 11s 62ms/step - loss: 0.4313 - accuracy: 0.8544 - val_loss: 1.0274 - val_accuracy: 0.7066\n",
            "Epoch 99/200\n",
            "171/171 [==============================] - 9s 54ms/step - loss: 0.4310 - accuracy: 0.8534 - val_loss: 1.0707 - val_accuracy: 0.6999\n",
            "Epoch 100/200\n",
            "171/171 [==============================] - 11s 61ms/step - loss: 0.4322 - accuracy: 0.8535 - val_loss: 1.0850 - val_accuracy: 0.7024\n",
            "Epoch 101/200\n",
            "171/171 [==============================] - 10s 57ms/step - loss: 0.4310 - accuracy: 0.8545 - val_loss: 1.1398 - val_accuracy: 0.6938\n",
            "Epoch 102/200\n",
            "171/171 [==============================] - 10s 55ms/step - loss: 0.4165 - accuracy: 0.8570 - val_loss: 1.0459 - val_accuracy: 0.7094\n",
            "Epoch 103/200\n",
            "171/171 [==============================] - 11s 65ms/step - loss: 0.4299 - accuracy: 0.8521 - val_loss: 1.0202 - val_accuracy: 0.7079\n",
            "Epoch 104/200\n",
            "171/171 [==============================] - 11s 63ms/step - loss: 0.4325 - accuracy: 0.8522 - val_loss: 1.0402 - val_accuracy: 0.6996\n",
            "Epoch 105/200\n",
            "171/171 [==============================] - 11s 61ms/step - loss: 0.4211 - accuracy: 0.8555 - val_loss: 1.1059 - val_accuracy: 0.6981\n",
            "Epoch 106/200\n",
            "171/171 [==============================] - 11s 66ms/step - loss: 0.4174 - accuracy: 0.8578 - val_loss: 1.1120 - val_accuracy: 0.6973\n",
            "Epoch 107/200\n",
            "171/171 [==============================] - 11s 63ms/step - loss: 0.4262 - accuracy: 0.8548 - val_loss: 1.1133 - val_accuracy: 0.6991\n",
            "Epoch 108/200\n",
            "171/171 [==============================] - 10s 56ms/step - loss: 0.4216 - accuracy: 0.8552 - val_loss: 1.0662 - val_accuracy: 0.7012\n",
            "Epoch 109/200\n",
            "171/171 [==============================] - 11s 65ms/step - loss: 0.4114 - accuracy: 0.8605 - val_loss: 1.0513 - val_accuracy: 0.7030\n",
            "Epoch 110/200\n",
            "171/171 [==============================] - 10s 55ms/step - loss: 0.4071 - accuracy: 0.8600 - val_loss: 1.0360 - val_accuracy: 0.7108\n",
            "Epoch 111/200\n",
            "171/171 [==============================] - 10s 59ms/step - loss: 0.4033 - accuracy: 0.8624 - val_loss: 1.0624 - val_accuracy: 0.6976\n",
            "Epoch 112/200\n",
            "171/171 [==============================] - 11s 64ms/step - loss: 0.4029 - accuracy: 0.8631 - val_loss: 1.0841 - val_accuracy: 0.7033\n",
            "Epoch 113/200\n",
            "171/171 [==============================] - 12s 69ms/step - loss: 0.4056 - accuracy: 0.8620 - val_loss: 1.1045 - val_accuracy: 0.7016\n",
            "Epoch 114/200\n",
            "171/171 [==============================] - 11s 64ms/step - loss: 0.4056 - accuracy: 0.8607 - val_loss: 1.1178 - val_accuracy: 0.6966\n",
            "Epoch 115/200\n",
            "171/171 [==============================] - 11s 63ms/step - loss: 0.4037 - accuracy: 0.8626 - val_loss: 1.0713 - val_accuracy: 0.7046\n",
            "Epoch 116/200\n",
            "171/171 [==============================] - 9s 52ms/step - loss: 0.3895 - accuracy: 0.8675 - val_loss: 1.1288 - val_accuracy: 0.6982\n",
            "Epoch 117/200\n",
            "171/171 [==============================] - 11s 64ms/step - loss: 0.4004 - accuracy: 0.8623 - val_loss: 1.0894 - val_accuracy: 0.7013\n",
            "Epoch 118/200\n",
            "171/171 [==============================] - 10s 58ms/step - loss: 0.3919 - accuracy: 0.8654 - val_loss: 1.0739 - val_accuracy: 0.7093\n",
            "Epoch 119/200\n",
            "171/171 [==============================] - 10s 57ms/step - loss: 0.3989 - accuracy: 0.8680 - val_loss: 1.1561 - val_accuracy: 0.6928\n",
            "Epoch 120/200\n",
            "171/171 [==============================] - 11s 65ms/step - loss: 0.3876 - accuracy: 0.8672 - val_loss: 1.0641 - val_accuracy: 0.7080\n",
            "Epoch 121/200\n",
            "171/171 [==============================] - 11s 64ms/step - loss: 0.3973 - accuracy: 0.8651 - val_loss: 1.0636 - val_accuracy: 0.7054\n",
            "Epoch 122/200\n",
            "171/171 [==============================] - 11s 62ms/step - loss: 0.3857 - accuracy: 0.8668 - val_loss: 1.0641 - val_accuracy: 0.7079\n",
            "Epoch 123/200\n",
            "171/171 [==============================] - 11s 64ms/step - loss: 0.3818 - accuracy: 0.8685 - val_loss: 1.0516 - val_accuracy: 0.7065\n",
            "Epoch 124/200\n",
            "171/171 [==============================] - 9s 54ms/step - loss: 0.3884 - accuracy: 0.8684 - val_loss: 1.0590 - val_accuracy: 0.7074\n",
            "Epoch 125/200\n",
            "171/171 [==============================] - 11s 64ms/step - loss: 0.3870 - accuracy: 0.8673 - val_loss: 1.0669 - val_accuracy: 0.7014\n",
            "Epoch 126/200\n",
            "171/171 [==============================] - 11s 64ms/step - loss: 0.3871 - accuracy: 0.8678 - val_loss: 1.0354 - val_accuracy: 0.7104\n",
            "Epoch 127/200\n",
            "171/171 [==============================] - 11s 65ms/step - loss: 0.3827 - accuracy: 0.8715 - val_loss: 1.1729 - val_accuracy: 0.7011\n",
            "Epoch 128/200\n",
            "171/171 [==============================] - 11s 63ms/step - loss: 0.3774 - accuracy: 0.8726 - val_loss: 1.1075 - val_accuracy: 0.7086\n",
            "Epoch 129/200\n",
            "171/171 [==============================] - 10s 56ms/step - loss: 0.3633 - accuracy: 0.8752 - val_loss: 1.1605 - val_accuracy: 0.7013\n",
            "Epoch 130/200\n",
            "171/171 [==============================] - 10s 59ms/step - loss: 0.3781 - accuracy: 0.8706 - val_loss: 1.0521 - val_accuracy: 0.7155\n",
            "Epoch 131/200\n",
            "171/171 [==============================] - 11s 65ms/step - loss: 0.3733 - accuracy: 0.8715 - val_loss: 1.0531 - val_accuracy: 0.7149\n",
            "Epoch 132/200\n",
            "171/171 [==============================] - 9s 54ms/step - loss: 0.3772 - accuracy: 0.8715 - val_loss: 1.0547 - val_accuracy: 0.7121\n",
            "Epoch 133/200\n",
            "171/171 [==============================] - 10s 60ms/step - loss: 0.3754 - accuracy: 0.8722 - val_loss: 1.0841 - val_accuracy: 0.7124\n",
            "Epoch 134/200\n",
            "171/171 [==============================] - 11s 65ms/step - loss: 0.3709 - accuracy: 0.8750 - val_loss: 1.0551 - val_accuracy: 0.7099\n",
            "Epoch 135/200\n",
            "171/171 [==============================] - 11s 61ms/step - loss: 0.3565 - accuracy: 0.8791 - val_loss: 1.1543 - val_accuracy: 0.7003\n",
            "Epoch 136/200\n",
            "171/171 [==============================] - 11s 66ms/step - loss: 0.3663 - accuracy: 0.8735 - val_loss: 1.0672 - val_accuracy: 0.7059\n",
            "Epoch 137/200\n",
            "171/171 [==============================] - 9s 55ms/step - loss: 0.3636 - accuracy: 0.8747 - val_loss: 1.1113 - val_accuracy: 0.7067\n",
            "Epoch 138/200\n",
            "171/171 [==============================] - 11s 61ms/step - loss: 0.3763 - accuracy: 0.8725 - val_loss: 1.1010 - val_accuracy: 0.7076\n",
            "Epoch 139/200\n",
            "171/171 [==============================] - 11s 64ms/step - loss: 0.3548 - accuracy: 0.8795 - val_loss: 1.0797 - val_accuracy: 0.7127\n",
            "Epoch 140/200\n",
            "171/171 [==============================] - 9s 54ms/step - loss: 0.3663 - accuracy: 0.8735 - val_loss: 1.0568 - val_accuracy: 0.7144\n",
            "Epoch 141/200\n",
            "171/171 [==============================] - 10s 60ms/step - loss: 0.3510 - accuracy: 0.8795 - val_loss: 1.1396 - val_accuracy: 0.7003\n",
            "Epoch 142/200\n",
            "171/171 [==============================] - 11s 66ms/step - loss: 0.3549 - accuracy: 0.8796 - val_loss: 1.0833 - val_accuracy: 0.7087\n",
            "Epoch 143/200\n",
            "171/171 [==============================] - 9s 55ms/step - loss: 0.3505 - accuracy: 0.8797 - val_loss: 1.0916 - val_accuracy: 0.7103\n",
            "Epoch 144/200\n",
            "171/171 [==============================] - 11s 64ms/step - loss: 0.3273 - accuracy: 0.8872 - val_loss: 1.1025 - val_accuracy: 0.7129\n",
            "Epoch 145/200\n",
            "171/171 [==============================] - 12s 67ms/step - loss: 0.3434 - accuracy: 0.8826 - val_loss: 1.1441 - val_accuracy: 0.7017\n",
            "Epoch 146/200\n",
            "171/171 [==============================] - 9s 55ms/step - loss: 0.3598 - accuracy: 0.8771 - val_loss: 1.1346 - val_accuracy: 0.7035\n",
            "Epoch 147/200\n",
            "171/171 [==============================] - 10s 60ms/step - loss: 0.3319 - accuracy: 0.8865 - val_loss: 1.1010 - val_accuracy: 0.7074\n",
            "Epoch 148/200\n",
            "171/171 [==============================] - 11s 64ms/step - loss: 0.3418 - accuracy: 0.8840 - val_loss: 1.1418 - val_accuracy: 0.7011\n",
            "Epoch 149/200\n",
            "171/171 [==============================] - 9s 53ms/step - loss: 0.3468 - accuracy: 0.8836 - val_loss: 1.0958 - val_accuracy: 0.7142\n",
            "Epoch 150/200\n",
            "171/171 [==============================] - 11s 64ms/step - loss: 0.3527 - accuracy: 0.8809 - val_loss: 1.0857 - val_accuracy: 0.7115\n",
            "Epoch 151/200\n",
            "171/171 [==============================] - 11s 63ms/step - loss: 0.3511 - accuracy: 0.8798 - val_loss: 1.0868 - val_accuracy: 0.7125\n",
            "Epoch 152/200\n",
            "171/171 [==============================] - 9s 54ms/step - loss: 0.3349 - accuracy: 0.8844 - val_loss: 1.0867 - val_accuracy: 0.7127\n",
            "Epoch 153/200\n",
            "171/171 [==============================] - 11s 63ms/step - loss: 0.3412 - accuracy: 0.8828 - val_loss: 1.1101 - val_accuracy: 0.7087\n",
            "Epoch 154/200\n",
            "171/171 [==============================] - 11s 64ms/step - loss: 0.3386 - accuracy: 0.8853 - val_loss: 1.0768 - val_accuracy: 0.7152\n",
            "Epoch 155/200\n",
            "171/171 [==============================] - 11s 62ms/step - loss: 0.3393 - accuracy: 0.8861 - val_loss: 1.0895 - val_accuracy: 0.7127\n",
            "Epoch 156/200\n",
            "171/171 [==============================] - 11s 64ms/step - loss: 0.3296 - accuracy: 0.8886 - val_loss: 1.1285 - val_accuracy: 0.7103\n",
            "Epoch 157/200\n",
            "171/171 [==============================] - 10s 56ms/step - loss: 0.3336 - accuracy: 0.8884 - val_loss: 1.0833 - val_accuracy: 0.7163\n",
            "Epoch 158/200\n",
            "171/171 [==============================] - 11s 64ms/step - loss: 0.3362 - accuracy: 0.8847 - val_loss: 1.0780 - val_accuracy: 0.7132\n",
            "Epoch 159/200\n",
            "171/171 [==============================] - 11s 64ms/step - loss: 0.3155 - accuracy: 0.8915 - val_loss: 1.1653 - val_accuracy: 0.7064\n",
            "Epoch 160/200\n",
            "171/171 [==============================] - 12s 68ms/step - loss: 0.3294 - accuracy: 0.8887 - val_loss: 1.0881 - val_accuracy: 0.7117\n",
            "Epoch 161/200\n",
            "171/171 [==============================] - 12s 67ms/step - loss: 0.3216 - accuracy: 0.8911 - val_loss: 1.1151 - val_accuracy: 0.7155\n",
            "Epoch 162/200\n",
            "171/171 [==============================] - 11s 62ms/step - loss: 0.3202 - accuracy: 0.8906 - val_loss: 1.0901 - val_accuracy: 0.7125\n",
            "Epoch 163/200\n",
            "171/171 [==============================] - 10s 55ms/step - loss: 0.3277 - accuracy: 0.8904 - val_loss: 1.1580 - val_accuracy: 0.7026\n",
            "Epoch 164/200\n",
            "171/171 [==============================] - 10s 57ms/step - loss: 0.3194 - accuracy: 0.8902 - val_loss: 1.0939 - val_accuracy: 0.7116\n",
            "Epoch 165/200\n",
            "171/171 [==============================] - 11s 65ms/step - loss: 0.3194 - accuracy: 0.8923 - val_loss: 1.1187 - val_accuracy: 0.7086\n",
            "Epoch 166/200\n",
            "171/171 [==============================] - 11s 66ms/step - loss: 0.3257 - accuracy: 0.8909 - val_loss: 1.1676 - val_accuracy: 0.7075\n",
            "Epoch 167/200\n",
            "171/171 [==============================] - 11s 63ms/step - loss: 0.3310 - accuracy: 0.8880 - val_loss: 1.0815 - val_accuracy: 0.7177\n",
            "Epoch 168/200\n",
            "171/171 [==============================] - 10s 57ms/step - loss: 0.3209 - accuracy: 0.8859 - val_loss: 1.1192 - val_accuracy: 0.7095\n",
            "Epoch 169/200\n",
            "171/171 [==============================] - 11s 63ms/step - loss: 0.3152 - accuracy: 0.8911 - val_loss: 1.2047 - val_accuracy: 0.7017\n",
            "Epoch 170/200\n",
            "171/171 [==============================] - 11s 66ms/step - loss: 0.3179 - accuracy: 0.8953 - val_loss: 1.0883 - val_accuracy: 0.7087\n",
            "Epoch 171/200\n",
            "171/171 [==============================] - 11s 66ms/step - loss: 0.3116 - accuracy: 0.8955 - val_loss: 1.1604 - val_accuracy: 0.7039\n",
            "Epoch 172/200\n",
            "171/171 [==============================] - 11s 61ms/step - loss: 0.3066 - accuracy: 0.8940 - val_loss: 1.1254 - val_accuracy: 0.7147\n",
            "Epoch 173/200\n",
            "171/171 [==============================] - 11s 65ms/step - loss: 0.3081 - accuracy: 0.8949 - val_loss: 1.1559 - val_accuracy: 0.7110\n",
            "Epoch 174/200\n",
            "171/171 [==============================] - 12s 68ms/step - loss: 0.3082 - accuracy: 0.8966 - val_loss: 1.1004 - val_accuracy: 0.7153\n",
            "Epoch 175/200\n",
            "171/171 [==============================] - 9s 52ms/step - loss: 0.3082 - accuracy: 0.8948 - val_loss: 1.1249 - val_accuracy: 0.7123\n",
            "Epoch 176/200\n",
            "171/171 [==============================] - 11s 64ms/step - loss: 0.3188 - accuracy: 0.8935 - val_loss: 1.0905 - val_accuracy: 0.7194\n",
            "Epoch 177/200\n",
            "171/171 [==============================] - 11s 64ms/step - loss: 0.3079 - accuracy: 0.8942 - val_loss: 1.0991 - val_accuracy: 0.7139\n",
            "Epoch 178/200\n",
            "171/171 [==============================] - 9s 55ms/step - loss: 0.2995 - accuracy: 0.9005 - val_loss: 1.1457 - val_accuracy: 0.7097\n",
            "Epoch 179/200\n",
            "171/171 [==============================] - 11s 65ms/step - loss: 0.3001 - accuracy: 0.9025 - val_loss: 1.1394 - val_accuracy: 0.7076\n",
            "Epoch 180/200\n",
            "171/171 [==============================] - 11s 66ms/step - loss: 0.3144 - accuracy: 0.8952 - val_loss: 1.1290 - val_accuracy: 0.7134\n",
            "Epoch 181/200\n",
            "171/171 [==============================] - 12s 71ms/step - loss: 0.3035 - accuracy: 0.8985 - val_loss: 1.1410 - val_accuracy: 0.7116\n",
            "Epoch 182/200\n",
            "171/171 [==============================] - 11s 66ms/step - loss: 0.3052 - accuracy: 0.9009 - val_loss: 1.1615 - val_accuracy: 0.7070\n",
            "Epoch 183/200\n",
            "171/171 [==============================] - 11s 65ms/step - loss: 0.3067 - accuracy: 0.8966 - val_loss: 1.1048 - val_accuracy: 0.7171\n",
            "Epoch 184/200\n",
            "171/171 [==============================] - 12s 69ms/step - loss: 0.3074 - accuracy: 0.8968 - val_loss: 1.1362 - val_accuracy: 0.7149\n",
            "Epoch 185/200\n",
            "171/171 [==============================] - 11s 67ms/step - loss: 0.3007 - accuracy: 0.8989 - val_loss: 1.1048 - val_accuracy: 0.7164\n",
            "Epoch 186/200\n",
            "171/171 [==============================] - 12s 68ms/step - loss: 0.2933 - accuracy: 0.9005 - val_loss: 1.1569 - val_accuracy: 0.7128\n",
            "Epoch 187/200\n",
            "171/171 [==============================] - 10s 61ms/step - loss: 0.2951 - accuracy: 0.9011 - val_loss: 1.1490 - val_accuracy: 0.7105\n",
            "Epoch 188/200\n",
            "171/171 [==============================] - 10s 58ms/step - loss: 0.2965 - accuracy: 0.8994 - val_loss: 1.1987 - val_accuracy: 0.7062\n",
            "Epoch 189/200\n",
            "171/171 [==============================] - 11s 67ms/step - loss: 0.2850 - accuracy: 0.9034 - val_loss: 1.2230 - val_accuracy: 0.7026\n",
            "Epoch 190/200\n",
            "171/171 [==============================] - 12s 68ms/step - loss: 0.2931 - accuracy: 0.9011 - val_loss: 1.0829 - val_accuracy: 0.7240\n",
            "Epoch 191/200\n",
            "171/171 [==============================] - 10s 58ms/step - loss: 0.2866 - accuracy: 0.9019 - val_loss: 1.1907 - val_accuracy: 0.7118\n",
            "Epoch 192/200\n",
            "171/171 [==============================] - 11s 66ms/step - loss: 0.2869 - accuracy: 0.8995 - val_loss: 1.1713 - val_accuracy: 0.7070\n",
            "Epoch 193/200\n",
            "171/171 [==============================] - 12s 67ms/step - loss: 0.2893 - accuracy: 0.9005 - val_loss: 1.1670 - val_accuracy: 0.7154\n",
            "Epoch 194/200\n",
            "171/171 [==============================] - 9s 54ms/step - loss: 0.2952 - accuracy: 0.8994 - val_loss: 1.1631 - val_accuracy: 0.7153\n",
            "Epoch 195/200\n",
            "171/171 [==============================] - 10s 60ms/step - loss: 0.2877 - accuracy: 0.9034 - val_loss: 1.1487 - val_accuracy: 0.7174\n",
            "Epoch 196/200\n",
            "171/171 [==============================] - 12s 67ms/step - loss: 0.2790 - accuracy: 0.9030 - val_loss: 1.2121 - val_accuracy: 0.7124\n",
            "Epoch 197/200\n",
            "171/171 [==============================] - 10s 55ms/step - loss: 0.2911 - accuracy: 0.9002 - val_loss: 1.1972 - val_accuracy: 0.7024\n",
            "Epoch 198/200\n",
            "171/171 [==============================] - 11s 62ms/step - loss: 0.2798 - accuracy: 0.9029 - val_loss: 1.1693 - val_accuracy: 0.7146\n",
            "Epoch 199/200\n",
            "171/171 [==============================] - 11s 66ms/step - loss: 0.2818 - accuracy: 0.9023 - val_loss: 1.1860 - val_accuracy: 0.7113\n",
            "Epoch 200/200\n",
            "171/171 [==============================] - 11s 64ms/step - loss: 0.2782 - accuracy: 0.9073 - val_loss: 1.1244 - val_accuracy: 0.7203\n"
          ]
        }
      ],
      "source": [
        "batch_size=64\n",
        "\n",
        "#モデルの初期化\n",
        "#model = load_model('./CIFAR-10-notrained.keras')\n",
        "\n",
        "#初期訓練（いきなり水増しデータで訓練すると，効率が悪い場合があるため）\n",
        "history = model.fit(my_x_train_norm, my_y_train_onehot, epochs=200, validation_data=(x_test_org_norm, y_test_org_onehot))\n",
        "\n",
        "# datagenでデータを変形しながら，my_x_train_normとmy_y_train_onehotの学習を行う．\n",
        "# 正解率(accuracy)は，テスト用データ(x_test_org_norm, y_test_org_onehot)で評価する．\n",
        "# 「過学習」を避けるために，正解率の評価には，訓練用データとは別の評価用データを使う．\n",
        "\n",
        "history=model.fit(\n",
        "    datagen.flow(my_x_train_norm, my_y_train_onehot, batch_size=batch_size),\n",
        "    validation_data=(x_test_org_norm, y_test_org_onehot),\n",
        "    steps_per_epoch=len(my_x_train_norm)/batch_size,\n",
        "    epochs=200\n",
        ")\n",
        "# このノートブック中で最後に保存したモデルが提出する学習済みCNNモデルになる．\n",
        "model.save(LEARNED_CNN_MODEL)"
      ]
    },
    {
      "cell_type": "markdown",
      "id": "MVj3LlcVDrf4",
      "metadata": {
        "id": "MVj3LlcVDrf4"
      },
      "source": [
        "## 学習時の損失関数と正解率の推移表示"
      ]
    },
    {
      "cell_type": "code",
      "execution_count": null,
      "id": "yeEm-YrXDrf4",
      "metadata": {
        "id": "yeEm-YrXDrf4",
        "outputId": "beb18014-6018-4923-c8d5-7f8290113fe0",
        "colab": {
          "base_uri": "https://localhost:8080/"
        }
      },
      "outputs": [
        {
          "output_type": "display_data",
          "data": {
            "text/plain": [
              "<Figure size 640x480 with 1 Axes>"
            ],
            "image/png": "[encoded data removed]"
          },
          "metadata": {}
        },
        {
          "output_type": "display_data",
          "data": {
            "text/plain": [
              "<Figure size 640x480 with 1 Axes>"
            ],
            "image/png": "[encoded data removed]"
          },
          "metadata": {}
        }
      ],
      "source": [
        "from pandas import DataFrame\n",
        "# 学習に伴う正解率の変化\n",
        "DataFrame({'accuracy':history.history['accuracy'], 'val_accuracy': history.history['val_accuracy']}).plot()\n",
        "plt.show()\n",
        "\n",
        "DataFrame({'loss':history.history['loss'], 'val_loss': history.history['val_loss']}).plot()\n",
        "plt.show()"
      ]
    },
    {
      "cell_type": "markdown",
      "id": "HdEwQGBbWVIs",
      "metadata": {
        "id": "HdEwQGBbWVIs"
      },
      "source": [
        "## 混同行列の表示"
      ]
    },
    {
      "cell_type": "code",
      "execution_count": null,
      "id": "lvtsI0H7UbL-",
      "metadata": {
        "id": "lvtsI0H7UbL-",
        "outputId": "14dc80fd-b963-4180-b179-9008788d88ca",
        "colab": {
          "base_uri": "https://localhost:8080/"
        }
      },
      "outputs": [
        {
          "output_type": "stream",
          "name": "stdout",
          "text": [
            "313/313 [==============================] - 1s 2ms/step\n",
            "テストデータに対するconfusion_matrix\n"
          ]
        },
        {
          "output_type": "display_data",
          "data": {
            "text/plain": [
              "<Figure size 800x600 with 2 Axes>"
            ],
            "image/png": "[encoded data removed]"
          },
          "metadata": {}
        }
      ],
      "source": [
        "import pandas as pd\n",
        "import seaborn as sns\n",
        "from sklearn.metrics import confusion_matrix\n",
        "\n",
        "# 真のクラス\n",
        "true_classes = np.argmax(y_test_org_onehot,1)\n",
        "#print(\"true_classes=\",true_classes)\n",
        "\n",
        "# 予測したクラス\n",
        "predict_classes = np.argmax(model.predict(x_test_org_norm), axis = -1)\n",
        "#print(\"pred_classes=\",predict_classes)\n",
        "\n",
        "print(\"テストデータに対するconfusion_matrix\")\n",
        "cmx=confusion_matrix(true_classes, predict_classes)\n",
        "\n",
        "# Trueにすると正規化 ->　値/(行の合計)　axis=1\n",
        "normalize=False\n",
        "if normalize:\n",
        "    cmx = cmx.astype('float') / cmx.sum(axis=1)[:, np.newaxis]\n",
        "    cmx_title=\"confusion matrix (normalized)\"\n",
        "\n",
        "    # 桁数指定\n",
        "    cmx_fmt=\"1.2f\"\n",
        "else:\n",
        "    cmx_title=\"confusion matrix\"\n",
        "    cmx_fmt=\"g\"\n",
        "\n",
        "cmx_labeled = pd.DataFrame(cmx, columns=classNames, index=classNames)\n",
        "\n",
        "# 混同行列をcsvファイルに出力\n",
        "# cmx_labeled.to_csv('cmx_labeled.csv')\n",
        "\n",
        "# ヒートマップで表示\n",
        "fig, ax = plt.subplots(figsize=(8, 6))\n",
        "sns.heatmap(cmx_labeled, annot=True, fmt=cmx_fmt, cmap='Reds')\n",
        "ax.set_ylim(len(cmx_labeled), 0)\n",
        "ax.set_xlabel('Predicted label')\n",
        "ax.set_ylabel('True label')\n",
        "plt.title(cmx_title)\n",
        "plt.rcParams[\"font.size\"]=12\n",
        "plt.show()"
      ]
    },
    {
      "cell_type": "markdown",
      "id": "oVF-oiopDrf5",
      "metadata": {
        "id": "oVF-oiopDrf5"
      },
      "source": [
        "## コンテストでの正解率（重点学習クラスの重み付き）の計算\n",
        "\n",
        "コンテストで正解率を評価する関数は以下の通りです．この関数には，CNNモデルのファイル名と，評価用データの番号を並べたファイル名と，各班に指定された重点分類クラスの番号を入力します．重点分類クラスのデータの正解には，３倍の重みがあります．"
      ]
    },
    {
      "cell_type": "code",
      "execution_count": null,
      "id": "mWUCD0aWDrf5",
      "metadata": {
        "id": "mWUCD0aWDrf5"
      },
      "outputs": [],
      "source": [
        "# modelFileNameのファイル名で，kerasのニューラルネットワークモデルのファイルを指定\n",
        "# dataFileNameのファイル名で，評価用データの番号を並べたファイルを指定\n",
        "# specialLabelには，重点分類番号を与える\n",
        "def contest_demo(myModel, dataFileName, specialLabel):\n",
        "\n",
        "    # ファイル読み込み\n",
        "    dataIdxList = np.loadtxt(dataFileName, dtype=int).tolist()\n",
        "\n",
        "    countAll = 0\n",
        "    countCorrect = 0\n",
        "\n",
        "    for index in dataIdxList:\n",
        "        # 正解値\n",
        "        classIdx=y_test_org[index][0]\n",
        "        # 予測\n",
        "        preds = myModel.predict(x_test_org_norm[index:index+1])\n",
        "        maxpred = np.argmax(preds)\n",
        "\n",
        "        # 点数\n",
        "        point = 1 if (classIdx == maxpred) else 0\n",
        "\n",
        "        # 倍率\n",
        "        weight = 3 if (classIdx == specialLabel) else 1\n",
        "\n",
        "        # 点数カウント\n",
        "        countCorrect += (point*weight)\n",
        "        countAll += weight\n",
        "\n",
        "        #print(' index:{}  answer:{}  prediction: {} point: {}'.format(index, classIdx, maxpred, point*weight))\n",
        "\n",
        "    print (' total:{}'.format(float(countCorrect)/countAll))"
      ]
    },
    {
      "cell_type": "markdown",
      "id": "0XrKktzwDrf5",
      "metadata": {
        "id": "0XrKktzwDrf5"
      },
      "source": [
        "コンテストでの評価デモの動かし方ですが，保存された認識モデルのファイル名，評価用データのファイル名と，重点学習クラスの番号を与えて動かします．\n",
        "\n",
        "評価用データは，実際のコンテストでは教員から提供されますが，とりあえずテスト用に，0,1,2,...,99という番号のファイルを`'contestDataTest.txt'`として作ってみましょう．\n",
        "以下のセルで作成されます．"
      ]
    },
    {
      "cell_type": "code",
      "execution_count": null,
      "id": "Da7dSw-CDrf6",
      "metadata": {
        "id": "Da7dSw-CDrf6"
      },
      "outputs": [],
      "source": [
        "#### USEFULL FOR GROUPWORK\n",
        "# 学習済みモデルの優劣を調べるには毎回同じ評価データを使用して比較する\n",
        "# ただし特定のデータに対して過学習してしまうことも考えられるため異なる評価データで試してみることも必要\n",
        "\n",
        "# 最初の画像の番号(過学習が考えられる場合はここを変更)\n",
        "START=0\n",
        "# 評価する画像の枚数(すべての評価用データを使用すると時間がかかるため任意の枚数でよい)\n",
        "NUM=200\n",
        "\n",
        "START=min(START,10000-NUM)\n",
        "numList=[]\n",
        "for i in range(START,START+NUM):\n",
        "    numList.append(i)\n",
        "# ファイル出力\n",
        "np.savetxt('contestDataTest.txt', numList, fmt='%d')"
      ]
    },
    {
      "cell_type": "markdown",
      "id": "avRTUhajDrf6",
      "metadata": {
        "id": "avRTUhajDrf6"
      },
      "source": [
        "`'contestDataTest.txt'`に出力された番号を確認してみてください．\n",
        "このファイルを用いて評価を行う場合，以下のように実行します．"
      ]
    },
    {
      "cell_type": "markdown",
      "source": [
        "# 実験結果"
      ],
      "metadata": {
        "id": "qvJ4V1Bh6fF3"
      },
      "id": "qvJ4V1Bh6fF3"
    },
    {
      "cell_type": "code",
      "execution_count": null,
      "id": "fVd36KYYDrf6",
      "metadata": {
        "id": "fVd36KYYDrf6",
        "colab": {
          "base_uri": "https://localhost:8080/"
        },
        "outputId": "f2558194-f920-4d3d-c721-f20d9a1737ed"
      },
      "outputs": [
        {
          "output_type": "stream",
          "name": "stdout",
          "text": [
            "1/1 [==============================] - 0s 403ms/step\n",
            "1/1 [==============================] - 0s 17ms/step\n",
            "1/1 [==============================] - 0s 18ms/step\n",
            "1/1 [==============================] - 0s 28ms/step\n",
            "1/1 [==============================] - 0s 24ms/step\n",
            "1/1 [==============================] - 0s 17ms/step\n",
            "1/1 [==============================] - 0s 17ms/step\n",
            "1/1 [==============================] - 0s 18ms/step\n",
            "1/1 [==============================] - 0s 17ms/step\n",
            "1/1 [==============================] - 0s 17ms/step\n",
            "1/1 [==============================] - 0s 16ms/step\n",
            "1/1 [==============================] - 0s 17ms/step\n",
            "1/1 [==============================] - 0s 16ms/step\n",
            "1/1 [==============================] - 0s 17ms/step\n",
            "1/1 [==============================] - 0s 18ms/step\n",
            "1/1 [==============================] - 0s 18ms/step\n",
            "1/1 [==============================] - 0s 18ms/step\n",
            "1/1 [==============================] - 0s 18ms/step\n",
            "1/1 [==============================] - 0s 19ms/step\n",
            "1/1 [==============================] - 0s 18ms/step\n",
            "1/1 [==============================] - 0s 20ms/step\n",
            "1/1 [==============================] - 0s 17ms/step\n",
            "1/1 [==============================] - 0s 17ms/step\n",
            "1/1 [==============================] - 0s 17ms/step\n",
            "1/1 [==============================] - 0s 17ms/step\n",
            "1/1 [==============================] - 0s 18ms/step\n",
            "1/1 [==============================] - 0s 18ms/step\n",
            "1/1 [==============================] - 0s 19ms/step\n",
            "1/1 [==============================] - 0s 17ms/step\n",
            "1/1 [==============================] - 0s 17ms/step\n",
            "1/1 [==============================] - 0s 21ms/step\n",
            "1/1 [==============================] - 0s 17ms/step\n",
            "1/1 [==============================] - 0s 17ms/step\n",
            "1/1 [==============================] - 0s 20ms/step\n",
            "1/1 [==============================] - 0s 18ms/step\n",
            "1/1 [==============================] - 0s 17ms/step\n",
            "1/1 [==============================] - 0s 16ms/step\n",
            "1/1 [==============================] - 0s 17ms/step\n",
            "1/1 [==============================] - 0s 17ms/step\n",
            "1/1 [==============================] - 0s 17ms/step\n",
            "1/1 [==============================] - 0s 17ms/step\n",
            "1/1 [==============================] - 0s 17ms/step\n",
            "1/1 [==============================] - 0s 17ms/step\n",
            "1/1 [==============================] - 0s 25ms/step\n",
            "1/1 [==============================] - 0s 20ms/step\n",
            "1/1 [==============================] - 0s 18ms/step\n",
            "1/1 [==============================] - 0s 23ms/step\n",
            "1/1 [==============================] - 0s 17ms/step\n",
            "1/1 [==============================] - 0s 18ms/step\n",
            "1/1 [==============================] - 0s 17ms/step\n",
            "1/1 [==============================] - 0s 18ms/step\n",
            "1/1 [==============================] - 0s 17ms/step\n",
            "1/1 [==============================] - 0s 17ms/step\n",
            "1/1 [==============================] - 0s 18ms/step\n",
            "1/1 [==============================] - 0s 17ms/step\n",
            "1/1 [==============================] - 0s 20ms/step\n",
            "1/1 [==============================] - 0s 18ms/step\n",
            "1/1 [==============================] - 0s 19ms/step\n",
            "1/1 [==============================] - 0s 19ms/step\n",
            "1/1 [==============================] - 0s 19ms/step\n",
            "1/1 [==============================] - 0s 31ms/step\n",
            "1/1 [==============================] - 0s 18ms/step\n",
            "1/1 [==============================] - 0s 18ms/step\n",
            "1/1 [==============================] - 0s 17ms/step\n",
            "1/1 [==============================] - 0s 18ms/step\n",
            "1/1 [==============================] - 0s 20ms/step\n",
            "1/1 [==============================] - 0s 18ms/step\n",
            "1/1 [==============================] - 0s 17ms/step\n",
            "1/1 [==============================] - 0s 17ms/step\n",
            "1/1 [==============================] - 0s 17ms/step\n",
            "1/1 [==============================] - 0s 19ms/step\n",
            "1/1 [==============================] - 0s 19ms/step\n",
            "1/1 [==============================] - 0s 18ms/step\n",
            "1/1 [==============================] - 0s 23ms/step\n",
            "1/1 [==============================] - 0s 19ms/step\n",
            "1/1 [==============================] - 0s 19ms/step\n",
            "1/1 [==============================] - 0s 22ms/step\n",
            "1/1 [==============================] - 0s 18ms/step\n",
            "1/1 [==============================] - 0s 19ms/step\n",
            "1/1 [==============================] - 0s 20ms/step\n",
            "1/1 [==============================] - 0s 19ms/step\n",
            "1/1 [==============================] - 0s 21ms/step\n",
            "1/1 [==============================] - 0s 18ms/step\n",
            "1/1 [==============================] - 0s 19ms/step\n",
            "1/1 [==============================] - 0s 17ms/step\n",
            "1/1 [==============================] - 0s 21ms/step\n",
            "1/1 [==============================] - 0s 18ms/step\n",
            "1/1 [==============================] - 0s 18ms/step\n",
            "1/1 [==============================] - 0s 19ms/step\n",
            "1/1 [==============================] - 0s 21ms/step\n",
            "1/1 [==============================] - 0s 19ms/step\n",
            "1/1 [==============================] - 0s 22ms/step\n",
            "1/1 [==============================] - 0s 17ms/step\n",
            "1/1 [==============================] - 0s 18ms/step\n",
            "1/1 [==============================] - 0s 17ms/step\n",
            "1/1 [==============================] - 0s 17ms/step\n",
            "1/1 [==============================] - 0s 19ms/step\n",
            "1/1 [==============================] - 0s 18ms/step\n",
            "1/1 [==============================] - 0s 18ms/step\n",
            "1/1 [==============================] - 0s 19ms/step\n",
            "1/1 [==============================] - 0s 18ms/step\n",
            "1/1 [==============================] - 0s 18ms/step\n",
            "1/1 [==============================] - 0s 19ms/step\n",
            "1/1 [==============================] - 0s 17ms/step\n",
            "1/1 [==============================] - 0s 20ms/step\n",
            "1/1 [==============================] - 0s 20ms/step\n",
            "1/1 [==============================] - 0s 23ms/step\n",
            "1/1 [==============================] - 0s 19ms/step\n",
            "1/1 [==============================] - 0s 18ms/step\n",
            "1/1 [==============================] - 0s 20ms/step\n",
            "1/1 [==============================] - 0s 18ms/step\n",
            "1/1 [==============================] - 0s 17ms/step\n",
            "1/1 [==============================] - 0s 17ms/step\n",
            "1/1 [==============================] - 0s 18ms/step\n",
            "1/1 [==============================] - 0s 18ms/step\n",
            "1/1 [==============================] - 0s 18ms/step\n",
            "1/1 [==============================] - 0s 33ms/step\n",
            "1/1 [==============================] - 0s 31ms/step\n",
            "1/1 [==============================] - 0s 25ms/step\n",
            "1/1 [==============================] - 0s 29ms/step\n",
            "1/1 [==============================] - 0s 26ms/step\n",
            "1/1 [==============================] - 0s 24ms/step\n",
            "1/1 [==============================] - 0s 30ms/step\n",
            "1/1 [==============================] - 0s 25ms/step\n",
            "1/1 [==============================] - 0s 26ms/step\n",
            "1/1 [==============================] - 0s 25ms/step\n",
            "1/1 [==============================] - 0s 26ms/step\n",
            "1/1 [==============================] - 0s 26ms/step\n",
            "1/1 [==============================] - 0s 26ms/step\n",
            "1/1 [==============================] - 0s 26ms/step\n",
            "1/1 [==============================] - 0s 26ms/step\n",
            "1/1 [==============================] - 0s 29ms/step\n",
            "1/1 [==============================] - 0s 25ms/step\n",
            "1/1 [==============================] - 0s 25ms/step\n",
            "1/1 [==============================] - 0s 41ms/step\n",
            "1/1 [==============================] - 0s 25ms/step\n",
            "1/1 [==============================] - 0s 25ms/step\n",
            "1/1 [==============================] - 0s 26ms/step\n",
            "1/1 [==============================] - 0s 26ms/step\n",
            "1/1 [==============================] - 0s 29ms/step\n",
            "1/1 [==============================] - 0s 31ms/step\n",
            "1/1 [==============================] - 0s 29ms/step\n",
            "1/1 [==============================] - 0s 29ms/step\n",
            "1/1 [==============================] - 0s 28ms/step\n",
            "1/1 [==============================] - 0s 27ms/step\n",
            "1/1 [==============================] - 0s 33ms/step\n",
            "1/1 [==============================] - 0s 33ms/step\n",
            "1/1 [==============================] - 0s 27ms/step\n",
            "1/1 [==============================] - 0s 29ms/step\n",
            "1/1 [==============================] - 0s 29ms/step\n",
            "1/1 [==============================] - 0s 26ms/step\n",
            "1/1 [==============================] - 0s 26ms/step\n",
            "1/1 [==============================] - 0s 26ms/step\n",
            "1/1 [==============================] - 0s 30ms/step\n",
            "1/1 [==============================] - 0s 27ms/step\n",
            "1/1 [==============================] - 0s 27ms/step\n",
            "1/1 [==============================] - 0s 27ms/step\n",
            "1/1 [==============================] - 0s 19ms/step\n",
            "1/1 [==============================] - 0s 18ms/step\n",
            "1/1 [==============================] - 0s 18ms/step\n",
            "1/1 [==============================] - 0s 19ms/step\n",
            "1/1 [==============================] - 0s 18ms/step\n",
            "1/1 [==============================] - 0s 19ms/step\n",
            "1/1 [==============================] - 0s 18ms/step\n",
            "1/1 [==============================] - 0s 17ms/step\n",
            "1/1 [==============================] - 0s 17ms/step\n",
            "1/1 [==============================] - 0s 18ms/step\n",
            "1/1 [==============================] - 0s 18ms/step\n",
            "1/1 [==============================] - 0s 19ms/step\n",
            "1/1 [==============================] - 0s 17ms/step\n",
            "1/1 [==============================] - 0s 18ms/step\n",
            "1/1 [==============================] - 0s 17ms/step\n",
            "1/1 [==============================] - 0s 19ms/step\n",
            "1/1 [==============================] - 0s 20ms/step\n",
            "1/1 [==============================] - 0s 18ms/step\n",
            "1/1 [==============================] - 0s 17ms/step\n",
            "1/1 [==============================] - 0s 17ms/step\n",
            "1/1 [==============================] - 0s 17ms/step\n",
            "1/1 [==============================] - 0s 20ms/step\n",
            "1/1 [==============================] - 0s 18ms/step\n",
            "1/1 [==============================] - 0s 18ms/step\n",
            "1/1 [==============================] - 0s 19ms/step\n",
            "1/1 [==============================] - 0s 18ms/step\n",
            "1/1 [==============================] - 0s 18ms/step\n",
            "1/1 [==============================] - 0s 17ms/step\n",
            "1/1 [==============================] - 0s 17ms/step\n",
            "1/1 [==============================] - 0s 17ms/step\n",
            "1/1 [==============================] - 0s 17ms/step\n",
            "1/1 [==============================] - 0s 18ms/step\n",
            "1/1 [==============================] - 0s 18ms/step\n",
            "1/1 [==============================] - 0s 18ms/step\n",
            "1/1 [==============================] - 0s 18ms/step\n",
            "1/1 [==============================] - 0s 17ms/step\n",
            "1/1 [==============================] - 0s 17ms/step\n",
            "1/1 [==============================] - 0s 17ms/step\n",
            "1/1 [==============================] - 0s 17ms/step\n",
            "1/1 [==============================] - 0s 17ms/step\n",
            "1/1 [==============================] - 0s 17ms/step\n",
            "1/1 [==============================] - 0s 17ms/step\n",
            "1/1 [==============================] - 0s 17ms/step\n",
            " total:0.75\n",
            "\n",
            "以下のモデルを評価しました．\n",
            "学習済みCNNモデル：cnn-14-9.keras (/content/drive/MyDrive/jikken_b/cifar10に保存)\n"
          ]
        }
      ],
      "source": [
        "# モデルの読み込み\n",
        "mymodel = load_model(LEARNED_CNN_MODEL)\n",
        "\n",
        "# 評価\n",
        "contest_demo(mymodel, './contestDataTest.txt', int(CLASS_NO))\n",
        "\n",
        "print('\\n以下のモデルを評価しました．')\n",
        "print('学習済みCNNモデル：' + LEARNED_CNN_MODEL + ' (' + current_dir + 'に保存)')"
      ]
    },
    {
      "cell_type": "code",
      "source": [
        "#import numpy as np\n",
        "#import IPython\n",
        "\n",
        "#rate = 48000\n",
        "#duration = 3.0\n",
        "#t = np.linspace(0., duration, int(rate*duration))\n",
        "#x = np.sin(2.0*np.pi*440.0*t)\n",
        "#IPython.display.Audio(x, rate=rate, autoplay=True)"
      ],
      "metadata": {
        "id": "n3zzVlO1WVJs"
      },
      "id": "n3zzVlO1WVJs",
      "execution_count": null,
      "outputs": []
    },
    {
      "cell_type": "markdown",
      "id": "-ULbIpWvDrf6",
      "metadata": {
        "id": "-ULbIpWvDrf6"
      },
      "source": [
        "## 終わりに\n",
        "\n",
        "このノートブックは，グループワークに必要な作業のセルを集めて再構成したものです．このノートブックを修正して，実行することで，グループワークで必要なデータを集めることができます．\n",
        "\n",
        "修正する場合には，元のファイルのバックアップを取っておきましょう．元の実装との性能比較を行う際に役立ちます．\n",
        "\n",
        "このノートブックの内容を大きく修正しなくても，グループワークは可能ですが，学習済みのCNNモデルによる判定を，学習データの選定に使いたい，といったことがある場合には，一度学習を行った後で，学習データ選定のコードを実行したいかもしれません．そうした場合には，前のほうのセルの内容を，後の方にコピーして実行するなどの方法が必要です．\n"
      ]
    },
    {
      "cell_type": "code",
      "source": [
        "from google.colab import drive\n",
        "drive.mount('/content/drive')"
      ],
      "metadata": {
        "id": "Ek_YwunR80Sa",
        "colab": {
          "base_uri": "https://localhost:8080/"
        },
        "outputId": "00b97055-3b46-4096-9fb5-af96d9ba44ed"
      },
      "id": "Ek_YwunR80Sa",
      "execution_count": null,
      "outputs": [
        {
          "output_type": "stream",
          "name": "stdout",
          "text": [
            "Drive already mounted at /content/drive; to attempt to forcibly remount, call drive.mount(\"/content/drive\", force_remount=True).\n"
          ]
        }
      ]
    }
  ],
  "metadata": {
    "accelerator": "GPU",
    "colab": {
      "gpuType": "T4",
      "provenance": [],
      "toc_visible": true,
      "include_colab_link": true
    },
    "kernelspec": {
      "display_name": "Python 3",
      "name": "python3"
    },
    "language_info": {
      "codemirror_mode": {
        "name": "ipython",
        "version": 3
      },
      "file_extension": ".py",
      "mimetype": "text/x-python",
      "name": "python",
      "nbconvert_exporter": "python",
      "pygments_lexer": "ipython3",
      "version": "3.8.10"
    }
  },
  "nbformat": 4,
  "nbformat_minor": 5
}