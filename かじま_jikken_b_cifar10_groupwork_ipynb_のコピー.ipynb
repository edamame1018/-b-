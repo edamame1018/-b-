{
  "cells": [
    {
      "cell_type": "markdown",
      "metadata": {
        "id": "view-in-github",
        "colab_type": "text"
      },
      "source": [
        "<a href=\"https://colab.research.google.com/github/edamame1018/-competition-/blob/main/%E3%81%8B%E3%81%98%E3%81%BE_jikken_b_cifar10_groupwork_ipynb_%E3%81%AE%E3%82%B3%E3%83%94%E3%83%BC.ipynb\" target=\"_parent\"><img src=\"https://colab.research.google.com/assets/colab-badge.svg\" alt=\"Open In Colab\"/></a>"
      ]
    },
    {
      "cell_type": "markdown",
      "id": "encouraging-breeding",
      "metadata": {
        "id": "encouraging-breeding"
      },
      "source": [
        "# CNNによる一般画像認識（グループワーク作業用）"
      ]
    },
    {
      "cell_type": "markdown",
      "id": "LQzwzLLUDrfw",
      "metadata": {
        "id": "LQzwzLLUDrfw"
      },
      "source": [
        "## このノートブックの目的\n",
        "このノートブックは，グループワークの作業用です．自己学習用ノートブックは一つ一つの要素を学習するために作られていますが，このノートブックは，グループワークの作業を行うためのものです．\n",
        "\n"
      ]
    },
    {
      "cell_type": "markdown",
      "id": "QBQfUNGwLvvA",
      "metadata": {
        "id": "QBQfUNGwLvvA"
      },
      "source": [
        "## Google Colabの設定\n",
        "\n",
        "Google Colabのメニューで，「ランタイム」→「ランタイムのタイプを変更」を選び，「**ハードウエアアクセラレータ**」を「**T4 GPU**」にして保存してください．"
      ]
    },
    {
      "cell_type": "markdown",
      "source": [
        "![タイトルなし.jpg](data:image/jpeg;base64,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)"
      ],
      "metadata": {
        "id": "W0YB-DX4PxLV"
      },
      "id": "W0YB-DX4PxLV"
    },
    {
      "cell_type": "code",
      "execution_count": 381,
      "id": "Ftkhjk71edKp",
      "metadata": {
        "id": "Ftkhjk71edKp",
        "colab": {
          "base_uri": "https://localhost:8080/"
        },
        "outputId": "e0dddb31-7764-420f-b0e1-34433523230d"
      },
      "outputs": [
        {
          "output_type": "stream",
          "name": "stdout",
          "text": [
            "Drive already mounted at /content/drive; to attempt to forcibly remount, call drive.mount(\"/content/drive\", force_remount=True).\n",
            "/content/drive/MyDrive\n",
            "/content/drive/MyDrive/jikken_b/cifar10\n"
          ]
        }
      ],
      "source": [
        "# Googleドライブをマウント\n",
        "from google.colab import drive\n",
        "drive.mount('/content/drive')\n",
        "%cd /content/drive/MyDrive/\n",
        "\n",
        "# ファイルを保存するディレクトリ(フォルダ)\n",
        "# ここではマイドライブにjikken_b/cifar10を作成\n",
        "!mkdir -p jikken_b/cifar10\n",
        "%cd jikken_b/cifar10\n",
        "\n",
        "# Google Colab 以外で使用する場合はこのセル全体をコメントアウト(あるいは削除)してください．"
      ]
    },
    {
      "cell_type": "code",
      "execution_count": 382,
      "id": "sd9Z1tSCWynZ",
      "metadata": {
        "id": "sd9Z1tSCWynZ",
        "colab": {
          "base_uri": "https://localhost:8080/"
        },
        "outputId": "00438c4e-45d1-41b0-f8de-4befaddf570c"
      },
      "outputs": [
        {
          "output_type": "stream",
          "name": "stdout",
          "text": [
            "\n",
            "[重要] 学習済みモデルなどのファイルは /content/drive/MyDrive/jikken_b/cifar10 に保存されます．\n"
          ]
        }
      ],
      "source": [
        "import os\n",
        "current_dir=os.getcwd()\n",
        "print('\\n[重要] 学習済みモデルなどのファイルは', current_dir, 'に保存されます．')"
      ]
    },
    {
      "cell_type": "markdown",
      "id": "DgC2Zm1RgvaU",
      "metadata": {
        "id": "DgC2Zm1RgvaU"
      },
      "source": [
        "## 班番号と重点学習クラスの番号の入力 ##\n",
        "\n",
        "**班番号**と**重点学習クラスの番号**を選択してください．右側のプルダウンメニュー(ドロップダウンリスト)から選ぶと左側の変数に反映されます．右側にメニューが表示されない場合は，変数`GROUP_NO`と変数`CLASS_NO`の右辺に直接記述するようにしてください．重点学習クラスの番号がまだ相談できていない場合は適当に選んでもらってもかまいませんが，班で決定後に修正することを忘れないようにしてください．\n"
      ]
    },
    {
      "cell_type": "code",
      "execution_count": 383,
      "id": "k8RouCzwguo8",
      "metadata": {
        "id": "k8RouCzwguo8",
        "cellView": "form"
      },
      "outputs": [],
      "source": [
        "# 要修正：班番号('文字列'で2桁)\n",
        "GROUP_NO = '17' #@param [\"01\", \"02\", \"03\", \"04\", \"05\", \"06\", \"07\", \"08\", \"09\", \"10\", \"11\", \"12\", \"13\", \"14\", \"15\", \"16\", \"17\", \"18\", \"19\", \"20\", \"99\"]\n",
        "# 要修正：重点学習クラス番号('文字列'で1桁)\n",
        "CLASS_NO = '9' #@param [\"0\", \"1\", \"2\", \"3\", \"4\", \"5\", \"6\", \"7\", \"8\", \"9\"]"
      ]
    },
    {
      "cell_type": "markdown",
      "id": "lwzVwFAfs9PQ",
      "metadata": {
        "id": "lwzVwFAfs9PQ"
      },
      "source": [
        "選択後に必ず**上記のセルを実行**してください．\n",
        "\n",
        "\n"
      ]
    },
    {
      "cell_type": "code",
      "execution_count": 384,
      "id": "byfVq9QkssFn",
      "metadata": {
        "id": "byfVq9QkssFn",
        "colab": {
          "base_uri": "https://localhost:8080/"
        },
        "outputId": "9bc7c97e-2fc0-4867-85d5-3f796f148399"
      },
      "outputs": [
        {
          "output_type": "stream",
          "name": "stdout",
          "text": [
            "班番号:17\n",
            "重点学習クラス：9(truck)\n",
            "学習済みCNNモデル名：cnn-17-9.keras\n"
          ]
        }
      ],
      "source": [
        "# 名前リストの定義．分類番号cの分類名をclassNames[c]とする．\n",
        "classNames = ['plane', 'car', 'bird', 'cat', 'deer', 'dog', 'frog', 'horse', 'ship', 'truck']\n",
        "print('班番号:'+ GROUP_NO)\n",
        "print('重点学習クラス：' + CLASS_NO + '(' + classNames[int(CLASS_NO)] + ')')\n",
        "# 学習済みCNNモデルのファイル名は以下のようになる．\n",
        "LEARNED_CNN_MODEL = 'cnn-' + GROUP_NO + '-' + CLASS_NO + '.keras'\n",
        "print('学習済みCNNモデル名：' + LEARNED_CNN_MODEL)"
      ]
    },
    {
      "cell_type": "markdown",
      "id": "ricIVs1lkXE2",
      "metadata": {
        "id": "ricIVs1lkXE2"
      },
      "source": [
        "実行結果に示される班番号と重点学習クラスの番号が間違っていないかよく確認してください．"
      ]
    },
    {
      "cell_type": "markdown",
      "id": "rUxN2669eQuX",
      "metadata": {
        "id": "rUxN2669eQuX"
      },
      "source": [
        "## 必要モジュール読み込みとデータセットの読み込み"
      ]
    },
    {
      "cell_type": "code",
      "execution_count": 385,
      "id": "BIXN2zmieQuX",
      "metadata": {
        "id": "BIXN2zmieQuX"
      },
      "outputs": [],
      "source": [
        "import matplotlib.pyplot as plt\n",
        "import numpy as np\n",
        "import tensorflow as tf\n",
        "\n",
        "# CIFAR-10データセットの取得\n",
        "from keras.datasets import cifar10\n",
        "\n",
        "# クラスラベルの1-hotエンコーディング\n",
        "from keras.utils import to_categorical\n",
        "\n",
        "# cifar10.load_data()で，データセットを読み込んで変数に代入する．\n",
        "# x_train_org: 訓練用画像のデータ (4次元配列になる．最初のインデックスがデータの指定，残りの3次元が色を含めた画像データ)\n",
        "# y_train_org: 訓練用画像のデータ (2次元配列になる．最初のインデックスがデータの指定，残り1次元は画像の分類番号0-9)\n",
        "# x_test_org: 評価用画像のデータ (4次元配列になる．最初のインデックスがデータの指定，残りの3次元が色を含めた画像データ)\n",
        "# y_test_org: 評価用画像のデータ (2次元配列になる．最初のインデックスがデータの指定，残り1次元は画像の分類番号0-9)\n",
        "\n",
        "(x_train_org, y_train_org), (x_test_org, y_test_org) = cifar10.load_data()\n",
        "\n",
        "# 本実験では元のデータセットを並べ替えてから利用します．\n",
        "train_indices=[[0 for j in range(5000)] for i in range(10)]\n",
        "test_indices=[[0 for j in range(1000)] for i in range(10)]\n",
        "for i in range(10):\n",
        "    train_indices[i]=[index for index in range(50000) if y_train_org[index] == i]\n",
        "    test_indices[i]=[index for index in range(10000) if y_test_org[index] == i]\n",
        "x_train_sorted=x_train_org.copy()\n",
        "y_train_sorted=y_train_org.copy()\n",
        "x_test_sorted=x_test_org.copy()\n",
        "y_test_sorted=y_test_org.copy()\n",
        "for i in range(5000):\n",
        "    for j in range(10):\n",
        "        x_train_sorted[i*10+j]=x_train_org[train_indices[j][i]]\n",
        "        y_train_sorted[i*10+j]=j\n",
        "for i in range(1000):\n",
        "    for j in range(10):\n",
        "        x_test_sorted[i*10+j]=x_test_org[test_indices[j][i]]\n",
        "        y_test_sorted[i*10+j]=j\n",
        "x_train_org=x_train_sorted\n",
        "y_train_org=y_train_sorted\n",
        "x_test_org=x_test_sorted\n",
        "y_test_org=y_test_sorted\n",
        "\n",
        "# オリジナルデータ正規化と1-hot-ベクトル化\n",
        "x_train_org_norm = x_train_org/255.0\n",
        "y_train_org_onehot = to_categorical(y_train_org, 10)\n",
        "x_test_org_norm = x_test_org/255.0\n",
        "y_test_org_onehot = to_categorical(y_test_org, 10)"
      ]
    },
    {
      "cell_type": "markdown",
      "id": "70NlexwmDrfy",
      "metadata": {
        "id": "70NlexwmDrfy"
      },
      "source": [
        "## i番目の訓練用画像の表示関数"
      ]
    },
    {
      "cell_type": "code",
      "execution_count": 386,
      "id": "nvLrneE7eQug",
      "metadata": {
        "id": "nvLrneE7eQug"
      },
      "outputs": [],
      "source": [
        "# x_train_orgとy_train_orgのi番目のデータの分類名と画像を表示する関数\n",
        "#def printDataOrg(i):\n",
        "    #print(classNames[y_train_org[i,0]])\n",
        "    #plt.figure(figsize=(2,2))\n",
        "    #plt.imshow(x_train_org[i])\n",
        "    #plt.tick_params(left=False, labelleft=False)\n",
        "    #plt.tick_params(bottom=False, labelbottom=False)\n",
        "    #plt.show()"
      ]
    },
    {
      "cell_type": "code",
      "execution_count": 387,
      "id": "Pxa5ia3BeQuh",
      "metadata": {
        "id": "Pxa5ia3BeQuh"
      },
      "outputs": [],
      "source": [
        "# 0番データの表示\n",
        "#printDataOrg(0)"
      ]
    },
    {
      "cell_type": "markdown",
      "id": "narrative-guess",
      "metadata": {
        "id": "narrative-guess"
      },
      "source": [
        "## 訓練用画像をM*N枚まとめて表示するコード"
      ]
    },
    {
      "cell_type": "code",
      "execution_count": 388,
      "id": "asian-ordinance",
      "metadata": {
        "id": "asian-ordinance"
      },
      "outputs": [],
      "source": [
        "# M*N枚の画像を表示する\n",
        "#M=10 #行数\n",
        "#N= 5 #列数\n",
        "# 表示先の画像を準備\n",
        "#plt.figure(figsize=(N*2,M*2))\n",
        "# indexを変数としてループしながら画像を表示\n",
        "#for index in range(M*N):\n",
        "    # index番の画像の正解分類番号\n",
        "    #classIdx=y_train_org[index][0]\n",
        "    # index番の画像の表示位置指定\n",
        "    #cifar_img=plt.subplot(M,N,index+1)\n",
        "    # index番画像の表示\n",
        "    #plt.imshow(x_train_org[index])\n",
        "    # 横，下ラベルの非表示\n",
        "    #plt.tick_params(left=False, labelleft=False)\n",
        "    #plt.tick_params(bottom=False, labelbottom=False)\n",
        "    # 上にindexと，正解分類番号と，正解分類名を表示\n",
        "    #plt.title(\"{} : {}({})\".format(index,classIdx ,classNames[classIdx]))\n",
        "\n",
        "# 表示命令\n",
        "#plt.show()"
      ]
    },
    {
      "cell_type": "markdown",
      "id": "EErikEKPDrf0",
      "metadata": {
        "id": "EErikEKPDrf0"
      },
      "source": [
        "## 重点学習クラスの画像をM*N枚分表示するコード"
      ]
    },
    {
      "cell_type": "code",
      "execution_count": 389,
      "id": "capable-yellow",
      "metadata": {
        "id": "capable-yellow",
        "scrolled": true
      },
      "outputs": [],
      "source": [
        "# M*N枚の画像を表示する\n",
        "#M=10 #行数\n",
        "#N= 5 #列数\n",
        "#plt.figure(figsize=(N*2,M*2))\n",
        "# 表示した画像の数をカウントする\n",
        "#count = 0\n",
        "#for index in range(50000):\n",
        "    #classIdx=y_train_org[index][0]\n",
        "    # classIdxが重点学習クラスの場合にのみ表示処理をする\n",
        "    #if(classIdx == int(CLASS_NO)):\n",
        "        #cifar_img=plt.subplot(M,N,count+1)\n",
        "        #plt.imshow(x_train_org[index])\n",
        "        #plt.tick_params(left=False, labelleft=False)\n",
        "        #plt.tick_params(bottom=False, labelbottom=False)\n",
        "        #plt.title(\"{} : {}({})\".format(index,classIdx ,classNames[classIdx]))\n",
        "        # 表示した画像の数をカウントする\n",
        "        #count += 1\n",
        "    # 表示画像数がM*Nに達したらループを脱出\n",
        "    #if(count >= M*N):\n",
        "        #break\n",
        "#plt.show()"
      ]
    },
    {
      "cell_type": "markdown",
      "id": "grand-timber",
      "metadata": {
        "id": "grand-timber"
      },
      "source": [
        "## 実験で利用するCIFAR-10データセットの範囲"
      ]
    },
    {
      "cell_type": "markdown",
      "id": "wound-colony",
      "metadata": {
        "id": "wound-colony"
      },
      "source": [
        "CIFAR-10には，訓練用画像50000枚，評価用画像10000枚が入っています．\n",
        "オリジナルデータの変数名は以下の通り．\n",
        "\n",
        "※ この実験ではあらかじめデータを並べ替えたものを使用しています．\n",
        "\n",
        "訓練用画像：`x_train_org`\n",
        "\n",
        "訓練用画像の正解値：`y_train_org`\n",
        "\n",
        "評価用画像：`x_test_org`\n",
        "\n",
        "評価用画像の正解値：`y_train_org`\n",
        "\n",
        "\n"
      ]
    },
    {
      "cell_type": "markdown",
      "id": "kl7nxSAdDrf1",
      "metadata": {
        "id": "kl7nxSAdDrf1"
      },
      "source": [
        "コンテストで提出する認識モデルの学習は，「訓練用画像」のオリジナルデータから，「最初の10000枚:0-9999」＋「10000-49999から1000枚まで（グループごと）」を選んで学習させます．\n"
      ]
    },
    {
      "cell_type": "markdown",
      "id": "YN23ENDGDrf1",
      "metadata": {
        "id": "YN23ENDGDrf1"
      },
      "source": [
        "## CNNモデル学習における，追加学習データ選定の１例\n",
        "\n",
        "以下のコードは，10000-49999から，正解クラスの番号が重点学習クラスの場合のデータを全て集めて，その番号をtrainDataIndex.txtに出力します．この例では4000枚の画像が抽出されています．"
      ]
    },
    {
      "cell_type": "code",
      "execution_count": 390,
      "id": "OpC8Krn1Drf1",
      "metadata": {
        "id": "OpC8Krn1Drf1",
        "colab": {
          "base_uri": "https://localhost:8080/"
        },
        "outputId": "7b4a3cf5-8286-4429-b2db-35b1e581cee6"
      },
      "outputs": [
        {
          "output_type": "stream",
          "name": "stdout",
          "text": [
            "4000\n",
            "[10009, 10019, 10029, 10039, 10049, 10059, 10069, 10079, 10089, 10099, 10109, 10119, 10129, 10139, 10149, 10159, 10169, 10179, 10189, 10199, 10209, 10219, 10229, 10239, 10249, 10259, 10269, 10279, 10289, 10299, 10309, 10319, 10329, 10339, 10349, 10359, 10369, 10379, 10389, 10399, 10409, 10419, 10429, 10439, 10449, 10459, 10469, 10479, 10489, 10499, 10509, 10519, 10529, 10539, 10549, 10559, 10569, 10579, 10589, 10599, 10609, 10619, 10629, 10639, 10649, 10659, 10669, 10679, 10689, 10699, 10709, 10719, 10729, 10739, 10749, 10759, 10769, 10779, 10789, 10799, 10809, 10819, 10829, 10839, 10849, 10859, 10869, 10879, 10889, 10899, 10909, 10919, 10929, 10939, 10949, 10959, 10969, 10979, 10989, 10999, 11009, 11019, 11029, 11039, 11049, 11059, 11069, 11079, 11089, 11099, 11109, 11119, 11129, 11139, 11149, 11159, 11169, 11179, 11189, 11199, 11209, 11219, 11229, 11239, 11249, 11259, 11269, 11279, 11289, 11299, 11309, 11319, 11329, 11339, 11349, 11359, 11369, 11379, 11389, 11399, 11409, 11419, 11429, 11439, 11449, 11459, 11469, 11479, 11489, 11499, 11509, 11519, 11529, 11539, 11549, 11559, 11569, 11579, 11589, 11599, 11609, 11619, 11629, 11639, 11649, 11659, 11669, 11679, 11689, 11699, 11709, 11719, 11729, 11739, 11749, 11759, 11769, 11779, 11789, 11799, 11809, 11819, 11829, 11839, 11849, 11859, 11869, 11879, 11889, 11899, 11909, 11919, 11929, 11939, 11949, 11959, 11969, 11979, 11989, 11999, 12009, 12019, 12029, 12039, 12049, 12059, 12069, 12079, 12089, 12099, 12109, 12119, 12129, 12139, 12149, 12159, 12169, 12179, 12189, 12199, 12209, 12219, 12229, 12239, 12249, 12259, 12269, 12279, 12289, 12299, 12309, 12319, 12329, 12339, 12349, 12359, 12369, 12379, 12389, 12399, 12409, 12419, 12429, 12439, 12449, 12459, 12469, 12479, 12489, 12499, 12509, 12519, 12529, 12539, 12549, 12559, 12569, 12579, 12589, 12599, 12609, 12619, 12629, 12639, 12649, 12659, 12669, 12679, 12689, 12699, 12709, 12719, 12729, 12739, 12749, 12759, 12769, 12779, 12789, 12799, 12809, 12819, 12829, 12839, 12849, 12859, 12869, 12879, 12889, 12899, 12909, 12919, 12929, 12939, 12949, 12959, 12969, 12979, 12989, 12999, 13009, 13019, 13029, 13039, 13049, 13059, 13069, 13079, 13089, 13099, 13109, 13119, 13129, 13139, 13149, 13159, 13169, 13179, 13189, 13199, 13209, 13219, 13229, 13239, 13249, 13259, 13269, 13279, 13289, 13299, 13309, 13319, 13329, 13339, 13349, 13359, 13369, 13379, 13389, 13399, 13409, 13419, 13429, 13439, 13449, 13459, 13469, 13479, 13489, 13499, 13509, 13519, 13529, 13539, 13549, 13559, 13569, 13579, 13589, 13599, 13609, 13619, 13629, 13639, 13649, 13659, 13669, 13679, 13689, 13699, 13709, 13719, 13729, 13739, 13749, 13759, 13769, 13779, 13789, 13799, 13809, 13819, 13829, 13839, 13849, 13859, 13869, 13879, 13889, 13899, 13909, 13919, 13929, 13939, 13949, 13959, 13969, 13979, 13989, 13999, 14009, 14019, 14029, 14039, 14049, 14059, 14069, 14079, 14089, 14099, 14109, 14119, 14129, 14139, 14149, 14159, 14169, 14179, 14189, 14199, 14209, 14219, 14229, 14239, 14249, 14259, 14269, 14279, 14289, 14299, 14309, 14319, 14329, 14339, 14349, 14359, 14369, 14379, 14389, 14399, 14409, 14419, 14429, 14439, 14449, 14459, 14469, 14479, 14489, 14499, 14509, 14519, 14529, 14539, 14549, 14559, 14569, 14579, 14589, 14599, 14609, 14619, 14629, 14639, 14649, 14659, 14669, 14679, 14689, 14699, 14709, 14719, 14729, 14739, 14749, 14759, 14769, 14779, 14789, 14799, 14809, 14819, 14829, 14839, 14849, 14859, 14869, 14879, 14889, 14899, 14909, 14919, 14929, 14939, 14949, 14959, 14969, 14979, 14989, 14999, 15009, 15019, 15029, 15039, 15049, 15059, 15069, 15079, 15089, 15099, 15109, 15119, 15129, 15139, 15149, 15159, 15169, 15179, 15189, 15199, 15209, 15219, 15229, 15239, 15249, 15259, 15269, 15279, 15289, 15299, 15309, 15319, 15329, 15339, 15349, 15359, 15369, 15379, 15389, 15399, 15409, 15419, 15429, 15439, 15449, 15459, 15469, 15479, 15489, 15499, 15509, 15519, 15529, 15539, 15549, 15559, 15569, 15579, 15589, 15599, 15609, 15619, 15629, 15639, 15649, 15659, 15669, 15679, 15689, 15699, 15709, 15719, 15729, 15739, 15749, 15759, 15769, 15779, 15789, 15799, 15809, 15819, 15829, 15839, 15849, 15859, 15869, 15879, 15889, 15899, 15909, 15919, 15929, 15939, 15949, 15959, 15969, 15979, 15989, 15999, 16009, 16019, 16029, 16039, 16049, 16059, 16069, 16079, 16089, 16099, 16109, 16119, 16129, 16139, 16149, 16159, 16169, 16179, 16189, 16199, 16209, 16219, 16229, 16239, 16249, 16259, 16269, 16279, 16289, 16299, 16309, 16319, 16329, 16339, 16349, 16359, 16369, 16379, 16389, 16399, 16409, 16419, 16429, 16439, 16449, 16459, 16469, 16479, 16489, 16499, 16509, 16519, 16529, 16539, 16549, 16559, 16569, 16579, 16589, 16599, 16609, 16619, 16629, 16639, 16649, 16659, 16669, 16679, 16689, 16699, 16709, 16719, 16729, 16739, 16749, 16759, 16769, 16779, 16789, 16799, 16809, 16819, 16829, 16839, 16849, 16859, 16869, 16879, 16889, 16899, 16909, 16919, 16929, 16939, 16949, 16959, 16969, 16979, 16989, 16999, 17009, 17019, 17029, 17039, 17049, 17059, 17069, 17079, 17089, 17099, 17109, 17119, 17129, 17139, 17149, 17159, 17169, 17179, 17189, 17199, 17209, 17219, 17229, 17239, 17249, 17259, 17269, 17279, 17289, 17299, 17309, 17319, 17329, 17339, 17349, 17359, 17369, 17379, 17389, 17399, 17409, 17419, 17429, 17439, 17449, 17459, 17469, 17479, 17489, 17499, 17509, 17519, 17529, 17539, 17549, 17559, 17569, 17579, 17589, 17599, 17609, 17619, 17629, 17639, 17649, 17659, 17669, 17679, 17689, 17699, 17709, 17719, 17729, 17739, 17749, 17759, 17769, 17779, 17789, 17799, 17809, 17819, 17829, 17839, 17849, 17859, 17869, 17879, 17889, 17899, 17909, 17919, 17929, 17939, 17949, 17959, 17969, 17979, 17989, 17999, 18009, 18019, 18029, 18039, 18049, 18059, 18069, 18079, 18089, 18099, 18109, 18119, 18129, 18139, 18149, 18159, 18169, 18179, 18189, 18199, 18209, 18219, 18229, 18239, 18249, 18259, 18269, 18279, 18289, 18299, 18309, 18319, 18329, 18339, 18349, 18359, 18369, 18379, 18389, 18399, 18409, 18419, 18429, 18439, 18449, 18459, 18469, 18479, 18489, 18499, 18509, 18519, 18529, 18539, 18549, 18559, 18569, 18579, 18589, 18599, 18609, 18619, 18629, 18639, 18649, 18659, 18669, 18679, 18689, 18699, 18709, 18719, 18729, 18739, 18749, 18759, 18769, 18779, 18789, 18799, 18809, 18819, 18829, 18839, 18849, 18859, 18869, 18879, 18889, 18899, 18909, 18919, 18929, 18939, 18949, 18959, 18969, 18979, 18989, 18999, 19009, 19019, 19029, 19039, 19049, 19059, 19069, 19079, 19089, 19099, 19109, 19119, 19129, 19139, 19149, 19159, 19169, 19179, 19189, 19199, 19209, 19219, 19229, 19239, 19249, 19259, 19269, 19279, 19289, 19299, 19309, 19319, 19329, 19339, 19349, 19359, 19369, 19379, 19389, 19399, 19409, 19419, 19429, 19439, 19449, 19459, 19469, 19479, 19489, 19499, 19509, 19519, 19529, 19539, 19549, 19559, 19569, 19579, 19589, 19599, 19609, 19619, 19629, 19639, 19649, 19659, 19669, 19679, 19689, 19699, 19709, 19719, 19729, 19739, 19749, 19759, 19769, 19779, 19789, 19799, 19809, 19819, 19829, 19839, 19849, 19859, 19869, 19879, 19889, 19899, 19909, 19919, 19929, 19939, 19949, 19959, 19969, 19979, 19989, 19999, 20009, 20019, 20029, 20039, 20049, 20059, 20069, 20079, 20089, 20099, 20109, 20119, 20129, 20139, 20149, 20159, 20169, 20179, 20189, 20199, 20209, 20219, 20229, 20239, 20249, 20259, 20269, 20279, 20289, 20299, 20309, 20319, 20329, 20339, 20349, 20359, 20369, 20379, 20389, 20399, 20409, 20419, 20429, 20439, 20449, 20459, 20469, 20479, 20489, 20499, 20509, 20519, 20529, 20539, 20549, 20559, 20569, 20579, 20589, 20599, 20609, 20619, 20629, 20639, 20649, 20659, 20669, 20679, 20689, 20699, 20709, 20719, 20729, 20739, 20749, 20759, 20769, 20779, 20789, 20799, 20809, 20819, 20829, 20839, 20849, 20859, 20869, 20879, 20889, 20899, 20909, 20919, 20929, 20939, 20949, 20959, 20969, 20979, 20989, 20999, 21009, 21019, 21029, 21039, 21049, 21059, 21069, 21079, 21089, 21099, 21109, 21119, 21129, 21139, 21149, 21159, 21169, 21179, 21189, 21199, 21209, 21219, 21229, 21239, 21249, 21259, 21269, 21279, 21289, 21299, 21309, 21319, 21329, 21339, 21349, 21359, 21369, 21379, 21389, 21399, 21409, 21419, 21429, 21439, 21449, 21459, 21469, 21479, 21489, 21499, 21509, 21519, 21529, 21539, 21549, 21559, 21569, 21579, 21589, 21599, 21609, 21619, 21629, 21639, 21649, 21659, 21669, 21679, 21689, 21699, 21709, 21719, 21729, 21739, 21749, 21759, 21769, 21779, 21789, 21799, 21809, 21819, 21829, 21839, 21849, 21859, 21869, 21879, 21889, 21899, 21909, 21919, 21929, 21939, 21949, 21959, 21969, 21979, 21989, 21999, 22009, 22019, 22029, 22039, 22049, 22059, 22069, 22079, 22089, 22099, 22109, 22119, 22129, 22139, 22149, 22159, 22169, 22179, 22189, 22199, 22209, 22219, 22229, 22239, 22249, 22259, 22269, 22279, 22289, 22299, 22309, 22319, 22329, 22339, 22349, 22359, 22369, 22379, 22389, 22399, 22409, 22419, 22429, 22439, 22449, 22459, 22469, 22479, 22489, 22499, 22509, 22519, 22529, 22539, 22549, 22559, 22569, 22579, 22589, 22599, 22609, 22619, 22629, 22639, 22649, 22659, 22669, 22679, 22689, 22699, 22709, 22719, 22729, 22739, 22749, 22759, 22769, 22779, 22789, 22799, 22809, 22819, 22829, 22839, 22849, 22859, 22869, 22879, 22889, 22899, 22909, 22919, 22929, 22939, 22949, 22959, 22969, 22979, 22989, 22999, 23009, 23019, 23029, 23039, 23049, 23059, 23069, 23079, 23089, 23099, 23109, 23119, 23129, 23139, 23149, 23159, 23169, 23179, 23189, 23199, 23209, 23219, 23229, 23239, 23249, 23259, 23269, 23279, 23289, 23299, 23309, 23319, 23329, 23339, 23349, 23359, 23369, 23379, 23389, 23399, 23409, 23419, 23429, 23439, 23449, 23459, 23469, 23479, 23489, 23499, 23509, 23519, 23529, 23539, 23549, 23559, 23569, 23579, 23589, 23599, 23609, 23619, 23629, 23639, 23649, 23659, 23669, 23679, 23689, 23699, 23709, 23719, 23729, 23739, 23749, 23759, 23769, 23779, 23789, 23799, 23809, 23819, 23829, 23839, 23849, 23859, 23869, 23879, 23889, 23899, 23909, 23919, 23929, 23939, 23949, 23959, 23969, 23979, 23989, 23999, 24009, 24019, 24029, 24039, 24049, 24059, 24069, 24079, 24089, 24099, 24109, 24119, 24129, 24139, 24149, 24159, 24169, 24179, 24189, 24199, 24209, 24219, 24229, 24239, 24249, 24259, 24269, 24279, 24289, 24299, 24309, 24319, 24329, 24339, 24349, 24359, 24369, 24379, 24389, 24399, 24409, 24419, 24429, 24439, 24449, 24459, 24469, 24479, 24489, 24499, 24509, 24519, 24529, 24539, 24549, 24559, 24569, 24579, 24589, 24599, 24609, 24619, 24629, 24639, 24649, 24659, 24669, 24679, 24689, 24699, 24709, 24719, 24729, 24739, 24749, 24759, 24769, 24779, 24789, 24799, 24809, 24819, 24829, 24839, 24849, 24859, 24869, 24879, 24889, 24899, 24909, 24919, 24929, 24939, 24949, 24959, 24969, 24979, 24989, 24999, 25009, 25019, 25029, 25039, 25049, 25059, 25069, 25079, 25089, 25099, 25109, 25119, 25129, 25139, 25149, 25159, 25169, 25179, 25189, 25199, 25209, 25219, 25229, 25239, 25249, 25259, 25269, 25279, 25289, 25299, 25309, 25319, 25329, 25339, 25349, 25359, 25369, 25379, 25389, 25399, 25409, 25419, 25429, 25439, 25449, 25459, 25469, 25479, 25489, 25499, 25509, 25519, 25529, 25539, 25549, 25559, 25569, 25579, 25589, 25599, 25609, 25619, 25629, 25639, 25649, 25659, 25669, 25679, 25689, 25699, 25709, 25719, 25729, 25739, 25749, 25759, 25769, 25779, 25789, 25799, 25809, 25819, 25829, 25839, 25849, 25859, 25869, 25879, 25889, 25899, 25909, 25919, 25929, 25939, 25949, 25959, 25969, 25979, 25989, 25999, 26009, 26019, 26029, 26039, 26049, 26059, 26069, 26079, 26089, 26099, 26109, 26119, 26129, 26139, 26149, 26159, 26169, 26179, 26189, 26199, 26209, 26219, 26229, 26239, 26249, 26259, 26269, 26279, 26289, 26299, 26309, 26319, 26329, 26339, 26349, 26359, 26369, 26379, 26389, 26399, 26409, 26419, 26429, 26439, 26449, 26459, 26469, 26479, 26489, 26499, 26509, 26519, 26529, 26539, 26549, 26559, 26569, 26579, 26589, 26599, 26609, 26619, 26629, 26639, 26649, 26659, 26669, 26679, 26689, 26699, 26709, 26719, 26729, 26739, 26749, 26759, 26769, 26779, 26789, 26799, 26809, 26819, 26829, 26839, 26849, 26859, 26869, 26879, 26889, 26899, 26909, 26919, 26929, 26939, 26949, 26959, 26969, 26979, 26989, 26999, 27009, 27019, 27029, 27039, 27049, 27059, 27069, 27079, 27089, 27099, 27109, 27119, 27129, 27139, 27149, 27159, 27169, 27179, 27189, 27199, 27209, 27219, 27229, 27239, 27249, 27259, 27269, 27279, 27289, 27299, 27309, 27319, 27329, 27339, 27349, 27359, 27369, 27379, 27389, 27399, 27409, 27419, 27429, 27439, 27449, 27459, 27469, 27479, 27489, 27499, 27509, 27519, 27529, 27539, 27549, 27559, 27569, 27579, 27589, 27599, 27609, 27619, 27629, 27639, 27649, 27659, 27669, 27679, 27689, 27699, 27709, 27719, 27729, 27739, 27749, 27759, 27769, 27779, 27789, 27799, 27809, 27819, 27829, 27839, 27849, 27859, 27869, 27879, 27889, 27899, 27909, 27919, 27929, 27939, 27949, 27959, 27969, 27979, 27989, 27999, 28009, 28019, 28029, 28039, 28049, 28059, 28069, 28079, 28089, 28099, 28109, 28119, 28129, 28139, 28149, 28159, 28169, 28179, 28189, 28199, 28209, 28219, 28229, 28239, 28249, 28259, 28269, 28279, 28289, 28299, 28309, 28319, 28329, 28339, 28349, 28359, 28369, 28379, 28389, 28399, 28409, 28419, 28429, 28439, 28449, 28459, 28469, 28479, 28489, 28499, 28509, 28519, 28529, 28539, 28549, 28559, 28569, 28579, 28589, 28599, 28609, 28619, 28629, 28639, 28649, 28659, 28669, 28679, 28689, 28699, 28709, 28719, 28729, 28739, 28749, 28759, 28769, 28779, 28789, 28799, 28809, 28819, 28829, 28839, 28849, 28859, 28869, 28879, 28889, 28899, 28909, 28919, 28929, 28939, 28949, 28959, 28969, 28979, 28989, 28999, 29009, 29019, 29029, 29039, 29049, 29059, 29069, 29079, 29089, 29099, 29109, 29119, 29129, 29139, 29149, 29159, 29169, 29179, 29189, 29199, 29209, 29219, 29229, 29239, 29249, 29259, 29269, 29279, 29289, 29299, 29309, 29319, 29329, 29339, 29349, 29359, 29369, 29379, 29389, 29399, 29409, 29419, 29429, 29439, 29449, 29459, 29469, 29479, 29489, 29499, 29509, 29519, 29529, 29539, 29549, 29559, 29569, 29579, 29589, 29599, 29609, 29619, 29629, 29639, 29649, 29659, 29669, 29679, 29689, 29699, 29709, 29719, 29729, 29739, 29749, 29759, 29769, 29779, 29789, 29799, 29809, 29819, 29829, 29839, 29849, 29859, 29869, 29879, 29889, 29899, 29909, 29919, 29929, 29939, 29949, 29959, 29969, 29979, 29989, 29999, 30009, 30019, 30029, 30039, 30049, 30059, 30069, 30079, 30089, 30099, 30109, 30119, 30129, 30139, 30149, 30159, 30169, 30179, 30189, 30199, 30209, 30219, 30229, 30239, 30249, 30259, 30269, 30279, 30289, 30299, 30309, 30319, 30329, 30339, 30349, 30359, 30369, 30379, 30389, 30399, 30409, 30419, 30429, 30439, 30449, 30459, 30469, 30479, 30489, 30499, 30509, 30519, 30529, 30539, 30549, 30559, 30569, 30579, 30589, 30599, 30609, 30619, 30629, 30639, 30649, 30659, 30669, 30679, 30689, 30699, 30709, 30719, 30729, 30739, 30749, 30759, 30769, 30779, 30789, 30799, 30809, 30819, 30829, 30839, 30849, 30859, 30869, 30879, 30889, 30899, 30909, 30919, 30929, 30939, 30949, 30959, 30969, 30979, 30989, 30999, 31009, 31019, 31029, 31039, 31049, 31059, 31069, 31079, 31089, 31099, 31109, 31119, 31129, 31139, 31149, 31159, 31169, 31179, 31189, 31199, 31209, 31219, 31229, 31239, 31249, 31259, 31269, 31279, 31289, 31299, 31309, 31319, 31329, 31339, 31349, 31359, 31369, 31379, 31389, 31399, 31409, 31419, 31429, 31439, 31449, 31459, 31469, 31479, 31489, 31499, 31509, 31519, 31529, 31539, 31549, 31559, 31569, 31579, 31589, 31599, 31609, 31619, 31629, 31639, 31649, 31659, 31669, 31679, 31689, 31699, 31709, 31719, 31729, 31739, 31749, 31759, 31769, 31779, 31789, 31799, 31809, 31819, 31829, 31839, 31849, 31859, 31869, 31879, 31889, 31899, 31909, 31919, 31929, 31939, 31949, 31959, 31969, 31979, 31989, 31999, 32009, 32019, 32029, 32039, 32049, 32059, 32069, 32079, 32089, 32099, 32109, 32119, 32129, 32139, 32149, 32159, 32169, 32179, 32189, 32199, 32209, 32219, 32229, 32239, 32249, 32259, 32269, 32279, 32289, 32299, 32309, 32319, 32329, 32339, 32349, 32359, 32369, 32379, 32389, 32399, 32409, 32419, 32429, 32439, 32449, 32459, 32469, 32479, 32489, 32499, 32509, 32519, 32529, 32539, 32549, 32559, 32569, 32579, 32589, 32599, 32609, 32619, 32629, 32639, 32649, 32659, 32669, 32679, 32689, 32699, 32709, 32719, 32729, 32739, 32749, 32759, 32769, 32779, 32789, 32799, 32809, 32819, 32829, 32839, 32849, 32859, 32869, 32879, 32889, 32899, 32909, 32919, 32929, 32939, 32949, 32959, 32969, 32979, 32989, 32999, 33009, 33019, 33029, 33039, 33049, 33059, 33069, 33079, 33089, 33099, 33109, 33119, 33129, 33139, 33149, 33159, 33169, 33179, 33189, 33199, 33209, 33219, 33229, 33239, 33249, 33259, 33269, 33279, 33289, 33299, 33309, 33319, 33329, 33339, 33349, 33359, 33369, 33379, 33389, 33399, 33409, 33419, 33429, 33439, 33449, 33459, 33469, 33479, 33489, 33499, 33509, 33519, 33529, 33539, 33549, 33559, 33569, 33579, 33589, 33599, 33609, 33619, 33629, 33639, 33649, 33659, 33669, 33679, 33689, 33699, 33709, 33719, 33729, 33739, 33749, 33759, 33769, 33779, 33789, 33799, 33809, 33819, 33829, 33839, 33849, 33859, 33869, 33879, 33889, 33899, 33909, 33919, 33929, 33939, 33949, 33959, 33969, 33979, 33989, 33999, 34009, 34019, 34029, 34039, 34049, 34059, 34069, 34079, 34089, 34099, 34109, 34119, 34129, 34139, 34149, 34159, 34169, 34179, 34189, 34199, 34209, 34219, 34229, 34239, 34249, 34259, 34269, 34279, 34289, 34299, 34309, 34319, 34329, 34339, 34349, 34359, 34369, 34379, 34389, 34399, 34409, 34419, 34429, 34439, 34449, 34459, 34469, 34479, 34489, 34499, 34509, 34519, 34529, 34539, 34549, 34559, 34569, 34579, 34589, 34599, 34609, 34619, 34629, 34639, 34649, 34659, 34669, 34679, 34689, 34699, 34709, 34719, 34729, 34739, 34749, 34759, 34769, 34779, 34789, 34799, 34809, 34819, 34829, 34839, 34849, 34859, 34869, 34879, 34889, 34899, 34909, 34919, 34929, 34939, 34949, 34959, 34969, 34979, 34989, 34999, 35009, 35019, 35029, 35039, 35049, 35059, 35069, 35079, 35089, 35099, 35109, 35119, 35129, 35139, 35149, 35159, 35169, 35179, 35189, 35199, 35209, 35219, 35229, 35239, 35249, 35259, 35269, 35279, 35289, 35299, 35309, 35319, 35329, 35339, 35349, 35359, 35369, 35379, 35389, 35399, 35409, 35419, 35429, 35439, 35449, 35459, 35469, 35479, 35489, 35499, 35509, 35519, 35529, 35539, 35549, 35559, 35569, 35579, 35589, 35599, 35609, 35619, 35629, 35639, 35649, 35659, 35669, 35679, 35689, 35699, 35709, 35719, 35729, 35739, 35749, 35759, 35769, 35779, 35789, 35799, 35809, 35819, 35829, 35839, 35849, 35859, 35869, 35879, 35889, 35899, 35909, 35919, 35929, 35939, 35949, 35959, 35969, 35979, 35989, 35999, 36009, 36019, 36029, 36039, 36049, 36059, 36069, 36079, 36089, 36099, 36109, 36119, 36129, 36139, 36149, 36159, 36169, 36179, 36189, 36199, 36209, 36219, 36229, 36239, 36249, 36259, 36269, 36279, 36289, 36299, 36309, 36319, 36329, 36339, 36349, 36359, 36369, 36379, 36389, 36399, 36409, 36419, 36429, 36439, 36449, 36459, 36469, 36479, 36489, 36499, 36509, 36519, 36529, 36539, 36549, 36559, 36569, 36579, 36589, 36599, 36609, 36619, 36629, 36639, 36649, 36659, 36669, 36679, 36689, 36699, 36709, 36719, 36729, 36739, 36749, 36759, 36769, 36779, 36789, 36799, 36809, 36819, 36829, 36839, 36849, 36859, 36869, 36879, 36889, 36899, 36909, 36919, 36929, 36939, 36949, 36959, 36969, 36979, 36989, 36999, 37009, 37019, 37029, 37039, 37049, 37059, 37069, 37079, 37089, 37099, 37109, 37119, 37129, 37139, 37149, 37159, 37169, 37179, 37189, 37199, 37209, 37219, 37229, 37239, 37249, 37259, 37269, 37279, 37289, 37299, 37309, 37319, 37329, 37339, 37349, 37359, 37369, 37379, 37389, 37399, 37409, 37419, 37429, 37439, 37449, 37459, 37469, 37479, 37489, 37499, 37509, 37519, 37529, 37539, 37549, 37559, 37569, 37579, 37589, 37599, 37609, 37619, 37629, 37639, 37649, 37659, 37669, 37679, 37689, 37699, 37709, 37719, 37729, 37739, 37749, 37759, 37769, 37779, 37789, 37799, 37809, 37819, 37829, 37839, 37849, 37859, 37869, 37879, 37889, 37899, 37909, 37919, 37929, 37939, 37949, 37959, 37969, 37979, 37989, 37999, 38009, 38019, 38029, 38039, 38049, 38059, 38069, 38079, 38089, 38099, 38109, 38119, 38129, 38139, 38149, 38159, 38169, 38179, 38189, 38199, 38209, 38219, 38229, 38239, 38249, 38259, 38269, 38279, 38289, 38299, 38309, 38319, 38329, 38339, 38349, 38359, 38369, 38379, 38389, 38399, 38409, 38419, 38429, 38439, 38449, 38459, 38469, 38479, 38489, 38499, 38509, 38519, 38529, 38539, 38549, 38559, 38569, 38579, 38589, 38599, 38609, 38619, 38629, 38639, 38649, 38659, 38669, 38679, 38689, 38699, 38709, 38719, 38729, 38739, 38749, 38759, 38769, 38779, 38789, 38799, 38809, 38819, 38829, 38839, 38849, 38859, 38869, 38879, 38889, 38899, 38909, 38919, 38929, 38939, 38949, 38959, 38969, 38979, 38989, 38999, 39009, 39019, 39029, 39039, 39049, 39059, 39069, 39079, 39089, 39099, 39109, 39119, 39129, 39139, 39149, 39159, 39169, 39179, 39189, 39199, 39209, 39219, 39229, 39239, 39249, 39259, 39269, 39279, 39289, 39299, 39309, 39319, 39329, 39339, 39349, 39359, 39369, 39379, 39389, 39399, 39409, 39419, 39429, 39439, 39449, 39459, 39469, 39479, 39489, 39499, 39509, 39519, 39529, 39539, 39549, 39559, 39569, 39579, 39589, 39599, 39609, 39619, 39629, 39639, 39649, 39659, 39669, 39679, 39689, 39699, 39709, 39719, 39729, 39739, 39749, 39759, 39769, 39779, 39789, 39799, 39809, 39819, 39829, 39839, 39849, 39859, 39869, 39879, 39889, 39899, 39909, 39919, 39929, 39939, 39949, 39959, 39969, 39979, 39989, 39999, 40009, 40019, 40029, 40039, 40049, 40059, 40069, 40079, 40089, 40099, 40109, 40119, 40129, 40139, 40149, 40159, 40169, 40179, 40189, 40199, 40209, 40219, 40229, 40239, 40249, 40259, 40269, 40279, 40289, 40299, 40309, 40319, 40329, 40339, 40349, 40359, 40369, 40379, 40389, 40399, 40409, 40419, 40429, 40439, 40449, 40459, 40469, 40479, 40489, 40499, 40509, 40519, 40529, 40539, 40549, 40559, 40569, 40579, 40589, 40599, 40609, 40619, 40629, 40639, 40649, 40659, 40669, 40679, 40689, 40699, 40709, 40719, 40729, 40739, 40749, 40759, 40769, 40779, 40789, 40799, 40809, 40819, 40829, 40839, 40849, 40859, 40869, 40879, 40889, 40899, 40909, 40919, 40929, 40939, 40949, 40959, 40969, 40979, 40989, 40999, 41009, 41019, 41029, 41039, 41049, 41059, 41069, 41079, 41089, 41099, 41109, 41119, 41129, 41139, 41149, 41159, 41169, 41179, 41189, 41199, 41209, 41219, 41229, 41239, 41249, 41259, 41269, 41279, 41289, 41299, 41309, 41319, 41329, 41339, 41349, 41359, 41369, 41379, 41389, 41399, 41409, 41419, 41429, 41439, 41449, 41459, 41469, 41479, 41489, 41499, 41509, 41519, 41529, 41539, 41549, 41559, 41569, 41579, 41589, 41599, 41609, 41619, 41629, 41639, 41649, 41659, 41669, 41679, 41689, 41699, 41709, 41719, 41729, 41739, 41749, 41759, 41769, 41779, 41789, 41799, 41809, 41819, 41829, 41839, 41849, 41859, 41869, 41879, 41889, 41899, 41909, 41919, 41929, 41939, 41949, 41959, 41969, 41979, 41989, 41999, 42009, 42019, 42029, 42039, 42049, 42059, 42069, 42079, 42089, 42099, 42109, 42119, 42129, 42139, 42149, 42159, 42169, 42179, 42189, 42199, 42209, 42219, 42229, 42239, 42249, 42259, 42269, 42279, 42289, 42299, 42309, 42319, 42329, 42339, 42349, 42359, 42369, 42379, 42389, 42399, 42409, 42419, 42429, 42439, 42449, 42459, 42469, 42479, 42489, 42499, 42509, 42519, 42529, 42539, 42549, 42559, 42569, 42579, 42589, 42599, 42609, 42619, 42629, 42639, 42649, 42659, 42669, 42679, 42689, 42699, 42709, 42719, 42729, 42739, 42749, 42759, 42769, 42779, 42789, 42799, 42809, 42819, 42829, 42839, 42849, 42859, 42869, 42879, 42889, 42899, 42909, 42919, 42929, 42939, 42949, 42959, 42969, 42979, 42989, 42999, 43009, 43019, 43029, 43039, 43049, 43059, 43069, 43079, 43089, 43099, 43109, 43119, 43129, 43139, 43149, 43159, 43169, 43179, 43189, 43199, 43209, 43219, 43229, 43239, 43249, 43259, 43269, 43279, 43289, 43299, 43309, 43319, 43329, 43339, 43349, 43359, 43369, 43379, 43389, 43399, 43409, 43419, 43429, 43439, 43449, 43459, 43469, 43479, 43489, 43499, 43509, 43519, 43529, 43539, 43549, 43559, 43569, 43579, 43589, 43599, 43609, 43619, 43629, 43639, 43649, 43659, 43669, 43679, 43689, 43699, 43709, 43719, 43729, 43739, 43749, 43759, 43769, 43779, 43789, 43799, 43809, 43819, 43829, 43839, 43849, 43859, 43869, 43879, 43889, 43899, 43909, 43919, 43929, 43939, 43949, 43959, 43969, 43979, 43989, 43999, 44009, 44019, 44029, 44039, 44049, 44059, 44069, 44079, 44089, 44099, 44109, 44119, 44129, 44139, 44149, 44159, 44169, 44179, 44189, 44199, 44209, 44219, 44229, 44239, 44249, 44259, 44269, 44279, 44289, 44299, 44309, 44319, 44329, 44339, 44349, 44359, 44369, 44379, 44389, 44399, 44409, 44419, 44429, 44439, 44449, 44459, 44469, 44479, 44489, 44499, 44509, 44519, 44529, 44539, 44549, 44559, 44569, 44579, 44589, 44599, 44609, 44619, 44629, 44639, 44649, 44659, 44669, 44679, 44689, 44699, 44709, 44719, 44729, 44739, 44749, 44759, 44769, 44779, 44789, 44799, 44809, 44819, 44829, 44839, 44849, 44859, 44869, 44879, 44889, 44899, 44909, 44919, 44929, 44939, 44949, 44959, 44969, 44979, 44989, 44999, 45009, 45019, 45029, 45039, 45049, 45059, 45069, 45079, 45089, 45099, 45109, 45119, 45129, 45139, 45149, 45159, 45169, 45179, 45189, 45199, 45209, 45219, 45229, 45239, 45249, 45259, 45269, 45279, 45289, 45299, 45309, 45319, 45329, 45339, 45349, 45359, 45369, 45379, 45389, 45399, 45409, 45419, 45429, 45439, 45449, 45459, 45469, 45479, 45489, 45499, 45509, 45519, 45529, 45539, 45549, 45559, 45569, 45579, 45589, 45599, 45609, 45619, 45629, 45639, 45649, 45659, 45669, 45679, 45689, 45699, 45709, 45719, 45729, 45739, 45749, 45759, 45769, 45779, 45789, 45799, 45809, 45819, 45829, 45839, 45849, 45859, 45869, 45879, 45889, 45899, 45909, 45919, 45929, 45939, 45949, 45959, 45969, 45979, 45989, 45999, 46009, 46019, 46029, 46039, 46049, 46059, 46069, 46079, 46089, 46099, 46109, 46119, 46129, 46139, 46149, 46159, 46169, 46179, 46189, 46199, 46209, 46219, 46229, 46239, 46249, 46259, 46269, 46279, 46289, 46299, 46309, 46319, 46329, 46339, 46349, 46359, 46369, 46379, 46389, 46399, 46409, 46419, 46429, 46439, 46449, 46459, 46469, 46479, 46489, 46499, 46509, 46519, 46529, 46539, 46549, 46559, 46569, 46579, 46589, 46599, 46609, 46619, 46629, 46639, 46649, 46659, 46669, 46679, 46689, 46699, 46709, 46719, 46729, 46739, 46749, 46759, 46769, 46779, 46789, 46799, 46809, 46819, 46829, 46839, 46849, 46859, 46869, 46879, 46889, 46899, 46909, 46919, 46929, 46939, 46949, 46959, 46969, 46979, 46989, 46999, 47009, 47019, 47029, 47039, 47049, 47059, 47069, 47079, 47089, 47099, 47109, 47119, 47129, 47139, 47149, 47159, 47169, 47179, 47189, 47199, 47209, 47219, 47229, 47239, 47249, 47259, 47269, 47279, 47289, 47299, 47309, 47319, 47329, 47339, 47349, 47359, 47369, 47379, 47389, 47399, 47409, 47419, 47429, 47439, 47449, 47459, 47469, 47479, 47489, 47499, 47509, 47519, 47529, 47539, 47549, 47559, 47569, 47579, 47589, 47599, 47609, 47619, 47629, 47639, 47649, 47659, 47669, 47679, 47689, 47699, 47709, 47719, 47729, 47739, 47749, 47759, 47769, 47779, 47789, 47799, 47809, 47819, 47829, 47839, 47849, 47859, 47869, 47879, 47889, 47899, 47909, 47919, 47929, 47939, 47949, 47959, 47969, 47979, 47989, 47999, 48009, 48019, 48029, 48039, 48049, 48059, 48069, 48079, 48089, 48099, 48109, 48119, 48129, 48139, 48149, 48159, 48169, 48179, 48189, 48199, 48209, 48219, 48229, 48239, 48249, 48259, 48269, 48279, 48289, 48299, 48309, 48319, 48329, 48339, 48349, 48359, 48369, 48379, 48389, 48399, 48409, 48419, 48429, 48439, 48449, 48459, 48469, 48479, 48489, 48499, 48509, 48519, 48529, 48539, 48549, 48559, 48569, 48579, 48589, 48599, 48609, 48619, 48629, 48639, 48649, 48659, 48669, 48679, 48689, 48699, 48709, 48719, 48729, 48739, 48749, 48759, 48769, 48779, 48789, 48799, 48809, 48819, 48829, 48839, 48849, 48859, 48869, 48879, 48889, 48899, 48909, 48919, 48929, 48939, 48949, 48959, 48969, 48979, 48989, 48999, 49009, 49019, 49029, 49039, 49049, 49059, 49069, 49079, 49089, 49099, 49109, 49119, 49129, 49139, 49149, 49159, 49169, 49179, 49189, 49199, 49209, 49219, 49229, 49239, 49249, 49259, 49269, 49279, 49289, 49299, 49309, 49319, 49329, 49339, 49349, 49359, 49369, 49379, 49389, 49399, 49409, 49419, 49429, 49439, 49449, 49459, 49469, 49479, 49489, 49499, 49509, 49519, 49529, 49539, 49549, 49559, 49569, 49579, 49589, 49599, 49609, 49619, 49629, 49639, 49649, 49659, 49669, 49679, 49689, 49699, 49709, 49719, 49729, 49739, 49749, 49759, 49769, 49779, 49789, 49799, 49809, 49819, 49829, 49839, 49849, 49859, 49869, 49879, 49889, 49899, 49909, 49919, 49929, 49939, 49949, 49959, 49969, 49979, 49989, 49999]\n"
          ]
        }
      ],
      "source": [
        "# ファイル出力用モジュール\n",
        "import pickle\n",
        "\n",
        "#分類番号0のデータを集めるリスト\n",
        "myTrainDataIndexList = []\n",
        "\n",
        "# indexを10000-49999の範囲にしてループ\n",
        "for index in range(10000,50000):\n",
        "    # index番データの正解分類番号\n",
        "    classIdx=y_train_org[index][0]\n",
        "    # 正解分類番号が重点学習クラスならリストに追加\n",
        "    if(classIdx==int(CLASS_NO)):\n",
        "        myTrainDataIndexList.append(index)\n",
        "\n",
        "# リストサイズ出力\n",
        "print (len(myTrainDataIndexList))\n",
        "# リスト出力\n",
        "print (myTrainDataIndexList)\n",
        "# リストをtrainDataIndex.txtに出力\n",
        "np.savetxt('trainDataIndex.txt', myTrainDataIndexList, fmt='%d')"
      ]
    },
    {
      "cell_type": "markdown",
      "id": "ASA1lmKhDrf1",
      "metadata": {
        "id": "ASA1lmKhDrf1"
      },
      "source": [
        "## ファイルに記述した追加データを含めての学習データ作成\n",
        "以下のコードは，\n",
        "`'trainDataIndex.txt'`に出力されたデータを，ファイルの先頭から最大1000枚分を追加データとし，最初の10000枚と合わせます．グループ独自の訓練用画像データとして`my_x_train`, `my_y_train`とし，さらに正規化と1-hotベクトル化で`my_x_train_norm`, `my_y_train_onehot`とし，学習の準備をします．"
      ]
    },
    {
      "cell_type": "code",
      "execution_count": 391,
      "id": "JmD45tLYDrf1",
      "metadata": {
        "id": "JmD45tLYDrf1"
      },
      "outputs": [],
      "source": [
        "my_x_train=my_y_train = my_x_train_norm = my_y_train_onehot = np.zeros((1,1))\n",
        "\n",
        "#ファイルから1000枚のデータを追加する関数の定義\n",
        "def make_my_train(fileName):\n",
        "    global my_x_train, my_y_train, my_x_train_norm, my_y_train_onehot\n",
        "    # ファイル読み込み\n",
        "    addDataIdxList = np.loadtxt(fileName, dtype=int).tolist()\n",
        "    # 最大1000枚追加\n",
        "    addNum = min(len(addDataIdxList), 1000)  # 追加画像枚数\n",
        "\n",
        "    print('num of added data : ' + str(addNum))\n",
        "\n",
        "    addDataIdxList0 = addDataIdxList[:addNum]\n",
        "    # print(addDataIdxList0)\n",
        "\n",
        "    my_x_train=np.zeros((10000+addNum, 32, 32, 3), dtype=int)\n",
        "    my_y_train=np.zeros((10000+addNum, 1), dtype=int)\n",
        "    # 10000枚 x_train, y_trainから追加\n",
        "    for idx in range(0,10000):\n",
        "        # print ('my_x_train[{}] <- x_train_org[{}]'.format(idx,idx))\n",
        "        my_x_train[idx,:,:,:] = x_train_org[idx,:,:,:]\n",
        "        my_y_train[idx,:] = y_train_org[idx,:]\n",
        "    # ファイル指定分を追加\n",
        "    for idx0, idx1 in zip(range(10000,10000+addNum), addDataIdxList0):\n",
        "        # print ('my_x_train[{}] <- x_train_org[{}]'.format(idx0,idx1))\n",
        "        my_x_train[idx0,:,:,:] = x_train_org[idx1,:,:,:]\n",
        "        my_y_train[idx0,:] = y_train_org[idx1,:]\n",
        "\n",
        "    #正規化と1-hot-ベクトル化\n",
        "    my_x_train_norm = my_x_train/255.0\n",
        "    my_y_train_onehot = to_categorical(my_y_train, 10)"
      ]
    },
    {
      "cell_type": "code",
      "execution_count": null,
      "id": "80Ur70BQDrf2",
      "metadata": {
        "id": "80Ur70BQDrf2",
        "colab": {
          "base_uri": "https://localhost:8080/"
        },
        "outputId": "6c1283b3-1e85-4632-c15f-30c4e126f3f0"
      },
      "outputs": [
        {
          "output_type": "stream",
          "name": "stdout",
          "text": [
            "num of added data : 1000\n"
          ]
        }
      ],
      "source": [
        "#上記の関数を利用したデータ追加処理\n",
        "make_my_train('trainDataIndex.txt')"
      ]
    },
    {
      "cell_type": "markdown",
      "id": "ZbHX__e6Drf2",
      "metadata": {
        "id": "ZbHX__e6Drf2"
      },
      "source": [
        "## 認識用CNNモデルの定義\n",
        "\n",
        "認識用CNNモデルです．グループワークにおいて，モデルを修正するには，ここのパラメータを直接に変更・修正することが簡単な方法です．\n",
        "\n"
      ]
    },
    {
      "cell_type": "code",
      "execution_count": null,
      "id": "HNL2wKHKDrf3",
      "metadata": {
        "id": "HNL2wKHKDrf3"
      },
      "outputs": [],
      "source": [
        "# CNNの構築\n",
        "from keras.layers import Activation, Conv2D, Dense, Dropout, Flatten, Input, MaxPooling2D\n",
        "from keras.models import Sequential, load_model\n",
        "\n",
        "### 学習の再現性を保つため乱数のseedを固定\n",
        "### (毎回異なる乱数にすると何が原因で精度が変化したかがわかりにくくなるため)\n",
        "###tf.keras.utils.set_random_seed(1)\n",
        "###tf.config.experimental.enable_op_determinism()\n",
        "\n",
        "# 入力層をInputオブジェクトを使って定義\n",
        "input_layer = Input(shape=(32, 32, 3))\n",
        "\n",
        "# CNNモデルの作成．このモデルにaddされた演算が，順番に実行される\n",
        "model = Sequential()\n",
        "\n",
        "# 最初の層として入力層を追加\n",
        "model.add(input_layer)\n",
        "\n",
        "model.add(Conv2D(67, (3, 3), padding='same')) # 1層目の畳み込み．出力チャネル数32\n",
        "model.add(Activation('relu')) # 1層目の活性化関数\n",
        "model.add(Conv2D(102, (3, 3))) # 2層目の畳み込み，出力チャネル数32\n",
        "model.add(Activation('relu')) # 2層目の活性化関数\n",
        "model.add(MaxPooling2D(pool_size=(2, 2))) # maxpoolingで縦横半分のサイズに\n",
        "model.add(Dropout(0.75)) #ドロップアウト\n",
        "\n",
        "model.add(Conv2D(64, (3, 3), padding='same')) # 3層目の畳み込み．出力チャネル数64\n",
        "model.add(Activation('relu')) # 3層目の活性化関数\n",
        "model.add(Conv2D(64, (3, 3))) # 4層目の畳み込み．出力チャネル数64\n",
        "model.add(Activation('relu')) # 4層目の活性化関数\n",
        "model.add(MaxPooling2D(pool_size=(2, 2))) # maxpoolingで縦横半分のサイズに\n",
        "model.add(Dropout(0.25)) #ドロップアウト\n",
        "\n",
        "model.add(Flatten())  # 画像を通常のベクトルに\n",
        "model.add(Dense(512))  # 全結合NN 出力ノード数512\n",
        "model.add(Activation('relu')) #活性化関数\n",
        "model.add(Dropout(0.5)) #ドロップアウト\n",
        "model.add(Dense(10)) # 全結合NN (出力ノード数10: 最終層の出力ノード数は10にする必要がある)\n",
        "model.add(Activation('softmax')) #活性化関数"
      ]
    },
    {
      "cell_type": "markdown",
      "id": "8fq37OAQDrf3",
      "metadata": {
        "id": "8fq37OAQDrf3"
      },
      "source": [
        "## CNNモデルの表示"
      ]
    },
    {
      "cell_type": "code",
      "execution_count": null,
      "id": "MF7zyNmMDrf3",
      "metadata": {
        "id": "MF7zyNmMDrf3"
      },
      "outputs": [],
      "source": [
        "model.summary()"
      ]
    },
    {
      "cell_type": "markdown",
      "id": "KGQzTO8SDrf3",
      "metadata": {
        "id": "KGQzTO8SDrf3"
      },
      "source": [
        "## CNNモデルのコンパイル"
      ]
    },
    {
      "cell_type": "code",
      "execution_count": null,
      "id": "VA-iLx73Drf3",
      "metadata": {
        "id": "VA-iLx73Drf3"
      },
      "outputs": [],
      "source": [
        "model.compile(loss='categorical_crossentropy',optimizer='SGD',metrics=['accuracy'])\n",
        "\n",
        "# 学習前のモデルを保存\n",
        "model.save('./CIFAR-10-notrained.keras')"
      ]
    },
    {
      "cell_type": "markdown",
      "id": "HogSjpouDrf3",
      "metadata": {
        "id": "HogSjpouDrf3"
      },
      "source": [
        "## データ水増し方法の定義"
      ]
    },
    {
      "cell_type": "code",
      "execution_count": null,
      "id": "C6LnOUSGDrf4",
      "metadata": {
        "id": "C6LnOUSGDrf4"
      },
      "outputs": [],
      "source": [
        "# データの水増し用の変換オブジェクト(ImageDataGeneratorクラス)の\n",
        "# インスタンスを作成し，\n",
        "# datagenという変数名で利用する\n",
        "import tensorflow as tf\n",
        "from keras.preprocessing.image import ImageDataGenerator\n",
        "\n",
        "datagen = ImageDataGenerator(\n",
        "    rotation_range=10,\n",
        "    width_shift_range=0.1,\n",
        "    zoom_range=[0.8,1.2],\n",
        "    horizontal_flip=True,\n",
        "    channel_shift_range=0.2\n",
        ")"
      ]
    },
    {
      "cell_type": "markdown",
      "id": "K3Nt887-Drf4",
      "metadata": {
        "id": "K3Nt887-Drf4"
      },
      "source": [
        "## 水増しデータの表示"
      ]
    },
    {
      "cell_type": "code",
      "execution_count": null,
      "id": "9a7I3ORPDrf4",
      "metadata": {
        "id": "9a7I3ORPDrf4"
      },
      "outputs": [],
      "source": [
        "# datagenで，my_x_train_norm[0]から，M*N枚のデータを作成する\n",
        "# my_x_train_norm[0]が様々に変形される\n",
        "#M=1\n",
        "#N=5\n",
        "#plt.figure(figsize=(N*2,M*2))\n",
        "#for index in range(M*N):\n",
        "    #cifar_img=plt.subplot(M,N,index+1)\n",
        "    #plt.imshow(datagen.flow(np.array([my_x_train_norm[0]]), batch_size=1)[0][0])\n",
        "    #plt.tick_params(left=False, labelleft=False)\n",
        "    #plt.tick_params(bottom=False, labelbottom=False)\n",
        "    #plt.title(\"{}\".format(index))\n",
        "\n",
        "#plt.show()"
      ]
    },
    {
      "cell_type": "markdown",
      "id": "Hn1ooodbDrf4",
      "metadata": {
        "id": "Hn1ooodbDrf4"
      },
      "source": [
        "## 水増しデータによるCNNモデルの学習"
      ]
    },
    {
      "cell_type": "code",
      "execution_count": 392,
      "id": "-a_01zjFDrf4",
      "metadata": {
        "id": "-a_01zjFDrf4",
        "colab": {
          "base_uri": "https://localhost:8080/",
          "height": 803
        },
        "outputId": "ace3bba7-755b-4206-9218-1de44ea561f4"
      },
      "outputs": [
        {
          "output_type": "stream",
          "name": "stderr",
          "text": [
            "WARNING:absl:Skipping variable loading for optimizer 'SGD', because it has 13 variables whereas the saved optimizer has 1 variables. \n"
          ]
        },
        {
          "output_type": "stream",
          "name": "stdout",
          "text": [
            "Epoch 1/20\n"
          ]
        },
        {
          "output_type": "error",
          "ename": "ValueError",
          "evalue": "in user code:\n\n    File \"/usr/local/lib/python3.10/dist-packages/keras/src/engine/training.py\", line 1401, in train_function  *\n        return step_function(self, iterator)\n    File \"/usr/local/lib/python3.10/dist-packages/keras/src/engine/training.py\", line 1384, in step_function  **\n        outputs = model.distribute_strategy.run(run_step, args=(data,))\n    File \"/usr/local/lib/python3.10/dist-packages/keras/src/engine/training.py\", line 1373, in run_step  **\n        outputs = model.train_step(data)\n    File \"/usr/local/lib/python3.10/dist-packages/keras/src/engine/training.py\", line 1150, in train_step\n        y_pred = self(x, training=True)\n    File \"/usr/local/lib/python3.10/dist-packages/keras/src/utils/traceback_utils.py\", line 70, in error_handler\n        raise e.with_traceback(filtered_tb) from None\n    File \"/usr/local/lib/python3.10/dist-packages/keras/src/engine/input_spec.py\", line 253, in assert_input_compatibility\n        raise ValueError(\n\n    ValueError: Exception encountered when calling layer 'sequential_15' (type Sequential).\n    \n    Input 0 of layer \"conv2d_60\" is incompatible with the layer: expected min_ndim=4, found ndim=2. Full shape received: (None, 1)\n    \n    Call arguments received by layer 'sequential_15' (type Sequential):\n      • inputs=tf.Tensor(shape=(None, 1), dtype=float32)\n      • training=True\n      • mask=None\n",
          "traceback": [
            "\u001b[0;31m---------------------------------------------------------------------------\u001b[0m",
            "\u001b[0;31mValueError\u001b[0m                                Traceback (most recent call last)",
            "\u001b[0;32m<ipython-input-392-4125220815c7>\u001b[0m in \u001b[0;36m<cell line: 7>\u001b[0;34m()\u001b[0m\n\u001b[1;32m      5\u001b[0m \u001b[0;34m\u001b[0m\u001b[0m\n\u001b[1;32m      6\u001b[0m \u001b[0;31m#初期訓練（いきなり水増しデータで訓練すると，効率が悪い場合があるため）\u001b[0m\u001b[0;34m\u001b[0m\u001b[0;34m\u001b[0m\u001b[0m\n\u001b[0;32m----> 7\u001b[0;31m \u001b[0mhistory\u001b[0m \u001b[0;34m=\u001b[0m \u001b[0mmodel\u001b[0m\u001b[0;34m.\u001b[0m\u001b[0mfit\u001b[0m\u001b[0;34m(\u001b[0m\u001b[0mmy_x_train_norm\u001b[0m\u001b[0;34m,\u001b[0m \u001b[0mmy_y_train_onehot\u001b[0m\u001b[0;34m,\u001b[0m \u001b[0mepochs\u001b[0m\u001b[0;34m=\u001b[0m\u001b[0;36m20\u001b[0m\u001b[0;34m,\u001b[0m \u001b[0mvalidation_data\u001b[0m\u001b[0;34m=\u001b[0m\u001b[0;34m(\u001b[0m\u001b[0mx_test_org_norm\u001b[0m\u001b[0;34m,\u001b[0m \u001b[0my_test_org_onehot\u001b[0m\u001b[0;34m)\u001b[0m\u001b[0;34m)\u001b[0m\u001b[0;34m\u001b[0m\u001b[0;34m\u001b[0m\u001b[0m\n\u001b[0m\u001b[1;32m      8\u001b[0m \u001b[0;34m\u001b[0m\u001b[0m\n\u001b[1;32m      9\u001b[0m \u001b[0;31m# datagenでデータを変形しながら，my_x_train_normとmy_y_train_onehotの学習を行う．\u001b[0m\u001b[0;34m\u001b[0m\u001b[0;34m\u001b[0m\u001b[0m\n",
            "\u001b[0;32m/usr/local/lib/python3.10/dist-packages/keras/src/utils/traceback_utils.py\u001b[0m in \u001b[0;36merror_handler\u001b[0;34m(*args, **kwargs)\u001b[0m\n\u001b[1;32m     68\u001b[0m             \u001b[0;31m# To get the full stack trace, call:\u001b[0m\u001b[0;34m\u001b[0m\u001b[0;34m\u001b[0m\u001b[0m\n\u001b[1;32m     69\u001b[0m             \u001b[0;31m# `tf.debugging.disable_traceback_filtering()`\u001b[0m\u001b[0;34m\u001b[0m\u001b[0;34m\u001b[0m\u001b[0m\n\u001b[0;32m---> 70\u001b[0;31m             \u001b[0;32mraise\u001b[0m \u001b[0me\u001b[0m\u001b[0;34m.\u001b[0m\u001b[0mwith_traceback\u001b[0m\u001b[0;34m(\u001b[0m\u001b[0mfiltered_tb\u001b[0m\u001b[0;34m)\u001b[0m \u001b[0;32mfrom\u001b[0m \u001b[0;32mNone\u001b[0m\u001b[0;34m\u001b[0m\u001b[0;34m\u001b[0m\u001b[0m\n\u001b[0m\u001b[1;32m     71\u001b[0m         \u001b[0;32mfinally\u001b[0m\u001b[0;34m:\u001b[0m\u001b[0;34m\u001b[0m\u001b[0;34m\u001b[0m\u001b[0m\n\u001b[1;32m     72\u001b[0m             \u001b[0;32mdel\u001b[0m \u001b[0mfiltered_tb\u001b[0m\u001b[0;34m\u001b[0m\u001b[0;34m\u001b[0m\u001b[0m\n",
            "\u001b[0;32m/usr/local/lib/python3.10/dist-packages/keras/src/engine/training.py\u001b[0m in \u001b[0;36mtf__train_function\u001b[0;34m(iterator)\u001b[0m\n\u001b[1;32m     13\u001b[0m                 \u001b[0;32mtry\u001b[0m\u001b[0;34m:\u001b[0m\u001b[0;34m\u001b[0m\u001b[0;34m\u001b[0m\u001b[0m\n\u001b[1;32m     14\u001b[0m                     \u001b[0mdo_return\u001b[0m \u001b[0;34m=\u001b[0m \u001b[0;32mTrue\u001b[0m\u001b[0;34m\u001b[0m\u001b[0;34m\u001b[0m\u001b[0m\n\u001b[0;32m---> 15\u001b[0;31m                     \u001b[0mretval_\u001b[0m \u001b[0;34m=\u001b[0m \u001b[0mag__\u001b[0m\u001b[0;34m.\u001b[0m\u001b[0mconverted_call\u001b[0m\u001b[0;34m(\u001b[0m\u001b[0mag__\u001b[0m\u001b[0;34m.\u001b[0m\u001b[0mld\u001b[0m\u001b[0;34m(\u001b[0m\u001b[0mstep_function\u001b[0m\u001b[0;34m)\u001b[0m\u001b[0;34m,\u001b[0m \u001b[0;34m(\u001b[0m\u001b[0mag__\u001b[0m\u001b[0;34m.\u001b[0m\u001b[0mld\u001b[0m\u001b[0;34m(\u001b[0m\u001b[0mself\u001b[0m\u001b[0;34m)\u001b[0m\u001b[0;34m,\u001b[0m \u001b[0mag__\u001b[0m\u001b[0;34m.\u001b[0m\u001b[0mld\u001b[0m\u001b[0;34m(\u001b[0m\u001b[0miterator\u001b[0m\u001b[0;34m)\u001b[0m\u001b[0;34m)\u001b[0m\u001b[0;34m,\u001b[0m \u001b[0;32mNone\u001b[0m\u001b[0;34m,\u001b[0m \u001b[0mfscope\u001b[0m\u001b[0;34m)\u001b[0m\u001b[0;34m\u001b[0m\u001b[0;34m\u001b[0m\u001b[0m\n\u001b[0m\u001b[1;32m     16\u001b[0m                 \u001b[0;32mexcept\u001b[0m\u001b[0;34m:\u001b[0m\u001b[0;34m\u001b[0m\u001b[0;34m\u001b[0m\u001b[0m\n\u001b[1;32m     17\u001b[0m                     \u001b[0mdo_return\u001b[0m \u001b[0;34m=\u001b[0m \u001b[0;32mFalse\u001b[0m\u001b[0;34m\u001b[0m\u001b[0;34m\u001b[0m\u001b[0m\n",
            "\u001b[0;31mValueError\u001b[0m: in user code:\n\n    File \"/usr/local/lib/python3.10/dist-packages/keras/src/engine/training.py\", line 1401, in train_function  *\n        return step_function(self, iterator)\n    File \"/usr/local/lib/python3.10/dist-packages/keras/src/engine/training.py\", line 1384, in step_function  **\n        outputs = model.distribute_strategy.run(run_step, args=(data,))\n    File \"/usr/local/lib/python3.10/dist-packages/keras/src/engine/training.py\", line 1373, in run_step  **\n        outputs = model.train_step(data)\n    File \"/usr/local/lib/python3.10/dist-packages/keras/src/engine/training.py\", line 1150, in train_step\n        y_pred = self(x, training=True)\n    File \"/usr/local/lib/python3.10/dist-packages/keras/src/utils/traceback_utils.py\", line 70, in error_handler\n        raise e.with_traceback(filtered_tb) from None\n    File \"/usr/local/lib/python3.10/dist-packages/keras/src/engine/input_spec.py\", line 253, in assert_input_compatibility\n        raise ValueError(\n\n    ValueError: Exception encountered when calling layer 'sequential_15' (type Sequential).\n    \n    Input 0 of layer \"conv2d_60\" is incompatible with the layer: expected min_ndim=4, found ndim=2. Full shape received: (None, 1)\n    \n    Call arguments received by layer 'sequential_15' (type Sequential):\n      • inputs=tf.Tensor(shape=(None, 1), dtype=float32)\n      • training=True\n      • mask=None\n"
          ]
        }
      ],
      "source": [
        "batch_size=64\n",
        "\n",
        "#モデルの初期化\n",
        "model = load_model('./CIFAR-10-notrained.keras')\n",
        "\n",
        "#初期訓練（いきなり水増しデータで訓練すると，効率が悪い場合があるため）\n",
        "history = model.fit(my_x_train_norm, my_y_train_onehot, epochs=20, validation_data=(x_test_org_norm, y_test_org_onehot))\n",
        "\n",
        "# datagenでデータを変形しながら，my_x_train_normとmy_y_train_onehotの学習を行う．\n",
        "# 正解率(accuracy)は，テスト用データ(x_test_org_norm, y_test_org_onehot)で評価する．\n",
        "# 「過学習」を避けるために，正解率の評価には，訓練用データとは別の評価用データを使う．\n",
        "\n",
        "history=model.fit(\n",
        "    datagen.flow(my_x_train_norm, my_y_train_onehot, batch_size=batch_size),\n",
        "    validation_data=(x_test_org_norm, y_test_org_onehot),\n",
        "    steps_per_epoch=len(my_x_train_norm)/batch_size,\n",
        "    epochs=20\n",
        ")\n",
        "# このノートブック中で最後に保存したモデルが提出する学習済みCNNモデルになる．\n",
        "model.save(LEARNED_CNN_MODEL)"
      ]
    },
    {
      "cell_type": "markdown",
      "id": "MVj3LlcVDrf4",
      "metadata": {
        "id": "MVj3LlcVDrf4"
      },
      "source": [
        "## 学習時の損失関数と正解率の推移表示"
      ]
    },
    {
      "cell_type": "code",
      "execution_count": null,
      "id": "yeEm-YrXDrf4",
      "metadata": {
        "id": "yeEm-YrXDrf4"
      },
      "outputs": [],
      "source": [
        "#from pandas import DataFrame\n",
        "# 学習に伴う正解率の変化\n",
        "#DataFrame({'accuracy':history.history['accuracy'], 'val_accuracy': history.history['val_accuracy']}).plot()\n",
        "#plt.show()\n",
        "\n",
        "#DataFrame({'loss':history.history['loss'], 'val_loss': history.history['val_loss']}).plot()\n",
        "#plt.show()"
      ]
    },
    {
      "cell_type": "markdown",
      "id": "HdEwQGBbWVIs",
      "metadata": {
        "id": "HdEwQGBbWVIs"
      },
      "source": [
        "## 混同行列の表示"
      ]
    },
    {
      "cell_type": "code",
      "execution_count": null,
      "id": "lvtsI0H7UbL-",
      "metadata": {
        "id": "lvtsI0H7UbL-"
      },
      "outputs": [],
      "source": [
        "import pandas as pd\n",
        "import seaborn as sns\n",
        "from sklearn.metrics import confusion_matrix\n",
        "\n",
        "# 真のクラス\n",
        "true_classes = np.argmax(y_test_org_onehot,1)\n",
        "#print(\"true_classes=\",true_classes)\n",
        "\n",
        "# 予測したクラス\n",
        "predict_classes = np.argmax(model.predict(x_test_org_norm), axis = -1)\n",
        "#print(\"pred_classes=\",predict_classes)\n",
        "\n",
        "print(\"テストデータに対するconfusion_matrix\")\n",
        "cmx=confusion_matrix(true_classes, predict_classes)\n",
        "\n",
        "# Trueにすると正規化 ->　値/(行の合計)　axis=1\n",
        "normalize=False\n",
        "if normalize:\n",
        "    cmx = cmx.astype('float') / cmx.sum(axis=1)[:, np.newaxis]\n",
        "    cmx_title=\"confusion matrix (normalized)\"\n",
        "\n",
        "    # 桁数指定\n",
        "    cmx_fmt=\"1.2f\"\n",
        "else:\n",
        "    cmx_title=\"confusion matrix\"\n",
        "    cmx_fmt=\"g\"\n",
        "\n",
        "cmx_labeled = pd.DataFrame(cmx, columns=classNames, index=classNames)\n",
        "\n",
        "# 混同行列をcsvファイルに出力\n",
        "# cmx_labeled.to_csv('cmx_labeled.csv')\n",
        "\n",
        "# ヒートマップで表示\n",
        "fig, ax = plt.subplots(figsize=(8, 6))\n",
        "sns.heatmap(cmx_labeled, annot=True, fmt=cmx_fmt, cmap='Reds')\n",
        "ax.set_ylim(len(cmx_labeled), 0)\n",
        "ax.set_xlabel('Predicted label')\n",
        "ax.set_ylabel('True label')\n",
        "plt.title(cmx_title)\n",
        "plt.rcParams[\"font.size\"]=12\n",
        "plt.show()"
      ]
    },
    {
      "cell_type": "markdown",
      "id": "oVF-oiopDrf5",
      "metadata": {
        "id": "oVF-oiopDrf5"
      },
      "source": [
        "## コンテストでの正解率（重点学習クラスの重み付き）の計算\n",
        "\n",
        "コンテストで正解率を評価する関数は以下の通りです．この関数には，CNNモデルのファイル名と，評価用データの番号を並べたファイル名と，各班に指定された重点分類クラスの番号を入力します．重点分類クラスのデータの正解には，３倍の重みがあります．"
      ]
    },
    {
      "cell_type": "code",
      "execution_count": null,
      "id": "mWUCD0aWDrf5",
      "metadata": {
        "id": "mWUCD0aWDrf5"
      },
      "outputs": [],
      "source": [
        "# modelFileNameのファイル名で，kerasのニューラルネットワークモデルのファイルを指定\n",
        "# dataFileNameのファイル名で，評価用データの番号を並べたファイルを指定\n",
        "# specialLabelには，重点分類番号を与える\n",
        "def contest_demo(myModel, dataFileName, specialLabel):\n",
        "\n",
        "    # ファイル読み込み\n",
        "    dataIdxList = np.loadtxt(dataFileName, dtype=int).tolist()\n",
        "\n",
        "    countAll = 0\n",
        "    countCorrect = 0\n",
        "\n",
        "    for index in dataIdxList:\n",
        "        # 正解値\n",
        "        classIdx=y_test_org[index][0]\n",
        "        # 予測\n",
        "        preds = myModel.predict(x_test_org_norm[index:index+1])\n",
        "        maxpred = np.argmax(preds)\n",
        "\n",
        "        # 点数\n",
        "        point = 1 if (classIdx == maxpred) else 0\n",
        "\n",
        "        # 倍率\n",
        "        weight = 3 if (classIdx == specialLabel) else 1\n",
        "\n",
        "        # 点数カウント\n",
        "        countCorrect += (point*weight)\n",
        "        countAll += weight\n",
        "\n",
        "        print(' index:{}  answer:{}  prediction: {} point: {}'.format(index, classIdx, maxpred, point*weight))\n",
        "\n",
        "    print (' total:{}'.format(float(countCorrect)/countAll))"
      ]
    },
    {
      "cell_type": "markdown",
      "id": "0XrKktzwDrf5",
      "metadata": {
        "id": "0XrKktzwDrf5"
      },
      "source": [
        "コンテストでの評価デモの動かし方ですが，保存された認識モデルのファイル名，評価用データのファイル名と，重点学習クラスの番号を与えて動かします．\n",
        "\n",
        "評価用データは，実際のコンテストでは教員から提供されますが，とりあえずテスト用に，0,1,2,...,99という番号のファイルを`'contestDataTest.txt'`として作ってみましょう．\n",
        "以下のセルで作成されます．"
      ]
    },
    {
      "cell_type": "code",
      "execution_count": null,
      "id": "Da7dSw-CDrf6",
      "metadata": {
        "id": "Da7dSw-CDrf6"
      },
      "outputs": [],
      "source": [
        "#### USEFULL FOR GROUPWORK\n",
        "# 学習済みモデルの優劣を調べるには毎回同じ評価データを使用して比較する\n",
        "# ただし特定のデータに対して過学習してしまうことも考えられるため異なる評価データで試してみることも必要\n",
        "\n",
        "# 最初の画像の番号(過学習が考えられる場合はここを変更)\n",
        "START=0\n",
        "# 評価する画像の枚数(すべての評価用データを使用すると時間がかかるため任意の枚数でよい)\n",
        "NUM=100\n",
        "\n",
        "START=min(START,10000-NUM)\n",
        "numList=[]\n",
        "for i in range(START,START+NUM):\n",
        "    numList.append(i)\n",
        "# ファイル出力\n",
        "np.savetxt('contestDataTest.txt', numList, fmt='%d')"
      ]
    },
    {
      "cell_type": "markdown",
      "id": "avRTUhajDrf6",
      "metadata": {
        "id": "avRTUhajDrf6"
      },
      "source": [
        "`'contestDataTest.txt'`に出力された番号を確認してみてください．\n",
        "このファイルを用いて評価を行う場合，以下のように実行します．"
      ]
    },
    {
      "cell_type": "code",
      "execution_count": null,
      "id": "fVd36KYYDrf6",
      "metadata": {
        "id": "fVd36KYYDrf6"
      },
      "outputs": [],
      "source": [
        "# モデルの読み込み\n",
        "mymodel = load_model(LEARNED_CNN_MODEL)\n",
        "\n",
        "# 評価\n",
        "contest_demo(mymodel, './contestDataTest.txt', int(CLASS_NO))\n",
        "\n",
        "print('\\n以下のモデルを評価しました．')\n",
        "print('学習済みCNNモデル：' + LEARNED_CNN_MODEL + ' (' + current_dir + 'に保存)')"
      ]
    },
    {
      "cell_type": "code",
      "source": [
        "#import numpy as np\n",
        "#import IPython\n",
        "\n",
        "#rate = 48000\n",
        "#duration = 1.0\n",
        "#t = np.linspace(0., duration, int(rate*duration))\n",
        "#x = np.sin(2.0*np.pi*440.0*t)\n",
        "#IPython.display.Audio(x, rate=rate, autoplay=True)"
      ],
      "metadata": {
        "id": "FqIGY--yoRq4"
      },
      "id": "FqIGY--yoRq4",
      "execution_count": null,
      "outputs": []
    },
    {
      "cell_type": "markdown",
      "id": "-ULbIpWvDrf6",
      "metadata": {
        "id": "-ULbIpWvDrf6"
      },
      "source": [
        "## 終わりに\n",
        "\n",
        "このノートブックは，グループワークに必要な作業のセルを集めて再構成したものです．このノートブックを修正して，実行することで，グループワークで必要なデータを集めることができます．\n",
        "\n",
        "修正する場合には，元のファイルのバックアップを取っておきましょう．元の実装との性能比較を行う際に役立ちます．\n",
        "\n",
        "このノートブックの内容を大きく修正しなくても，グループワークは可能ですが，学習済みのCNNモデルによる判定を，学習データの選定に使いたい，といったことがある場合には，一度学習を行った後で，学習データ選定のコードを実行したいかもしれません．そうした場合には，前のほうのセルの内容を，後の方にコピーして実行するなどの方法が必要です．\n"
      ]
    }
  ],
  "metadata": {
    "accelerator": "GPU",
    "colab": {
      "gpuType": "T4",
      "provenance": [],
      "toc_visible": true,
      "include_colab_link": true
    },
    "kernelspec": {
      "display_name": "Python 3",
      "name": "python3"
    },
    "language_info": {
      "codemirror_mode": {
        "name": "ipython",
        "version": 3
      },
      "file_extension": ".py",
      "mimetype": "text/x-python",
      "name": "python",
      "nbconvert_exporter": "python",
      "pygments_lexer": "ipython3",
      "version": "3.8.10"
    }
  },
  "nbformat": 4,
  "nbformat_minor": 5
}